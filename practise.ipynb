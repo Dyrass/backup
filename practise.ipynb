{
 "cells": [
  {
   "cell_type": "code",
   "execution_count": 1,
   "metadata": {},
   "outputs": [
    {
     "name": "stdout",
     "output_type": "stream",
     "text": [
      "1\n",
      "2\n",
      "3\n",
      "4\n",
      "5\n"
     ]
    }
   ],
   "source": [
    "def rec(n):\n",
    "    if n == 0:\n",
    "        return\n",
    "    rec(n - 1)\n",
    "    print(n)\n",
    "\n",
    "\n",
    "rec(5)"
   ]
  },
  {
   "cell_type": "code",
   "execution_count": 19,
   "metadata": {},
   "outputs": [
    {
     "name": "stdout",
     "output_type": "stream",
     "text": [
      "10\n"
     ]
    }
   ],
   "source": [
    "num = 1342\n",
    "\n",
    "ans = 0\n",
    "\n",
    "while num:\n",
    "    temp = num % 10\n",
    "    ans += temp\n",
    "    num //= 10\n",
    "\n",
    "\n",
    "def add(num):\n",
    "    if not num:\n",
    "        return 0\n",
    "\n",
    "    return num % 10 + add(num // 10)\n",
    "\n",
    "\n",
    "print(add(1342))"
   ]
  },
  {
   "cell_type": "code",
   "execution_count": 30,
   "metadata": {},
   "outputs": [
    {
     "name": "stdout",
     "output_type": "stream",
     "text": [
      "0\n"
     ]
    }
   ],
   "source": [
    "n = 0\n",
    "\n",
    "\n",
    "def count_zero(n):\n",
    "    if not n:\n",
    "        return 0\n",
    "    if n % 10 == 0:\n",
    "        temp = 1\n",
    "    else:\n",
    "        temp = 0\n",
    "    return temp + count_zero(n // 10)\n",
    "\n",
    "\n",
    "print(count_zero(n))"
   ]
  },
  {
   "cell_type": "code",
   "execution_count": 27,
   "metadata": {},
   "outputs": [
    {
     "name": "stdout",
     "output_type": "stream",
     "text": [
      "5050\n"
     ]
    }
   ],
   "source": [
    "def generate_values(n):\n",
    "    i = 0\n",
    "    while i <= n:\n",
    "        yield i\n",
    "        i += 1\n",
    "\n",
    "\n",
    "sum_of = 0\n",
    "for i in generate_values(100):\n",
    "    sum_of += i\n",
    "\n",
    "print(sum_of)"
   ]
  },
  {
   "cell_type": "code",
   "execution_count": 17,
   "metadata": {},
   "outputs": [
    {
     "name": "stdout",
     "output_type": "stream",
     "text": [
      "  * * * * * \n",
      "   * * * * \n",
      "    * * * \n",
      "     * * \n",
      "      * \n",
      "     * * \n",
      "    * * * \n",
      "   * * * * \n",
      "  * * * * * \n"
     ]
    }
   ],
   "source": [
    "def pattern(n, space=1):\n",
    "    if n == 0:\n",
    "        return\n",
    "    print(\" \" * space, \"* \" * n)\n",
    "    pattern(n - 1, space + 1)\n",
    "    if n != 1:\n",
    "        print(\" \" * space, \"* \" * n)\n",
    "\n",
    "\n",
    "pattern(5)"
   ]
  },
  {
   "cell_type": "code",
   "execution_count": 35,
   "metadata": {},
   "outputs": [
    {
     "name": "stdout",
     "output_type": "stream",
     "text": [
      "*        * \n",
      "**      ** \n",
      "***    *** \n",
      "****  **** \n",
      "********** \n",
      "****  **** \n",
      "***    *** \n",
      "**      ** \n",
      "*        * \n",
      "           \n"
     ]
    }
   ],
   "source": [
    "def pattern(n):\n",
    "    l = 0\n",
    "    r = n - 1\n",
    "    reverse = False\n",
    "    for i in range(n):\n",
    "        if i == n / 2 - 1:\n",
    "            reverse = True\n",
    "        for j in range(n):\n",
    "            if j <= l or j >= r:\n",
    "                print(\"*\", end=\"\")\n",
    "\n",
    "            else:\n",
    "                print(\" \", end=\"\")\n",
    "\n",
    "        if reverse is False:\n",
    "            l += 1\n",
    "            r -= 1\n",
    "        else:\n",
    "            l -= 1\n",
    "            r += 1\n",
    "        print(\" \")\n",
    "\n",
    "\n",
    "pattern(10)"
   ]
  },
  {
   "cell_type": "markdown",
   "metadata": {},
   "source": [
    "*        *\n",
    "**      **\n",
    "***    ***\n",
    "****  ****\n",
    "**********\n",
    "****  ****\n",
    "***    ***\n",
    "**      **\n",
    "*        *"
   ]
  },
  {
   "cell_type": "code",
   "execution_count": null,
   "metadata": {},
   "outputs": [],
   "source": [
    "def pattern(n, space=0):\n",
    "    if n <= 1:\n",
    "        print(\"*\" * space * 2)\n",
    "        return\n",
    "    print(\"*\" * space, \" \" * (n - 2), \"*\" * space)\n",
    "    pattern((n - 2), space + 1)\n",
    "    print(\"*\" * space, \" \" * (n - 2), \"*\" * space)\n",
    "\n",
    "\n",
    "pattern(10)"
   ]
  },
  {
   "cell_type": "code",
   "execution_count": 12,
   "metadata": {},
   "outputs": [
    {
     "name": "stdout",
     "output_type": "stream",
     "text": [
      "{'a': 1, 's': 1, 'd': 1}\n"
     ]
    }
   ],
   "source": [
    "words = [\"cat\", \"bt\", \"hat\", \"tree\"]\n",
    "s = {i: 1 for i in \"asdasd\"}\n",
    "print(s)"
   ]
  },
  {
   "cell_type": "code",
   "execution_count": 3,
   "metadata": {
    "vscode": {
     "languageId": "javascript"
    }
   },
   "outputs": [
    {
     "ename": "NameError",
     "evalue": "name 'y' is not defined",
     "output_type": "error",
     "traceback": [
      "\u001b[0;31m---------------------------------------------------------------------------\u001b[0m",
      "\u001b[0;31mNameError\u001b[0m                                 Traceback (most recent call last)",
      "\u001b[1;32m/home/arvind/prog/practise.ipynb Cell 10\u001b[0m line \u001b[0;36m1\n\u001b[0;32m----> <a href='vscode-notebook-cell:/home/arvind/prog/practise.ipynb#X12sZmlsZQ%3D%3D?line=0'>1</a>\u001b[0m x \u001b[39m=\u001b[39m y\u001b[39m^\u001b[39m\u001b[39m2\u001b[39m\n",
      "\u001b[0;31mNameError\u001b[0m: name 'y' is not defined"
     ]
    }
   ],
   "source": [
    "{\n",
    "    RasterScan: 3\n",
    "    RandomScan: 3\n",
    "    Flood_Fill: 3\n",
    "    Mid_Point_Circle_Algorithm: 2\n",
    "    \"Bresenham Line Algorithm\"\n",
    "    {\n",
    "        'Steps require to plot a line whose slope is between x and y ';\n",
    "        'Indcate which raster location would be choosen by Bresenham when scan converting a line.';\n",
    "    }\n",
    "    'RandomScan Systems'\n",
    "    'CyrusBeck Line Clipping'\n",
    "    \"Cohen Sutherland\"\n",
    "    Transformation: {\n",
    "        '2D Transformation'\n",
    "        'Normalization'\n",
    "        'Transformation'\n",
    "    }\n",
    "    Polygon: {\n",
    "        'Rendering and Its methods'\n",
    "    }\n",
    "    BezierSurface: 2\n",
    "    BezierCurve: 2\n",
    "    HermitCurve: 3\n",
    "    B_SplineSurfaces: 2\n",
    "}"
   ]
  },
  {
   "cell_type": "code",
   "execution_count": 35,
   "metadata": {},
   "outputs": [
    {
     "name": "stdout",
     "output_type": "stream",
     "text": [
      "54601\n"
     ]
    }
   ],
   "source": [
    "string = []\n",
    "with open(\"input.txt\") as file:\n",
    "    for i in file:\n",
    "        string.append(i)\n",
    "\n",
    "maped = {\"0\": 0, \"1\": 1, \"2\": 2, \"3\": 3, \"4\": 4, \"5\": 5, \"6\": 6, \"7\": 7, \"8\": 8, \"9\": 9}\n",
    "ans = 0\n",
    "for word in string:\n",
    "    left = 0\n",
    "    right = len(word) - 1\n",
    "    while True:\n",
    "        if word[left] in maped and word[right] in maped:\n",
    "            ans += int(word[left] + word[right])\n",
    "            break\n",
    "        elif word[left] in maped and word[right] not in maped:\n",
    "            right -= 1\n",
    "        elif word[right] in maped and word[left] not in maped:\n",
    "            left += 1\n",
    "        else:\n",
    "            left += 1\n",
    "            right -= 1\n",
    "\n",
    "print(ans)"
   ]
  },
  {
   "cell_type": "code",
   "execution_count": 32,
   "metadata": {},
   "outputs": [],
   "source": [
    "string = []\n",
    "with open(\"input.txt\") as file:\n",
    "    for i in file:\n",
    "        string.append(i)\n",
    "\n",
    "maped = {\"0\": 0, \"1\": 1, \"2\": 2, \"3\": 3, \"4\": 4, \"5\": 5, \"6\": 6, \"7\": 7, \"8\": 8, \"9\": 9}\n",
    "ans = 0\n",
    "for word in string:\n",
    "    left = 0\n",
    "    right = len(word) - 1\n",
    "    while True:\n",
    "        WLM = word[left] in maped\n",
    "        WRM = word[right] in maped\n",
    "        if WLM and WRM:\n",
    "            ans += int(word[left] + word[right])\n",
    "            break\n",
    "        elif WLM and not WRM:\n",
    "            right -= 1\n",
    "        elif WRM and not WLM:\n",
    "            left += 1\n",
    "        else:\n",
    "            left += 1\n",
    "            right -= 1\n",
    "\n",
    "print(ans)"
   ]
  },
  {
   "cell_type": "code",
   "execution_count": null,
   "metadata": {},
   "outputs": [],
   "source": [
    "for i in range(1000):\n",
    "    if i % 7 == 0:\n",
    "        print(i, i // 7)"
   ]
  },
  {
   "cell_type": "code",
   "execution_count": 3,
   "metadata": {},
   "outputs": [
    {
     "data": {
      "text/plain": [
       "False"
      ]
     },
     "execution_count": 3,
     "metadata": {},
     "output_type": "execute_result"
    }
   ],
   "source": [
    "def isSorted(array, i=1):\n",
    "    if array[i] < array[i - 1]:\n",
    "        return False\n",
    "    elif i == len(array) - 1:\n",
    "        return True\n",
    "    return isSorted(array, i + 1)\n",
    "\n",
    "\n",
    "a = [1, 11, 2, 3, 4, 5, 6, 7, 8, 9]\n",
    "\n",
    "isSorted(a)"
   ]
  },
  {
   "cell_type": "code",
   "execution_count": 4,
   "metadata": {},
   "outputs": [
    {
     "data": {
      "text/plain": [
       "11"
      ]
     },
     "execution_count": 4,
     "metadata": {},
     "output_type": "execute_result"
    }
   ],
   "source": [
    "def recursiveLinear(array, target, i=0):\n",
    "    if array[i] == target:\n",
    "        return i\n",
    "    elif i >= len(array):\n",
    "        return -1\n",
    "    return recursiveLinear(array, target, i + 1)\n",
    "\n",
    "\n",
    "a = [1, 11, 2, 3, 4, 5, 6, 7, 8, 9, 20, 13, 23, 45, 64, 812, 131, 1211]\n",
    "recursiveLinear(a, 13)"
   ]
  },
  {
   "cell_type": "code",
   "execution_count": 1,
   "metadata": {},
   "outputs": [
    {
     "name": "stdout",
     "output_type": "stream",
     "text": [
      "0 1\n",
      "1 2\n",
      "2 2\n",
      "3 3\n"
     ]
    }
   ],
   "source": [
    "li = [1, \"2\", 2, \"3\"]\n",
    "\n",
    "for i, j in enumerate(li):\n",
    "    print(i, j)"
   ]
  },
  {
   "cell_type": "code",
   "execution_count": 18,
   "metadata": {},
   "outputs": [
    {
     "name": "stdout",
     "output_type": "stream",
     "text": [
      "['so2', '4ks', 'n4o', 'dms', 'ols', 'dfk', 'nmk', 'skl', 'dmf', 'km4']\n"
     ]
    }
   ],
   "source": [
    "import re\n",
    "\n",
    "pattern = re.compile(r\"\\w{3}\")\n",
    "\n",
    "text = \"so24ksos n4odmsmk olsdfk4m nmkskldmfkm4  kl\"\n",
    "\n",
    "matchobject = pattern.findall(text)\n",
    "\n",
    "print(matchobject)"
   ]
  },
  {
   "cell_type": "code",
   "execution_count": null,
   "metadata": {},
   "outputs": [],
   "source": [
    "class FoodRatings:\n",
    "    def __init__(self, foods: list[str], cuisines: list[str], ratings: list[int]):\n",
    "        self.highest = 0\n",
    "        self.hifood = \"\"\n",
    "        self.hashmap = {}\n",
    "        for food, cusine, ratin in zip(foods, cuisines, ratings):\n",
    "            if ratin > self.highest:\n",
    "                self.highest = ratin\n",
    "                self.hifood = food\n",
    "            self.hashmap[food] = [ratin, cusine]\n",
    "\n",
    "    def changeRating(self, food: str, newRating: int) -> None:\n",
    "        if newRating > self.highest:\n",
    "            self.highest = newRating\n",
    "            self.hifood = food\n",
    "        self.hashmap[food] = [self.hashmap[food][0], newRating]\n",
    "\n",
    "    def highestRated(self, cuisine: str) -> str:\n",
    "        match = []\n",
    "        for key, val in self.hashmap.items:\n",
    "            if val[0] == cuisine:\n",
    "                match.append([key, val[1]])\n",
    "\n",
    "        match = sorted(match)\n",
    "        return match[0][0]"
   ]
  },
  {
   "cell_type": "code",
   "execution_count": 52,
   "metadata": {},
   "outputs": [
    {
     "name": "stdout",
     "output_type": "stream",
     "text": [
      "3647634278\n",
      "3873564558\n",
      "2903917238\n",
      "2346527346\n",
      "5342756356\n",
      "1254865324\n",
      "2434244232\n",
      "8168852335\n",
      "2378462736\n",
      "7823479863\n"
     ]
    }
   ],
   "source": [
    "import re\n",
    "\n",
    "regexobject = re.compile(r\",\\d{10}\")\n",
    "\n",
    "text = \"\"\",1234,567890 dakvfdfysudg32876hsdbf372649dbhbf23748927,3647634278423562dshfbshjbhfb32h4df72,3873564558dfh234275h2yy\n",
    "        asdakjsd\n",
    "        asdhvahsdkajskdy32748w756d76t234,h342765482,53465275fsbf23654r76hv3264753462 6dsfj1,290391723879845bsbdfkjhbijg\n",
    "        ,23465273464276 3546 ,534275635667,1254865324761hdfsfbjh h234rdsf\n",
    "        ,34df3452323,\n",
    "        4234,24342442323423,8168852335\n",
    "        dfsfhjasfghvj23ysghasvdjbvhdhjgf782q3648726342\n",
    "        au,2378462736842675348djfasab23784ydnjf2734y7df,7823479863784234hdfh2374tef2374\"\"\"\n",
    "\n",
    "for i in regexobject.finditer(text):\n",
    "    print(i.group()[1::])"
   ]
  },
  {
   "cell_type": "code",
   "execution_count": 3,
   "metadata": {},
   "outputs": [
    {
     "name": "stdout",
     "output_type": "stream",
     "text": [
      "-1 -1\n",
      "-1 0\n",
      "-1 1\n",
      "0 -1\n",
      "0 0\n",
      "0 1\n",
      "1 -1\n",
      "1 0\n",
      "1 1\n"
     ]
    }
   ],
   "source": [
    "for i in range(-1, 2):\n",
    "    for j in range(-1, 2):\n",
    "        print(i, j)"
   ]
  },
  {
   "cell_type": "code",
   "execution_count": 2,
   "metadata": {},
   "outputs": [
    {
     "name": "stdout",
     "output_type": "stream",
     "text": [
      "[0, 1, 2, 3]\n"
     ]
    }
   ],
   "source": [
    "def recursive(arr, target, pointer=0):\n",
    "    if arr[pointer] == target:\n",
    "        return [pointer]\n",
    "    else:\n",
    "        return [pointer] + recursive(arr, target, pointer + 1)\n",
    "\n",
    "\n",
    "arr = [1, 2, 3, 4, 5, 6, 7, 8, 9, 100]\n",
    "\n",
    "print(recursive(arr, 4))"
   ]
  },
  {
   "cell_type": "code",
   "execution_count": 3,
   "metadata": {},
   "outputs": [
    {
     "name": "stdout",
     "output_type": "stream",
     "text": [
      "[104, 108, 120, 123, 128, 142, 147, 161, 164, 172, 173, 190, 196, 216, 223, 230, 236, 241, 245, 258, 265, 269, 279, 308, 312, 316, 321, 321, 327, 333, 343, 349, 356, 387, 394, 415, 425, 444, 450, 489, 502, 508, 509, 516, 523, 524, 556, 578, 578, 578, 588, 589, 593, 602, 603, 612, 615, 618, 657, 671, 671, 682, 684, 689, 691, 692, 701, 725, 729, 734, 742, 749, 754, 756, 782, 788, 790, 810, 831, 834, 847, 857, 863, 864, 868, 871, 875, 876, 879, 879, 881, 892, 913, 925, 926, 937, 943, 974, 987, 988]\n"
     ]
    }
   ],
   "source": [
    "def recb(arr, i=0):\n",
    "    if i + 1 >= len(arr):\n",
    "        return arr\n",
    "    for j in range(i, len(arr)):\n",
    "        if arr[i] > arr[j]:\n",
    "            arr[i], arr[j] = arr[j], arr[i]\n",
    "\n",
    "    return recb(arr, i + 1)\n",
    "\n",
    "\n",
    "array = [\n",
    "    913,\n",
    "    578,\n",
    "    245,\n",
    "    754,\n",
    "    321,\n",
    "    987,\n",
    "    502,\n",
    "    689,\n",
    "    123,\n",
    "    876,\n",
    "    450,\n",
    "    265,\n",
    "    831,\n",
    "    164,\n",
    "    729,\n",
    "    593,\n",
    "    316,\n",
    "    871,\n",
    "    104,\n",
    "    618,\n",
    "    937,\n",
    "    782,\n",
    "    349,\n",
    "    516,\n",
    "    190,\n",
    "    847,\n",
    "    682,\n",
    "    415,\n",
    "    578,\n",
    "    236,\n",
    "    691,\n",
    "    327,\n",
    "    864,\n",
    "    509,\n",
    "    147,\n",
    "    734,\n",
    "    602,\n",
    "    879,\n",
    "    394,\n",
    "    128,\n",
    "    863,\n",
    "    578,\n",
    "    241,\n",
    "    756,\n",
    "    312,\n",
    "    988,\n",
    "    508,\n",
    "    684,\n",
    "    120,\n",
    "    879,\n",
    "    444,\n",
    "    269,\n",
    "    834,\n",
    "    172,\n",
    "    725,\n",
    "    589,\n",
    "    321,\n",
    "    875,\n",
    "    108,\n",
    "    612,\n",
    "    943,\n",
    "    788,\n",
    "    356,\n",
    "    523,\n",
    "    196,\n",
    "    857,\n",
    "    692,\n",
    "    425,\n",
    "    588,\n",
    "    230,\n",
    "    701,\n",
    "    333,\n",
    "    868,\n",
    "    524,\n",
    "    161,\n",
    "    749,\n",
    "    615,\n",
    "    892,\n",
    "    387,\n",
    "    142,\n",
    "    881,\n",
    "    556,\n",
    "    223,\n",
    "    742,\n",
    "    308,\n",
    "    974,\n",
    "    489,\n",
    "    657,\n",
    "    279,\n",
    "    810,\n",
    "    173,\n",
    "    926,\n",
    "    671,\n",
    "    343,\n",
    "    790,\n",
    "    258,\n",
    "    925,\n",
    "    603,\n",
    "    216,\n",
    "    671,\n",
    "]\n",
    "print(recb(arr=array))"
   ]
  },
  {
   "cell_type": "code",
   "execution_count": 14,
   "metadata": {},
   "outputs": [
    {
     "name": "stdout",
     "output_type": "stream",
     "text": [
      "[1, 2, 3, 4, 5, 6, 7, 9, 10, 23]\n"
     ]
    }
   ],
   "source": [
    "s1 = [4, 5, 7, 9, 10, 23]\n",
    "s2 = [1, 2, 3, 6]\n",
    "stack = []\n",
    "pointer = 0\n",
    "otherptr = 0\n",
    "while True:\n",
    "    if pointer >= len(s1):\n",
    "        stack.extend(s2[otherptr:])\n",
    "        break\n",
    "    if otherptr >= len(s2):\n",
    "        stack.extend(s1[pointer:])\n",
    "        break\n",
    "\n",
    "    if s1[pointer] < s2[otherptr]:\n",
    "        stack.append(s1[pointer])\n",
    "        pointer += 1\n",
    "    else:\n",
    "        stack.append(s2[otherptr])\n",
    "        otherptr += 1\n",
    "print(stack)"
   ]
  },
  {
   "cell_type": "code",
   "execution_count": 26,
   "metadata": {},
   "outputs": [
    {
     "name": "stdout",
     "output_type": "stream",
     "text": [
      "[104, 108, 120, 123, 128, 142, 147, 161, 164, 172, 173, 190, 196, 216, 223, 230, 236, 241, 245, 258, 265, 269, 279, 308, 312, 316, 321, 321, 327, 333, 343, 349, 356, 387, 394, 415, 425, 444, 450, 489, 502, 508, 509, 516, 523, 524, 556, 578, 578, 578, 588, 589, 593, 602, 603, 612, 615, 618, 657, 671, 671, 682, 684, 689, 691, 692, 701, 725, 729, 734, 742, 749, 754, 756, 782, 788, 790, 810, 831, 834, 847, 857, 863, 864, 868, 871, 875, 876, 879, 879, 881, 892, 913, 925, 926, 937, 943, 974, 987, 988]\n"
     ]
    }
   ],
   "source": [
    "array = [\n",
    "    913,\n",
    "    578,\n",
    "    245,\n",
    "    754,\n",
    "    321,\n",
    "    987,\n",
    "    502,\n",
    "    689,\n",
    "    123,\n",
    "    876,\n",
    "    450,\n",
    "    265,\n",
    "    831,\n",
    "    164,\n",
    "    729,\n",
    "    593,\n",
    "    316,\n",
    "    871,\n",
    "    104,\n",
    "    618,\n",
    "    937,\n",
    "    782,\n",
    "    349,\n",
    "    516,\n",
    "    190,\n",
    "    847,\n",
    "    682,\n",
    "    415,\n",
    "    578,\n",
    "    236,\n",
    "    691,\n",
    "    327,\n",
    "    864,\n",
    "    509,\n",
    "    147,\n",
    "    734,\n",
    "    602,\n",
    "    879,\n",
    "    394,\n",
    "    128,\n",
    "    863,\n",
    "    578,\n",
    "    241,\n",
    "    756,\n",
    "    312,\n",
    "    988,\n",
    "    508,\n",
    "    684,\n",
    "    120,\n",
    "    879,\n",
    "    444,\n",
    "    269,\n",
    "    834,\n",
    "    172,\n",
    "    725,\n",
    "    589,\n",
    "    321,\n",
    "    875,\n",
    "    108,\n",
    "    612,\n",
    "    943,\n",
    "    788,\n",
    "    356,\n",
    "    523,\n",
    "    196,\n",
    "    857,\n",
    "    692,\n",
    "    425,\n",
    "    588,\n",
    "    230,\n",
    "    701,\n",
    "    333,\n",
    "    868,\n",
    "    524,\n",
    "    161,\n",
    "    749,\n",
    "    615,\n",
    "    892,\n",
    "    387,\n",
    "    142,\n",
    "    881,\n",
    "    556,\n",
    "    223,\n",
    "    742,\n",
    "    308,\n",
    "    974,\n",
    "    489,\n",
    "    657,\n",
    "    279,\n",
    "    810,\n",
    "    173,\n",
    "    926,\n",
    "    671,\n",
    "    343,\n",
    "    790,\n",
    "    258,\n",
    "    925,\n",
    "    603,\n",
    "    216,\n",
    "    671,\n",
    "]\n",
    "\n",
    "\n",
    "def merge_sort(array):\n",
    "    if len(array) == 1:\n",
    "        return array\n",
    "    dividingFactor = len(array) // 2\n",
    "    S_1 = merge_sort(array[:dividingFactor])\n",
    "    S_2 = merge_sort(array[dividingFactor:])\n",
    "\n",
    "    S1, S2 = 0, 0\n",
    "    merged = []\n",
    "    while True:\n",
    "        if S1 >= len(S_1):\n",
    "            merged.extend(S_2[S2:])\n",
    "            break\n",
    "        if S2 >= len(S_2):\n",
    "            merged.extend(S_1[S1:])\n",
    "            break\n",
    "        if S_1[S1] < S_2[S2]:\n",
    "            merged.append(S_1[S1])\n",
    "            S1 += 1\n",
    "        else:\n",
    "            merged.append(S_2[S2])\n",
    "            S2 += 1\n",
    "    return merged\n",
    "\n",
    "\n",
    "print(merge_sort(array))"
   ]
  },
  {
   "cell_type": "code",
   "execution_count": null,
   "metadata": {},
   "outputs": [],
   "source": [
    "def QuickSort(arr, start, end):\n",
    "    if start >= end:\n",
    "        return\n",
    "    left = start\n",
    "    right = end\n",
    "    pivot = left + (right - left) // 2\n",
    "    pivotnum = arr[pivot]\n",
    "    while left < right:\n",
    "        while arr[left] < pivotnum:\n",
    "            left += 1\n",
    "        while arr[right] > pivotnum:\n",
    "            right -= 1\n",
    "        if arr[left] <= arr[right]:\n",
    "            arr[left], arr[right] = arr[right], arr[left]\n",
    "            left += 1\n",
    "            right -= 1\n",
    "    QuickSort(arr, start, right)\n",
    "    QuickSort(arr, left, end)\n",
    "\n",
    "\n",
    "array = [\n",
    "    913,\n",
    "    578,\n",
    "    245,\n",
    "    754,\n",
    "    321,\n",
    "    987,\n",
    "    502,\n",
    "    689,\n",
    "    123,\n",
    "    876,\n",
    "    450,\n",
    "    265,\n",
    "    831,\n",
    "    164,\n",
    "    729,\n",
    "    593,\n",
    "    316,\n",
    "    871,\n",
    "    104,\n",
    "    618,\n",
    "    937,\n",
    "    782,\n",
    "    349,\n",
    "    516,\n",
    "    190,\n",
    "    847,\n",
    "    682,\n",
    "    415,\n",
    "    578,\n",
    "    236,\n",
    "    691,\n",
    "    327,\n",
    "    864,\n",
    "    509,\n",
    "    147,\n",
    "    734,\n",
    "    602,\n",
    "    879,\n",
    "    394,\n",
    "    128,\n",
    "    863,\n",
    "    578,\n",
    "    241,\n",
    "    756,\n",
    "    312,\n",
    "    988,\n",
    "    508,\n",
    "    684,\n",
    "    120,\n",
    "    879,\n",
    "    444,\n",
    "    269,\n",
    "    834,\n",
    "    172,\n",
    "    725,\n",
    "    589,\n",
    "    321,\n",
    "    875,\n",
    "    108,\n",
    "    612,\n",
    "    943,\n",
    "    788,\n",
    "    356,\n",
    "    523,\n",
    "    196,\n",
    "    857,\n",
    "    692,\n",
    "    425,\n",
    "    588,\n",
    "    230,\n",
    "    701,\n",
    "    333,\n",
    "    868,\n",
    "    524,\n",
    "    161,\n",
    "    749,\n",
    "    615,\n",
    "    892,\n",
    "    387,\n",
    "    142,\n",
    "    881,\n",
    "    556,\n",
    "    223,\n",
    "    742,\n",
    "    308,\n",
    "    974,\n",
    "    489,\n",
    "    657,\n",
    "    279,\n",
    "    810,\n",
    "    173,\n",
    "    926,\n",
    "    671,\n",
    "    343,\n",
    "    790,\n",
    "    258,\n",
    "    925,\n",
    "    603,\n",
    "    216,\n",
    "    671,\n",
    "]\n",
    "QuickSort(array, 0, len(array) - 1)\n",
    "print(array)"
   ]
  },
  {
   "cell_type": "code",
   "execution_count": 60,
   "metadata": {},
   "outputs": [
    {
     "name": "stdout",
     "output_type": "stream",
     "text": [
      "[104, 108, 120, 123, 128, 142, 147, 161, 164, 172, 173, 190, 196, 216, 223, 230, 236, 241, 245, 258, 265, 269, 279, 308, 312, 316, 321, 321, 327, 333, 343, 349, 356, 387, 394, 415, 425, 444, 450, 489, 502, 508, 509, 516, 523, 524, 556, 578, 578, 578, 588, 589, 593, 602, 603, 612, 615, 618, 657, 671, 671, 682, 684, 689, 691, 692, 701, 725, 729, 734, 742, 749, 754, 756, 782, 788, 790, 810, 831, 834, 847, 857, 863, 864, 868, 871, 875, 876, 879, 879, 881, 892, 913, 925, 926, 937, 943, 974, 987, 988]\n"
     ]
    }
   ],
   "source": [
    "array = [10, 1, -1, -4, 11, 12, 0, 19]\n",
    "\n",
    "\n",
    "def QuickSort(arr, start, end):\n",
    "    if start >= end:\n",
    "        return\n",
    "    left = start\n",
    "    right = end\n",
    "    pivot = left + (right - left) // 2\n",
    "    pivotnum = arr[pivot]\n",
    "    while left < right:\n",
    "        while arr[left] < pivotnum:\n",
    "            left += 1\n",
    "        while arr[right] > pivotnum:\n",
    "            right -= 1\n",
    "        if left <= right:\n",
    "            arr[left], arr[right] = arr[right], arr[left]\n",
    "            left += 1\n",
    "            right -= 1\n",
    "\n",
    "    QuickSort(arr, start, right)\n",
    "    QuickSort(arr, left, end)\n",
    "\n",
    "\n",
    "QuickSort(array, 0, len(array) - 1)\n",
    "print(array)"
   ]
  },
  {
   "cell_type": "code",
   "execution_count": 63,
   "metadata": {},
   "outputs": [
    {
     "name": "stdout",
     "output_type": "stream",
     "text": [
      "[104, 108, 120, 123, 128, 142, 147, 161, 164, 172, 173, 190, 196, 216, 223, 230, 236, 241, 245, 258, 265, 269, 279, 308, 312, 316, 321, 321, 327, 333, 343, 349, 356, 387, 394, 415, 425, 444, 450, 489, 502, 508, 509, 516, 523, 524, 556, 578, 578, 578, 588, 589, 593, 602, 603, 612, 615, 618, 657, 671, 671, 682, 684, 689, 691, 692, 701, 725, 729, 734, 742, 749, 754, 756, 782, 788, 790, 810, 831, 834, 847, 857, 863, 864, 868, 871, 875, 876, 879, 879, 881, 892, 913, 925, 926, 937, 943, 974, 987, 988]\n"
     ]
    }
   ],
   "source": [
    "def QuickSort(arr, start, end):\n",
    "    if start >= end:\n",
    "        return\n",
    "    left = start\n",
    "    right = end\n",
    "    pivot = left + (right - left) // 2\n",
    "    pivotnum = arr[pivot]\n",
    "    while left < right:\n",
    "        while arr[left] < pivotnum:\n",
    "            left += 1\n",
    "        while arr[right] > pivotnum:\n",
    "            right -= 1\n",
    "        if left <= right:\n",
    "            arr[left], arr[right] = arr[right], arr[left]\n",
    "            left += 1\n",
    "            right -= 1\n",
    "    QuickSort(arr, start, right)\n",
    "    QuickSort(arr, left, end)\n",
    "\n",
    "\n",
    "array = [\n",
    "    913,\n",
    "    578,\n",
    "    245,\n",
    "    754,\n",
    "    321,\n",
    "    987,\n",
    "    502,\n",
    "    689,\n",
    "    123,\n",
    "    876,\n",
    "    450,\n",
    "    265,\n",
    "    831,\n",
    "    164,\n",
    "    729,\n",
    "    593,\n",
    "    316,\n",
    "    871,\n",
    "    104,\n",
    "    618,\n",
    "    937,\n",
    "    782,\n",
    "    349,\n",
    "    516,\n",
    "    190,\n",
    "    847,\n",
    "    682,\n",
    "    415,\n",
    "    578,\n",
    "    236,\n",
    "    691,\n",
    "    327,\n",
    "    864,\n",
    "    509,\n",
    "    147,\n",
    "    734,\n",
    "    602,\n",
    "    879,\n",
    "    394,\n",
    "    128,\n",
    "    863,\n",
    "    578,\n",
    "    241,\n",
    "    756,\n",
    "    312,\n",
    "    988,\n",
    "    508,\n",
    "    684,\n",
    "    120,\n",
    "    879,\n",
    "    444,\n",
    "    269,\n",
    "    834,\n",
    "    172,\n",
    "    725,\n",
    "    589,\n",
    "    321,\n",
    "    875,\n",
    "    108,\n",
    "    612,\n",
    "    943,\n",
    "    788,\n",
    "    356,\n",
    "    523,\n",
    "    196,\n",
    "    857,\n",
    "    692,\n",
    "    425,\n",
    "    588,\n",
    "    230,\n",
    "    701,\n",
    "    333,\n",
    "    868,\n",
    "    524,\n",
    "    161,\n",
    "    749,\n",
    "    615,\n",
    "    892,\n",
    "    387,\n",
    "    142,\n",
    "    881,\n",
    "    556,\n",
    "    223,\n",
    "    742,\n",
    "    308,\n",
    "    974,\n",
    "    489,\n",
    "    657,\n",
    "    279,\n",
    "    810,\n",
    "    173,\n",
    "    926,\n",
    "    671,\n",
    "    343,\n",
    "    790,\n",
    "    258,\n",
    "    925,\n",
    "    603,\n",
    "    216,\n",
    "    671,\n",
    "]\n",
    "QuickSort(array, 0, len(array) - 1)\n",
    "print(array)"
   ]
  },
  {
   "cell_type": "code",
   "execution_count": 69,
   "metadata": {},
   "outputs": [
    {
     "name": "stdout",
     "output_type": "stream",
     "text": [
      "[False]\n"
     ]
    }
   ],
   "source": [
    "class Solution:\n",
    "    def canReach(self, s: str, minJump: int, maxJump: int) -> bool:\n",
    "        # def maxIndex()\n",
    "        def fun(s, mn, mx, index=0):\n",
    "            if index == len(s) - 1 and s[index] == \"0\":\n",
    "                return True\n",
    "            for i in reversed(range(index, min(index + mx + 1, len(s)))):\n",
    "                if s[i] == \"0\":\n",
    "                    if index + mn <= i <= min(index + mx, len(s) - 1):\n",
    "                        print(index, i)\n",
    "                        return fun(s, mn, mx, i)\n",
    "\n",
    "        return False if fun(s, minJump, maxJump) is None else True"
   ]
  },
  {
   "cell_type": "code",
   "execution_count": 10,
   "metadata": {},
   "outputs": [
    {
     "data": {
      "text/plain": [
       "'aaadxxxfeadad'"
      ]
     },
     "execution_count": 10,
     "metadata": {},
     "output_type": "execute_result"
    }
   ],
   "source": [
    "def p(s: str, i: int = 0, character: str = \"a\"):\n",
    "    if i >= len(s):\n",
    "        return \"\"\n",
    "    if s[i] != character:\n",
    "        return s[i] + p(s, i + 1, character)\n",
    "    else:\n",
    "        return \"\" + p(s, i + 1, character)\n",
    "\n",
    "\n",
    "p(\"ssaasadxxxfseasdasd\", character=\"s\")"
   ]
  },
  {
   "cell_type": "code",
   "execution_count": 17,
   "metadata": {},
   "outputs": [
    {
     "name": "stdout",
     "output_type": "stream",
     "text": [
      "b\n"
     ]
    }
   ],
   "source": [
    "s = \"ab\"\n",
    "print(s[1:])"
   ]
  },
  {
   "cell_type": "code",
   "execution_count": 2,
   "metadata": {},
   "outputs": [
    {
     "name": "stdout",
     "output_type": "stream",
     "text": [
      "['', 'abch', 'abaah', 'aabaa', 'a', 'abc', 'bch', 'abh', 'cah', 'aaaa', 'aaba', 'aabcah', 'acaa', 'aa', 'bah', 'ba', 'b', 'abcah', 'aaaah', 'aach', 'aabc', 'aabh', 'bcaah', 'aacaah', 'aaah', 'aabcaa', 'abaa', 'aba', 'caah', 'ah', 'aabah', 'ca', 'baah', 'abcaah', 'aah', 'abca', 'acaah', 'bca', 'aabca', 'ch', 'c', 'baa', 'aaa', 'bc', 'aabcaah', 'abah', 'abcaa', 'acah', 'aacaa', 'aabaah', 'bcah', 'h', 'aca', 'ach', 'bcaa', 'aac', 'caa', 'ab', 'aab', 'ac', 'bh', 'aacah', 'aabch', 'aaca']\n"
     ]
    }
   ],
   "source": [
    "def subset(string: str, ans: str = \"\"):\n",
    "    if len(string) <= 0:\n",
    "        return [ans]\n",
    "    c = string[0]\n",
    "    string = string[1:]\n",
    "    return subset(string, ans + c) + subset(string, ans)\n",
    "\n",
    "\n",
    "print(list(set(subset(\"aabcaah\"))))"
   ]
  },
  {
   "cell_type": "markdown",
   "metadata": {},
   "source": [
    "## Use Sets for duplicate elements"
   ]
  },
  {
   "cell_type": "code",
   "execution_count": 51,
   "metadata": {},
   "outputs": [
    {
     "name": "stdout",
     "output_type": "stream",
     "text": [
      "None [[1, 2, 2], [1, 2], [1], [2, 2], [2], []]\n"
     ]
    }
   ],
   "source": [
    "\n",
    "result = []\n",
    "def subset(nums, ans= []):\n",
    "    if len(nums) <= 0:\n",
    "        if ans not in result:\n",
    "            result.append(ans)\n",
    "            return\n",
    "        else:\n",
    "            return \n",
    "    subset(nums[1:], ans + [nums[0]]) \n",
    "    subset(nums[1:], ans)\n",
    "\n",
    "\n",
    "print(subset([1,2,2]),result)"
   ]
  },
  {
   "cell_type": "code",
   "execution_count": 122,
   "metadata": {},
   "outputs": [
    {
     "name": "stdout",
     "output_type": "stream",
     "text": [
      "[1, 1, 2, 3, 4, 5]\n",
      "[1, 1, 2, 3, 4, 5]\n",
      "[1, 2, 1, 3, 4, 5]\n",
      "[1, 2, 3, 1, 4, 5]\n",
      "[1, 2, 3, 4, 1, 5]\n"
     ]
    }
   ],
   "source": [
    "str = [1, 2, 3, 4, 5]\n",
    "\n",
    "for i, val in enumerate(str):\n",
    "    print(str[:i] + [1] + str[i:])"
   ]
  },
  {
   "cell_type": "code",
   "execution_count": 37,
   "metadata": {},
   "outputs": [
    {
     "name": "stdout",
     "output_type": "stream",
     "text": [
      "['cba', 'bca', 'bac', 'cab', 'acb', 'abc']\n"
     ]
    }
   ],
   "source": [
    "def permutation(object: str, ans: str = \"\", length=None):\n",
    "    if length is None:\n",
    "        length = len(object)\n",
    "    if len(ans) >= length:\n",
    "        return [ans]\n",
    "    first = object[0]\n",
    "    object = object[1:]\n",
    "    li = []\n",
    "    for i in range(len(ans) + 1):\n",
    "        li += permutation(object, ans[:i] + first + ans[i:], length)\n",
    "    return li\n",
    "\n",
    "\n",
    "print(permutation(\"abc\"))"
   ]
  },
  {
   "cell_type": "code",
   "execution_count": null,
   "metadata": {},
   "outputs": [],
   "source": []
  },
  {
   "cell_type": "code",
   "execution_count": 144,
   "metadata": {},
   "outputs": [
    {
     "name": "stdout",
     "output_type": "stream",
     "text": [
      "[[2, 1], [1, 2]]\n"
     ]
    }
   ],
   "source": [
    "def permutation(object: list, ans: list = [], length=None):\n",
    "    if length is None:\n",
    "        length = len(object)\n",
    "\n",
    "    if len(ans) >= length:\n",
    "        return [ans]\n",
    "\n",
    "    first = object[0]\n",
    "    object = object[1:]\n",
    "    li = []\n",
    "    if first in ans:\n",
    "        li += permutation(object, ans, length - 1)\n",
    "    else:\n",
    "        for i in range(len(ans) + 1):\n",
    "            li += permutation(object, ans[:i] + [first] + ans[i:], length)\n",
    "    return li\n",
    "\n",
    "\n",
    "print(permutation([1, 1, 2]))\n",
    "\n",
    "# ['cba', 'bca', 'bac', 'cab', 'acb', 'abc']"
   ]
  },
  {
   "cell_type": "code",
   "execution_count": 4,
   "metadata": {},
   "outputs": [
    {
     "name": "stdout",
     "output_type": "stream",
     "text": [
      "[[1, 2, 3, 4], [2, 1, 3, 4], [2, 3, 1, 4], [2, 3, 4, 1], [1, 3, 2, 4], [3, 1, 2, 4], [3, 2, 1, 4], [3, 2, 4, 1], [1, 3, 4, 2], [3, 1, 4, 2], [3, 4, 1, 2], [3, 4, 2, 1], [1, 2, 4, 3], [2, 1, 4, 3], [2, 4, 1, 3], [2, 4, 3, 1], [1, 4, 2, 3], [4, 1, 2, 3], [4, 2, 1, 3], [4, 2, 3, 1], [1, 4, 3, 2], [4, 1, 3, 2], [4, 3, 1, 2], [4, 3, 2, 1]]\n"
     ]
    }
   ],
   "source": [
    "def permutation(object: list, ans: list = [], length=None):\n",
    "    if length is None:\n",
    "        length = len(object)\n",
    "\n",
    "    if len(ans) >= length:\n",
    "        return [ans]\n",
    "    first = object[0]\n",
    "    li = []\n",
    "    if first not in ans:\n",
    "        for i in range(len(ans) + 1):\n",
    "            li += permutation(object[1:], ans[:i] + [first] + ans[i:], length)\n",
    "    else:\n",
    "        return permutation(object[1:], ans + [first], length)\n",
    "    return li\n",
    "\n",
    "\n",
    "print(permutation([4,3,2,1]))"
   ]
  },
  {
   "cell_type": "code",
   "execution_count": 1,
   "metadata": {},
   "outputs": [
    {
     "name": "stdout",
     "output_type": "stream",
     "text": [
      "[[3, 2, 1], [2, 3, 1], [2, 1, 3], [3, 1, 2], [1, 3, 2], [1, 2, 3]]\n"
     ]
    }
   ],
   "source": [
    "def permutation(objects, ans=None, length=None):\n",
    "    if ans is None:\n",
    "        ans = []\n",
    "    if length is None:\n",
    "        length = len(objects)\n",
    "\n",
    "    if len(ans) >= length:\n",
    "        return [ans[:]]\n",
    "\n",
    "    li = []\n",
    "    for i in range(len(ans) + 1):\n",
    "        new_ans = ans[:i] + [objects[0]] + ans[i:]\n",
    "        li += permutation(objects[1:], new_ans, length)\n",
    "\n",
    "    return li\n",
    "\n",
    "print(permutation([1, 2, 3]))\n"
   ]
  },
  {
   "cell_type": "code",
   "execution_count": 45,
   "metadata": {},
   "outputs": [
    {
     "name": "stdout",
     "output_type": "stream",
     "text": [
      "['....', '....', '....', '....']\n",
      "['..Q.', '....', '....', '....']\n"
     ]
    }
   ],
   "source": [
    "n = 4\n",
    "board = [\".\"*n for i in range(n)]\n",
    "print(board)\n",
    "board[0] = board[0][:2] + 'Q' + board[0][3:]\n",
    "print(board)"
   ]
  },
  {
   "cell_type": "code",
   "execution_count": 119,
   "metadata": {},
   "outputs": [
    {
     "name": "stdout",
     "output_type": "stream",
     "text": [
      "False\n"
     ]
    }
   ],
   "source": [
    "\n",
    "board = [\".Q\",\n",
    "         \"..\",]\n",
    "\n",
    "def check(board: list[str],row: int,col: int):\n",
    "    for i in range(col):\n",
    "        if board[row][i] == 'Q':\n",
    "            return False\n",
    "    for i in range(row):\n",
    "        if board[i][col] == 'Q':\n",
    "            return False\n",
    "    return True\n",
    "\n",
    "print(check(board,0,1))"
   ]
  },
  {
   "cell_type": "code",
   "execution_count": 1,
   "metadata": {},
   "outputs": [
    {
     "name": "stdout",
     "output_type": "stream",
     "text": [
      "None\n",
      "[['.Q..', '...Q', 'Q...', '..Q.'], ['..Q.', 'Q...', '...Q', '.Q..']]\n"
     ]
    }
   ],
   "source": [
    "n = 4\n",
    "board = [\".\"*n for i in range(n)]\n",
    "li = []\n",
    "def check(board: list[str],row: int,col: int):\n",
    "    for i in range(col):\n",
    "        if board[row][i] == 'Q':\n",
    "            return False\n",
    "    for i in range(row):\n",
    "        if board[i][col] == 'Q':\n",
    "            return False\n",
    "    def dia_1(board:list[str],row: int,col:int):\n",
    "        if row < 0 or col < 0 or row >= len(board) or col >= len(board[0]):\n",
    "            return True\n",
    "        if board[row][col] == 'Q':\n",
    "            return False\n",
    "        return dia_1(board,row-1,col-1)\n",
    "    def dia_2(board:list[str],row: int,col:int):\n",
    "        if row < 0 or col < 0 or row >= len(board) or col >= len(board[0]):\n",
    "            return True\n",
    "        if board[row][col] == 'Q':\n",
    "            return False\n",
    "        return dia_2(board,row-1,col+1)\n",
    "    \n",
    "    if dia_1(board,row,col) is False or dia_2(board,row,col) is False:\n",
    "        return False\n",
    "    return True\n",
    "    \n",
    "def place(board: list[int],row: int = 0):\n",
    "    n = len(board)\n",
    "    if row==n:\n",
    "        li.append(board[:])\n",
    "        return 1\n",
    "    for i in range(len(board[0])):\n",
    "        if check(board,row,i):\n",
    "            board[row] = board[row][:i] + 'Q' + board[row][i + 1:]\n",
    "            place(board,row + 1)\n",
    "            board[row] = board[row][:i] + '.' + board[row][i + 1:]\n",
    "    return \n",
    "\n",
    "print(place(board))\n",
    "print(li)"
   ]
  },
  {
   "cell_type": "code",
   "execution_count": 1,
   "metadata": {},
   "outputs": [
    {
     "name": "stdout",
     "output_type": "stream",
     "text": [
      "[[]]\n"
     ]
    }
   ],
   "source": [
    "i = [1,2,3,4,5,6,7,8,9,10]\n",
    "\n",
    "ans = list(map(lambda x:x,i))\n",
    "print([[]])"
   ]
  },
  {
   "cell_type": "code",
   "execution_count": 49,
   "metadata": {},
   "outputs": [
    {
     "name": "stdout",
     "output_type": "stream",
     "text": [
      "[[], [1], [2], [1, 2], [2, 2], [1, 2, 2], [2, 4], [1, 2, 4], [2, 2, 4], [1, 2, 2, 4]]\n"
     ]
    }
   ],
   "source": [
    "def subsets(array: list[int])->list[list[int]]:\n",
    "    result: list[list[int]] = [[]]\n",
    "    index = length = 0\n",
    "    for i in range(len(array)):\n",
    "        if i > 0 and (array[i]==array[i-1]):\n",
    "            index = length\n",
    "        length = len(result)\n",
    "        for o in range(index,length):\n",
    "            result.append(result[o][:]+[array[i]])    \n",
    "    return result\n",
    "\n",
    "print(subsets([1,2,2,4]))\n",
    "    "
   ]
  },
  {
   "cell_type": "code",
   "execution_count": 53,
   "metadata": {},
   "outputs": [
    {
     "name": "stdout",
     "output_type": "stream",
     "text": [
      "[[], [1], [1, 2], [1, 2, 2], [2], [2, 2]]\n"
     ]
    }
   ],
   "source": [
    "\n",
    "#sort nums \n",
    "nums = [1,2,2]\n",
    "#create empty lists to track current subset and result\n",
    "result = []\n",
    "track = []\n",
    "\n",
    "#creact backtrack method\n",
    "def backtrack(nums, start):\n",
    "    #append track to res in preorder\n",
    "    result.append(list(track))\n",
    "    \n",
    "    #for every number\n",
    "    for i in range(start, len(nums)):\n",
    "        #if the number equal to the precious one, \n",
    "        #skip this number tp avoid duplicates\n",
    "        if i > start and nums[i] == nums[i-1]:\n",
    "            continue\n",
    "        \n",
    "        #append to track\n",
    "        track.append(nums[i])\n",
    "        #backtracking next number\n",
    "        backtrack(nums, i + 1)\n",
    "        #remove from track\n",
    "        track.pop(-1)\n",
    "    \n",
    "backtrack(nums, 0)\n",
    "print(result)"
   ]
  },
  {
   "cell_type": "code",
   "execution_count": 13,
   "metadata": {},
   "outputs": [
    {
     "name": "stdout",
     "output_type": "stream",
     "text": [
      "['abba', 'abb', 'aba', 'ab', 'aa', 'a', 'bba', 'bb', 'ba', 'b', '']\n"
     ]
    }
   ],
   "source": [
    "result = []\n",
    "nums = \"abba\"\n",
    "def subset(nums, ans= []):\n",
    "    if len(nums) <= 0:\n",
    "        if ans not in result:\n",
    "            result.append(ans)\n",
    "            return\n",
    "        else:\n",
    "            return \n",
    "    subset(nums[1:], ans + [nums[0]]) \n",
    "    subset(nums[1:], ans)\n",
    "subset(nums)\n",
    "def check(s):\n",
    "    \n",
    "print(list(map(lambda x: \"\".join(x),result)))"
   ]
  },
  {
   "cell_type": "code",
   "execution_count": 60,
   "metadata": {},
   "outputs": [
    {
     "name": "stdout",
     "output_type": "stream",
     "text": [
      "[[], [1], [1, 2], [1, 2, 2], [1, 2, 2, 2], [2], [2, 2], [2, 2, 2]]\n"
     ]
    }
   ],
   "source": [
    "nums = [1,2,2,2]\n",
    "visited = []\n",
    "result = []\n",
    "def BackTracking(nums:list[int],index=0):\n",
    "    result.append(list(visited))\n",
    "\n",
    "    for i in range(index,len(nums)):\n",
    "        if i > index and nums[i] == nums[i-1]:\n",
    "            continue\n",
    "        visited.append(nums[i])\n",
    "        BackTracking(nums,i+1)\n",
    "        visited.pop()\n",
    "BackTracking(nums)\n",
    "print(result)"
   ]
  },
  {
   "cell_type": "code",
   "execution_count": 64,
   "metadata": {},
   "outputs": [
    {
     "name": "stdout",
     "output_type": "stream",
     "text": [
      "[[1, 2, 2, 2], [1, 2, 2], [1, 2], [1], [2, 2, 2], [2, 2], [2], []]\n"
     ]
    }
   ],
   "source": [
    "nums = [1,2,2,2]\n",
    "result = []\n",
    "def track(nums:list[int],ans: list[int]):\n",
    "    if len(nums) <= 0:\n",
    "        result.append(list(ans))\n",
    "        return\n",
    "    ans.append(nums[0])\n",
    "    track(nums[1:],ans)\n",
    "    ans.pop()\n",
    "    i = 0\n",
    "    while i + 1 < len(nums) and nums[i] == nums[i+1]:\n",
    "        i+=1\n",
    "    track(nums[i+1:],ans)\n",
    "track(nums,[])\n",
    "print(result)"
   ]
  },
  {
   "cell_type": "code",
   "execution_count": null,
   "metadata": {},
   "outputs": [],
   "source": [
    "\n",
    "def subset(nums: list[int],ans: list[int]=[]):\n",
    "    if len(nums) <= 0:\n",
    "            return [ans]\n",
    "    first = [nums[0]]\n",
    "    return subset(nums[1:],ans+first) + subset(nums[1:],ans)\n"
   ]
  },
  {
   "cell_type": "code",
   "execution_count": 5,
   "metadata": {},
   "outputs": [
    {
     "ename": "ValueError",
     "evalue": "empty separator",
     "output_type": "error",
     "traceback": [
      "\u001b[0;31m---------------------------------------------------------------------------\u001b[0m",
      "\u001b[0;31mValueError\u001b[0m                                Traceback (most recent call last)",
      "\u001b[1;32m/home/arvind/prog/practise.ipynb Cell 50\u001b[0m line \u001b[0;36m2\n\u001b[1;32m      <a href='vscode-notebook-cell:/home/arvind/prog/practise.ipynb#Y100sZmlsZQ%3D%3D?line=0'>1</a>\u001b[0m s \u001b[39m=\u001b[39m \u001b[39m\"\u001b[39m\u001b[39mababa\u001b[39m\u001b[39m\"\u001b[39m\n\u001b[0;32m----> <a href='vscode-notebook-cell:/home/arvind/prog/practise.ipynb#Y100sZmlsZQ%3D%3D?line=1'>2</a>\u001b[0m \u001b[39mprint\u001b[39m(s\u001b[39m.\u001b[39;49msplit(\u001b[39m'\u001b[39;49m\u001b[39m'\u001b[39;49m))\n",
      "\u001b[0;31mValueError\u001b[0m: empty separator"
     ]
    }
   ],
   "source": [
    "s = \"ababa\"\n",
    "print(s.split(''))"
   ]
  },
  {
   "cell_type": "code",
   "execution_count": null,
   "metadata": {},
   "outputs": [],
   "source": [
    "class Solution:\n",
    "    def maxLengthBetweenEqualCharacters(self, s: str) -> int:\n",
    "        T = [0]*26\n",
    "        for i in s:\n",
    "            T[ord(i)-97] += 1\n",
    "        max = -1\n",
    "        for i in T:\n",
    "            if i >=2:\n",
    "                letter = chr(i+97)\n",
    "                distance = s[::-1].index(letter) - s.index(letter) - 1\n",
    "                if distance > max:\n",
    "                    max = distance\n",
    "        return max"
   ]
  },
  {
   "cell_type": "code",
   "execution_count": 29,
   "metadata": {},
   "outputs": [
    {
     "name": "stdout",
     "output_type": "stream",
     "text": [
      "234 0\n"
     ]
    }
   ],
   "source": [
    "nums= [ 1,5,233,7]\n",
    "turn = True\n",
    "ans=ans2=0\n",
    "if turn:\n",
    "    ans = max(sum(nums[::2]) , sum(nums[::-2]))\n",
    "else:\n",
    "    ans2 = max(sum(nums[::2]) , sum(nums[::-2]))\n",
    "\n",
    "print(ans,ans2)\n"
   ]
  },
  {
   "cell_type": "code",
   "execution_count": 37,
   "metadata": {},
   "outputs": [
    {
     "data": {
      "text/plain": [
       "False"
      ]
     },
     "execution_count": 37,
     "metadata": {},
     "output_type": "execute_result"
    }
   ],
   "source": [
    "def recurse(nums: list[int] , p1:int = 0,p2:int = 0, turn:bool = True):\n",
    "    n = len(nums)\n",
    "    if n <= 0:\n",
    "        if p1 >= p2:\n",
    "            return True\n",
    "        else:\n",
    "            return False\n",
    "    left_choice = sum(nums[::2])\n",
    "    rigth_choice = sum(nums[::-2])\n",
    "\n",
    "    if turn:\n",
    "        if left_choice >= rigth_choice:\n",
    "            p1 += nums[0]\n",
    "            return recurse(nums[1:],p1,p2,False)\n",
    "        else:\n",
    "            p1 += nums[-1]\n",
    "            return recurse(nums[:n-1],p1,p2,False)\n",
    "    else:\n",
    "        if left_choice >= rigth_choice:\n",
    "            p2 += nums[0]\n",
    "            return recurse(nums[1:],p1,p2,True)\n",
    "        else:\n",
    "            p2 += nums[-1]\n",
    "            return recurse(nums[:n-1],p1,p2,True)\n",
    "recurse([1,2,99])"
   ]
  },
  {
   "cell_type": "code",
   "execution_count": 1,
   "metadata": {},
   "outputs": [
    {
     "data": {
      "text/plain": [
       "True"
      ]
     },
     "execution_count": 1,
     "metadata": {},
     "output_type": "execute_result"
    }
   ],
   "source": [
    "bool(-1)"
   ]
  },
  {
   "cell_type": "code",
   "execution_count": 2,
   "metadata": {},
   "outputs": [
    {
     "name": "stdout",
     "output_type": "stream",
     "text": [
      "0.1038813591003418 ms time taken by <function halves at 0x7f74842355a0>\n",
      "0.08881235122680664 ms time taken by <function halvesAreAlike at 0x7f7484721ab0>\n",
      "0.08582901954650879 ms time taken by <function ifelse at 0x7f7484721a20>\n",
      "0.08670234680175781 ms time taken by <function halves at 0x7f74842355a0>\n",
      "0.0845038890838623 ms time taken by <function halvesAreAlike at 0x7f7484721ab0>\n",
      "0.09235048294067383 ms time taken by <function ifelse at 0x7f7484721a20>\n",
      "0.08257889747619629 ms time taken by <function halves at 0x7f74842355a0>\n",
      "0.0838170051574707 ms time taken by <function halvesAreAlike at 0x7f7484721ab0>\n",
      "0.08662247657775879 ms time taken by <function ifelse at 0x7f7484721a20>\n",
      "0.08381509780883789 ms time taken by <function halves at 0x7f74842355a0>\n",
      "0.08388471603393555 ms time taken by <function halvesAreAlike at 0x7f7484721ab0>\n",
      "0.08560633659362793 ms time taken by <function ifelse at 0x7f7484721a20>\n",
      "0.083953857421875 ms time taken by <function halves at 0x7f74842355a0>\n",
      "0.08463644981384277 ms time taken by <function halvesAreAlike at 0x7f7484721ab0>\n",
      "0.09271621704101562 ms time taken by <function ifelse at 0x7f7484721a20>\n",
      "0.08238625526428223 ms time taken by <function halves at 0x7f74842355a0>\n",
      "0.08437061309814453 ms time taken by <function halvesAreAlike at 0x7f7484721ab0>\n",
      "0.08570623397827148 ms time taken by <function ifelse at 0x7f7484721a20>\n",
      "0.08393383026123047 ms time taken by <function halves at 0x7f74842355a0>\n",
      "0.08409643173217773 ms time taken by <function halvesAreAlike at 0x7f7484721ab0>\n",
      "0.0857093334197998 ms time taken by <function ifelse at 0x7f7484721a20>\n",
      "0.08430647850036621 ms time taken by <function halves at 0x7f74842355a0>\n",
      "0.08452486991882324 ms time taken by <function halvesAreAlike at 0x7f7484721ab0>\n",
      "0.09234786033630371 ms time taken by <function ifelse at 0x7f7484721a20>\n",
      "0.08162117004394531 ms time taken by <function halves at 0x7f74842355a0>\n",
      "0.08303713798522949 ms time taken by <function halvesAreAlike at 0x7f7484721ab0>\n",
      "0.09002494812011719 ms time taken by <function ifelse at 0x7f7484721a20>\n",
      "0.08146905899047852 ms time taken by <function halves at 0x7f74842355a0>\n",
      "0.08521580696105957 ms time taken by <function halvesAreAlike at 0x7f7484721ab0>\n",
      "0.08571410179138184 ms time taken by <function ifelse at 0x7f7484721a20>\n",
      "0.08383870124816895 ms time taken by <function halves at 0x7f74842355a0>\n",
      "0.08652114868164062 ms time taken by <function halvesAreAlike at 0x7f7484721ab0>\n",
      "0.09457254409790039 ms time taken by <function ifelse at 0x7f7484721a20>\n",
      "0.08374953269958496 ms time taken by <function halves at 0x7f74842355a0>\n",
      "0.08536672592163086 ms time taken by <function halvesAreAlike at 0x7f7484721ab0>\n",
      "0.0868833065032959 ms time taken by <function ifelse at 0x7f7484721a20>\n",
      "0.08836054801940918 ms time taken by <function halves at 0x7f74842355a0>\n",
      "0.08507943153381348 ms time taken by <function halvesAreAlike at 0x7f7484721ab0>\n",
      "0.09351491928100586 ms time taken by <function ifelse at 0x7f7484721a20>\n",
      "0.08058953285217285 ms time taken by <function halves at 0x7f74842355a0>\n",
      "0.08373069763183594 ms time taken by <function halvesAreAlike at 0x7f7484721ab0>\n",
      "0.09246349334716797 ms time taken by <function ifelse at 0x7f7484721a20>\n",
      "0.08213448524475098 ms time taken by <function halves at 0x7f74842355a0>\n",
      "0.08496880531311035 ms time taken by <function halvesAreAlike at 0x7f7484721ab0>\n",
      "0.08639144897460938 ms time taken by <function ifelse at 0x7f7484721a20>\n",
      "0.08483624458312988 ms time taken by <function halves at 0x7f74842355a0>\n",
      "0.08907794952392578 ms time taken by <function halvesAreAlike at 0x7f7484721ab0>\n",
      "0.0871739387512207 ms time taken by <function ifelse at 0x7f7484721a20>\n",
      "0.08571243286132812 ms time taken by <function halves at 0x7f74842355a0>\n",
      "0.08610033988952637 ms time taken by <function halvesAreAlike at 0x7f7484721ab0>\n",
      "0.08724069595336914 ms time taken by <function ifelse at 0x7f7484721a20>\n",
      "0.08639812469482422 ms time taken by <function halves at 0x7f74842355a0>\n",
      "0.0845944881439209 ms time taken by <function halvesAreAlike at 0x7f7484721ab0>\n",
      "0.09631109237670898 ms time taken by <function ifelse at 0x7f7484721a20>\n",
      "0.08043742179870605 ms time taken by <function halves at 0x7f74842355a0>\n",
      "0.0829164981842041 ms time taken by <function halvesAreAlike at 0x7f7484721ab0>\n",
      "0.08914899826049805 ms time taken by <function ifelse at 0x7f7484721a20>\n",
      "0.08028411865234375 ms time taken by <function halves at 0x7f74842355a0>\n",
      "0.08537030220031738 ms time taken by <function halvesAreAlike at 0x7f7484721ab0>\n",
      "0.08688068389892578 ms time taken by <function ifelse at 0x7f7484721a20>\n",
      "0.08557438850402832 ms time taken by <function halves at 0x7f74842355a0>\n",
      "0.09214091300964355 ms time taken by <function halvesAreAlike at 0x7f7484721ab0>\n",
      "0.09288811683654785 ms time taken by <function ifelse at 0x7f7484721a20>\n",
      "0.08337044715881348 ms time taken by <function halves at 0x7f74842355a0>\n",
      "0.08256769180297852 ms time taken by <function halvesAreAlike at 0x7f7484721ab0>\n",
      "0.08994221687316895 ms time taken by <function ifelse at 0x7f7484721a20>\n",
      "0.08147335052490234 ms time taken by <function halves at 0x7f74842355a0>\n",
      "0.08562040328979492 ms time taken by <function halvesAreAlike at 0x7f7484721ab0>\n",
      "0.08585262298583984 ms time taken by <function ifelse at 0x7f7484721a20>\n",
      "0.08439826965332031 ms time taken by <function halves at 0x7f74842355a0>\n",
      "0.08597207069396973 ms time taken by <function halvesAreAlike at 0x7f7484721ab0>\n",
      "0.09291362762451172 ms time taken by <function ifelse at 0x7f7484721a20>\n",
      "0.08065080642700195 ms time taken by <function halves at 0x7f74842355a0>\n",
      "0.08484482765197754 ms time taken by <function halvesAreAlike at 0x7f7484721ab0>\n",
      "0.0896749496459961 ms time taken by <function ifelse at 0x7f7484721a20>\n",
      "0.08127427101135254 ms time taken by <function halves at 0x7f74842355a0>\n",
      "0.08456730842590332 ms time taken by <function halvesAreAlike at 0x7f7484721ab0>\n",
      "0.08823776245117188 ms time taken by <function ifelse at 0x7f7484721a20>\n",
      "0.08447074890136719 ms time taken by <function halves at 0x7f74842355a0>\n",
      "0.0857691764831543 ms time taken by <function halvesAreAlike at 0x7f7484721ab0>\n",
      "0.09813570976257324 ms time taken by <function ifelse at 0x7f7484721a20>\n",
      "0.08260059356689453 ms time taken by <function halves at 0x7f74842355a0>\n",
      "0.08365726470947266 ms time taken by <function halvesAreAlike at 0x7f7484721ab0>\n",
      "0.09006047248840332 ms time taken by <function ifelse at 0x7f7484721a20>\n",
      "0.0819697380065918 ms time taken by <function halves at 0x7f74842355a0>\n",
      "0.08568286895751953 ms time taken by <function halvesAreAlike at 0x7f7484721ab0>\n",
      "0.0863640308380127 ms time taken by <function ifelse at 0x7f7484721a20>\n",
      "0.09231710433959961 ms time taken by <function halves at 0x7f74842355a0>\n",
      "0.08557701110839844 ms time taken by <function halvesAreAlike at 0x7f7484721ab0>\n",
      "0.09573721885681152 ms time taken by <function ifelse at 0x7f7484721a20>\n",
      "0.08339381217956543 ms time taken by <function halves at 0x7f74842355a0>\n",
      "0.08498191833496094 ms time taken by <function halvesAreAlike at 0x7f7484721ab0>\n",
      "0.08666443824768066 ms time taken by <function ifelse at 0x7f7484721a20>\n",
      "0.08415579795837402 ms time taken by <function halves at 0x7f74842355a0>\n",
      "0.08774495124816895 ms time taken by <function halvesAreAlike at 0x7f7484721ab0>\n",
      "0.09616470336914062 ms time taken by <function ifelse at 0x7f7484721a20>\n",
      "0.08340573310852051 ms time taken by <function halves at 0x7f74842355a0>\n",
      "0.0852513313293457 ms time taken by <function halvesAreAlike at 0x7f7484721ab0>\n",
      "0.09026074409484863 ms time taken by <function ifelse at 0x7f7484721a20>\n",
      "0.08066630363464355 ms time taken by <function halves at 0x7f74842355a0>\n",
      "0.0868837833404541 ms time taken by <function halvesAreAlike at 0x7f7484721ab0>\n",
      "0.09046721458435059 ms time taken by <function ifelse at 0x7f7484721a20>\n",
      "0.08137178421020508 ms time taken by <function halves at 0x7f74842355a0>\n",
      "0.08698797225952148 ms time taken by <function halvesAreAlike at 0x7f7484721ab0>\n",
      "0.09153366088867188 ms time taken by <function ifelse at 0x7f7484721a20>\n",
      "0.08204936981201172 ms time taken by <function halves at 0x7f74842355a0>\n",
      "0.08642268180847168 ms time taken by <function halvesAreAlike at 0x7f7484721ab0>\n",
      "0.09010887145996094 ms time taken by <function ifelse at 0x7f7484721a20>\n",
      "0.08092260360717773 ms time taken by <function halves at 0x7f74842355a0>\n",
      "0.08565282821655273 ms time taken by <function halvesAreAlike at 0x7f7484721ab0>\n",
      "0.08982038497924805 ms time taken by <function ifelse at 0x7f7484721a20>\n",
      "0.07998061180114746 ms time taken by <function halves at 0x7f74842355a0>\n",
      "0.08521842956542969 ms time taken by <function halvesAreAlike at 0x7f7484721ab0>\n",
      "0.08961939811706543 ms time taken by <function ifelse at 0x7f7484721a20>\n",
      "0.07952260971069336 ms time taken by <function halves at 0x7f74842355a0>\n",
      "0.08494806289672852 ms time taken by <function halvesAreAlike at 0x7f7484721ab0>\n",
      "0.09055542945861816 ms time taken by <function ifelse at 0x7f7484721a20>\n",
      "0.07963752746582031 ms time taken by <function halves at 0x7f74842355a0>\n",
      "0.08602428436279297 ms time taken by <function halvesAreAlike at 0x7f7484721ab0>\n",
      "0.09131121635437012 ms time taken by <function ifelse at 0x7f7484721a20>\n",
      "0.08036303520202637 ms time taken by <function halves at 0x7f74842355a0>\n",
      "0.0850224494934082 ms time taken by <function halvesAreAlike at 0x7f7484721ab0>\n",
      "0.08929204940795898 ms time taken by <function ifelse at 0x7f7484721a20>\n",
      "0.07952523231506348 ms time taken by <function halves at 0x7f74842355a0>\n",
      "0.08567070960998535 ms time taken by <function halvesAreAlike at 0x7f7484721ab0>\n",
      "0.08910012245178223 ms time taken by <function ifelse at 0x7f7484721a20>\n",
      "0.07953739166259766 ms time taken by <function halves at 0x7f74842355a0>\n",
      "0.08459782600402832 ms time taken by <function halvesAreAlike at 0x7f7484721ab0>\n",
      "0.08946561813354492 ms time taken by <function ifelse at 0x7f7484721a20>\n",
      "0.07985115051269531 ms time taken by <function halves at 0x7f74842355a0>\n",
      "0.08454561233520508 ms time taken by <function halvesAreAlike at 0x7f7484721ab0>\n",
      "0.08938837051391602 ms time taken by <function ifelse at 0x7f7484721a20>\n",
      "0.07825899124145508 ms time taken by <function halves at 0x7f74842355a0>\n",
      "0.0839850902557373 ms time taken by <function halvesAreAlike at 0x7f7484721ab0>\n",
      "0.08892035484313965 ms time taken by <function ifelse at 0x7f7484721a20>\n",
      "0.07931733131408691 ms time taken by <function halves at 0x7f74842355a0>\n",
      "0.08437585830688477 ms time taken by <function halvesAreAlike at 0x7f7484721ab0>\n",
      "0.08959221839904785 ms time taken by <function ifelse at 0x7f7484721a20>\n",
      "0.07974910736083984 ms time taken by <function halves at 0x7f74842355a0>\n",
      "0.08462834358215332 ms time taken by <function halvesAreAlike at 0x7f7484721ab0>\n",
      "0.0895545482635498 ms time taken by <function ifelse at 0x7f7484721a20>\n",
      "0.07887148857116699 ms time taken by <function halves at 0x7f74842355a0>\n",
      "0.08437514305114746 ms time taken by <function halvesAreAlike at 0x7f7484721ab0>\n",
      "0.08919692039489746 ms time taken by <function ifelse at 0x7f7484721a20>\n",
      "0.07936739921569824 ms time taken by <function halves at 0x7f74842355a0>\n",
      "0.08369779586791992 ms time taken by <function halvesAreAlike at 0x7f7484721ab0>\n",
      "0.08890628814697266 ms time taken by <function ifelse at 0x7f7484721a20>\n",
      "0.07938098907470703 ms time taken by <function halves at 0x7f74842355a0>\n",
      "0.08421063423156738 ms time taken by <function halvesAreAlike at 0x7f7484721ab0>\n",
      "0.08919858932495117 ms time taken by <function ifelse at 0x7f7484721a20>\n",
      "0.07941961288452148 ms time taken by <function halves at 0x7f74842355a0>\n",
      "0.0841529369354248 ms time taken by <function halvesAreAlike at 0x7f7484721ab0>\n",
      "0.08897185325622559 ms time taken by <function ifelse at 0x7f7484721a20>\n",
      "0.07914161682128906 ms time taken by <function halves at 0x7f74842355a0>\n",
      "0.08511137962341309 ms time taken by <function halvesAreAlike at 0x7f7484721ab0>\n",
      "0.08989071846008301 ms time taken by <function ifelse at 0x7f7484721a20>\n",
      "0.08081650733947754 ms time taken by <function halves at 0x7f74842355a0>\n",
      "0.08522820472717285 ms time taken by <function halvesAreAlike at 0x7f7484721ab0>\n",
      "0.0946812629699707 ms time taken by <function ifelse at 0x7f7484721a20>\n",
      "0.08016800880432129 ms time taken by <function halves at 0x7f74842355a0>\n",
      "0.08596658706665039 ms time taken by <function halvesAreAlike at 0x7f7484721ab0>\n",
      "0.09012651443481445 ms time taken by <function ifelse at 0x7f7484721a20>\n",
      "0.08071208000183105 ms time taken by <function halves at 0x7f74842355a0>\n",
      "0.0852193832397461 ms time taken by <function halvesAreAlike at 0x7f7484721ab0>\n",
      "0.08988571166992188 ms time taken by <function ifelse at 0x7f7484721a20>\n",
      "0.08716440200805664 ms time taken by <function halves at 0x7f74842355a0>\n",
      "0.0846548080444336 ms time taken by <function halvesAreAlike at 0x7f7484721ab0>\n",
      "0.09022021293640137 ms time taken by <function ifelse at 0x7f7484721a20>\n",
      "0.0795440673828125 ms time taken by <function halves at 0x7f74842355a0>\n",
      "0.08469843864440918 ms time taken by <function halvesAreAlike at 0x7f7484721ab0>\n",
      "0.08975625038146973 ms time taken by <function ifelse at 0x7f7484721a20>\n",
      "0.08059120178222656 ms time taken by <function halves at 0x7f74842355a0>\n",
      "0.08666706085205078 ms time taken by <function halvesAreAlike at 0x7f7484721ab0>\n",
      "0.09323644638061523 ms time taken by <function ifelse at 0x7f7484721a20>\n",
      "0.07931852340698242 ms time taken by <function halves at 0x7f74842355a0>\n",
      "0.0839231014251709 ms time taken by <function halvesAreAlike at 0x7f7484721ab0>\n",
      "0.08925867080688477 ms time taken by <function ifelse at 0x7f7484721a20>\n",
      "0.08017444610595703 ms time taken by <function halves at 0x7f74842355a0>\n",
      "0.08665871620178223 ms time taken by <function halvesAreAlike at 0x7f7484721ab0>\n",
      "0.08959507942199707 ms time taken by <function ifelse at 0x7f7484721a20>\n",
      "0.07980775833129883 ms time taken by <function halves at 0x7f74842355a0>\n",
      "0.08408260345458984 ms time taken by <function halvesAreAlike at 0x7f7484721ab0>\n",
      "0.08926081657409668 ms time taken by <function ifelse at 0x7f7484721a20>\n",
      "0.07931184768676758 ms time taken by <function halves at 0x7f74842355a0>\n",
      "0.08413028717041016 ms time taken by <function halvesAreAlike at 0x7f7484721ab0>\n",
      "0.0891568660736084 ms time taken by <function ifelse at 0x7f7484721a20>\n",
      "0.07941198348999023 ms time taken by <function halves at 0x7f74842355a0>\n",
      "0.08392024040222168 ms time taken by <function halvesAreAlike at 0x7f7484721ab0>\n",
      "0.0890042781829834 ms time taken by <function ifelse at 0x7f7484721a20>\n",
      "0.07965493202209473 ms time taken by <function halves at 0x7f74842355a0>\n",
      "0.08403491973876953 ms time taken by <function halvesAreAlike at 0x7f7484721ab0>\n",
      "0.08895015716552734 ms time taken by <function ifelse at 0x7f7484721a20>\n",
      "0.07798218727111816 ms time taken by <function halves at 0x7f74842355a0>\n",
      "0.08407282829284668 ms time taken by <function halvesAreAlike at 0x7f7484721ab0>\n",
      "0.08909797668457031 ms time taken by <function ifelse at 0x7f7484721a20>\n",
      "0.0793612003326416 ms time taken by <function halves at 0x7f74842355a0>\n",
      "0.0841677188873291 ms time taken by <function halvesAreAlike at 0x7f7484721ab0>\n",
      "0.08901095390319824 ms time taken by <function ifelse at 0x7f7484721a20>\n",
      "0.07923340797424316 ms time taken by <function halves at 0x7f74842355a0>\n",
      "0.08404660224914551 ms time taken by <function halvesAreAlike at 0x7f7484721ab0>\n",
      "0.0890645980834961 ms time taken by <function ifelse at 0x7f7484721a20>\n",
      "0.07839727401733398 ms time taken by <function halves at 0x7f74842355a0>\n",
      "0.08403658866882324 ms time taken by <function halvesAreAlike at 0x7f7484721ab0>\n",
      "0.08904337882995605 ms time taken by <function ifelse at 0x7f7484721a20>\n",
      "0.0792229175567627 ms time taken by <function halves at 0x7f74842355a0>\n",
      "0.08413481712341309 ms time taken by <function halvesAreAlike at 0x7f7484721ab0>\n",
      "0.089263916015625 ms time taken by <function ifelse at 0x7f7484721a20>\n",
      "0.07970261573791504 ms time taken by <function halves at 0x7f74842355a0>\n",
      "0.08390498161315918 ms time taken by <function halvesAreAlike at 0x7f7484721ab0>\n",
      "0.08916401863098145 ms time taken by <function ifelse at 0x7f7484721a20>\n",
      "0.08040046691894531 ms time taken by <function halves at 0x7f74842355a0>\n",
      "0.08533811569213867 ms time taken by <function halvesAreAlike at 0x7f7484721ab0>\n",
      "0.09014892578125 ms time taken by <function ifelse at 0x7f7484721a20>\n",
      "0.07982468605041504 ms time taken by <function halves at 0x7f74842355a0>\n",
      "0.08466315269470215 ms time taken by <function halvesAreAlike at 0x7f7484721ab0>\n",
      "0.08629441261291504 ms time taken by <function ifelse at 0x7f7484721a20>\n",
      "0.08325314521789551 ms time taken by <function halves at 0x7f74842355a0>\n",
      "0.0832829475402832 ms time taken by <function halvesAreAlike at 0x7f7484721ab0>\n",
      "0.0856170654296875 ms time taken by <function ifelse at 0x7f7484721a20>\n",
      "0.08231806755065918 ms time taken by <function halves at 0x7f74842355a0>\n",
      "0.08329319953918457 ms time taken by <function halvesAreAlike at 0x7f7484721ab0>\n",
      "0.08567523956298828 ms time taken by <function ifelse at 0x7f7484721a20>\n",
      "0.08350348472595215 ms time taken by <function halves at 0x7f74842355a0>\n",
      "0.08336663246154785 ms time taken by <function halvesAreAlike at 0x7f7484721ab0>\n",
      "0.0874028205871582 ms time taken by <function ifelse at 0x7f7484721a20>\n",
      "0.08475160598754883 ms time taken by <function halves at 0x7f74842355a0>\n",
      "0.08366918563842773 ms time taken by <function halvesAreAlike at 0x7f7484721ab0>\n",
      "0.08765769004821777 ms time taken by <function ifelse at 0x7f7484721a20>\n",
      "0.08773493766784668 ms time taken by <function halves at 0x7f74842355a0>\n",
      "0.08721566200256348 ms time taken by <function halvesAreAlike at 0x7f7484721ab0>\n",
      "0.08719301223754883 ms time taken by <function ifelse at 0x7f7484721a20>\n",
      "0.0807352066040039 ms time taken by <function halves at 0x7f74842355a0>\n",
      "0.08245110511779785 ms time taken by <function halvesAreAlike at 0x7f7484721ab0>\n",
      "0.08660459518432617 ms time taken by <function ifelse at 0x7f7484721a20>\n",
      "0.08284807205200195 ms time taken by <function halves at 0x7f74842355a0>\n",
      "0.08550763130187988 ms time taken by <function halvesAreAlike at 0x7f7484721ab0>\n",
      "0.08867788314819336 ms time taken by <function ifelse at 0x7f7484721a20>\n",
      "0.08429121971130371 ms time taken by <function halves at 0x7f74842355a0>\n",
      "0.08437204360961914 ms time taken by <function halvesAreAlike at 0x7f7484721ab0>\n",
      "0.08646368980407715 ms time taken by <function ifelse at 0x7f7484721a20>\n",
      "0.0820622444152832 ms time taken by <function halves at 0x7f74842355a0>\n",
      "0.08320116996765137 ms time taken by <function halvesAreAlike at 0x7f7484721ab0>\n",
      "0.0883324146270752 ms time taken by <function ifelse at 0x7f7484721a20>\n",
      "0.08373212814331055 ms time taken by <function halves at 0x7f74842355a0>\n",
      "0.08424711227416992 ms time taken by <function halvesAreAlike at 0x7f7484721ab0>\n",
      "0.08639764785766602 ms time taken by <function ifelse at 0x7f7484721a20>\n",
      "0.0829920768737793 ms time taken by <function halves at 0x7f74842355a0>\n",
      "0.08298540115356445 ms time taken by <function halvesAreAlike at 0x7f7484721ab0>\n",
      "0.0869143009185791 ms time taken by <function ifelse at 0x7f7484721a20>\n",
      "0.08519411087036133 ms time taken by <function halves at 0x7f74842355a0>\n",
      "0.08385777473449707 ms time taken by <function halvesAreAlike at 0x7f7484721ab0>\n",
      "0.08623838424682617 ms time taken by <function ifelse at 0x7f7484721a20>\n",
      "0.08249378204345703 ms time taken by <function halves at 0x7f74842355a0>\n",
      "0.08438491821289062 ms time taken by <function halvesAreAlike at 0x7f7484721ab0>\n",
      "0.08724808692932129 ms time taken by <function ifelse at 0x7f7484721a20>\n",
      "0.08252072334289551 ms time taken by <function halves at 0x7f74842355a0>\n",
      "0.08503222465515137 ms time taken by <function halvesAreAlike at 0x7f7484721ab0>\n",
      "0.08709979057312012 ms time taken by <function ifelse at 0x7f7484721a20>\n",
      "0.08388161659240723 ms time taken by <function halves at 0x7f74842355a0>\n",
      "0.08269214630126953 ms time taken by <function halvesAreAlike at 0x7f7484721ab0>\n",
      "0.0859375 ms time taken by <function ifelse at 0x7f7484721a20>\n",
      "0.08300328254699707 ms time taken by <function halves at 0x7f74842355a0>\n",
      "0.08330225944519043 ms time taken by <function halvesAreAlike at 0x7f7484721ab0>\n",
      "0.08634042739868164 ms time taken by <function ifelse at 0x7f7484721a20>\n",
      "0.08275580406188965 ms time taken by <function halves at 0x7f74842355a0>\n",
      "0.08291006088256836 ms time taken by <function halvesAreAlike at 0x7f7484721ab0>\n",
      "0.086273193359375 ms time taken by <function ifelse at 0x7f7484721a20>\n",
      "0.08143472671508789 ms time taken by <function halves at 0x7f74842355a0>\n",
      "0.0829763412475586 ms time taken by <function halvesAreAlike at 0x7f7484721ab0>\n",
      "0.08623814582824707 ms time taken by <function ifelse at 0x7f7484721a20>\n",
      "0.08132314682006836 ms time taken by <function halves at 0x7f74842355a0>\n",
      "0.0883636474609375 ms time taken by <function halvesAreAlike at 0x7f7484721ab0>\n",
      "0.0914757251739502 ms time taken by <function ifelse at 0x7f7484721a20>\n",
      "0.08332180976867676 ms time taken by <function halves at 0x7f74842355a0>\n",
      "0.08318114280700684 ms time taken by <function halvesAreAlike at 0x7f7484721ab0>\n",
      "0.08606100082397461 ms time taken by <function ifelse at 0x7f7484721a20>\n",
      "0.08116626739501953 ms time taken by <function halves at 0x7f74842355a0>\n",
      "0.08278298377990723 ms time taken by <function halvesAreAlike at 0x7f7484721ab0>\n",
      "0.08606743812561035 ms time taken by <function ifelse at 0x7f7484721a20>\n",
      "0.08384180068969727 ms time taken by <function halves at 0x7f74842355a0>\n",
      "0.08298444747924805 ms time taken by <function halvesAreAlike at 0x7f7484721ab0>\n",
      "0.08624076843261719 ms time taken by <function ifelse at 0x7f7484721a20>\n",
      "0.0811762809753418 ms time taken by <function halves at 0x7f74842355a0>\n",
      "0.0823202133178711 ms time taken by <function halvesAreAlike at 0x7f7484721ab0>\n",
      "0.0862116813659668 ms time taken by <function ifelse at 0x7f7484721a20>\n",
      "0.08284878730773926 ms time taken by <function halves at 0x7f74842355a0>\n",
      "0.08408236503601074 ms time taken by <function halvesAreAlike at 0x7f7484721ab0>\n",
      "0.08709144592285156 ms time taken by <function ifelse at 0x7f7484721a20>\n",
      "0.08403348922729492 ms time taken by <function halves at 0x7f74842355a0>\n",
      "0.08421492576599121 ms time taken by <function halvesAreAlike at 0x7f7484721ab0>\n",
      "0.08794403076171875 ms time taken by <function ifelse at 0x7f7484721a20>\n",
      "0.08077836036682129 ms time taken by <function halves at 0x7f74842355a0>\n",
      "0.08399391174316406 ms time taken by <function halvesAreAlike at 0x7f7484721ab0>\n",
      "0.08589601516723633 ms time taken by <function ifelse at 0x7f7484721a20>\n",
      "0.08086776733398438 ms time taken by <function halves at 0x7f74842355a0>\n",
      "0.08492136001586914 ms time taken by <function halvesAreAlike at 0x7f7484721ab0>\n",
      "0.08746194839477539 ms time taken by <function ifelse at 0x7f7484721a20>\n",
      "0.08559465408325195 ms time taken by <function halves at 0x7f74842355a0>\n",
      "0.08467626571655273 ms time taken by <function halvesAreAlike at 0x7f7484721ab0>\n",
      "0.08690428733825684 ms time taken by <function ifelse at 0x7f7484721a20>\n",
      "0.08330130577087402 ms time taken by <function halves at 0x7f74842355a0>\n",
      "0.08341479301452637 ms time taken by <function halvesAreAlike at 0x7f7484721ab0>\n",
      "0.08629012107849121 ms time taken by <function ifelse at 0x7f7484721a20>\n",
      "0.08271908760070801 ms time taken by <function halves at 0x7f74842355a0>\n",
      "0.08316540718078613 ms time taken by <function halvesAreAlike at 0x7f7484721ab0>\n",
      "0.08574390411376953 ms time taken by <function ifelse at 0x7f7484721a20>\n",
      "0.08281946182250977 ms time taken by <function halves at 0x7f74842355a0>\n",
      "0.08388090133666992 ms time taken by <function halvesAreAlike at 0x7f7484721ab0>\n",
      "0.09375977516174316 ms time taken by <function ifelse at 0x7f7484721a20>\n",
      "0.0799398422241211 ms time taken by <function halves at 0x7f74842355a0>\n",
      "0.08565139770507812 ms time taken by <function halvesAreAlike at 0x7f7484721ab0>\n",
      "0.0936744213104248 ms time taken by <function ifelse at 0x7f7484721a20>\n",
      "0.08173370361328125 ms time taken by <function halves at 0x7f74842355a0>\n",
      "0.08383393287658691 ms time taken by <function halvesAreAlike at 0x7f7484721ab0>\n",
      "0.09401726722717285 ms time taken by <function ifelse at 0x7f7484721a20>\n",
      "0.08139562606811523 ms time taken by <function halves at 0x7f74842355a0>\n",
      "0.0856633186340332 ms time taken by <function halvesAreAlike at 0x7f7484721ab0>\n",
      "0.08758211135864258 ms time taken by <function ifelse at 0x7f7484721a20>\n",
      "0.0834188461303711 ms time taken by <function halves at 0x7f74842355a0>\n",
      "0.08291339874267578 ms time taken by <function halvesAreAlike at 0x7f7484721ab0>\n",
      "0.09277677536010742 ms time taken by <function ifelse at 0x7f7484721a20>\n",
      "0.07936215400695801 ms time taken by <function halves at 0x7f74842355a0>\n",
      "0.08257198333740234 ms time taken by <function halvesAreAlike at 0x7f7484721ab0>\n",
      "0.08607268333435059 ms time taken by <function ifelse at 0x7f7484721a20>\n",
      "0.08289003372192383 ms time taken by <function halves at 0x7f74842355a0>\n",
      "0.08244109153747559 ms time taken by <function halvesAreAlike at 0x7f7484721ab0>\n",
      "0.09298825263977051 ms time taken by <function ifelse at 0x7f7484721a20>\n",
      "0.07883310317993164 ms time taken by <function halves at 0x7f74842355a0>\n",
      "0.08242225646972656 ms time taken by <function halvesAreAlike at 0x7f7484721ab0>\n",
      "0.09266543388366699 ms time taken by <function ifelse at 0x7f7484721a20>\n",
      "0.0817861557006836 ms time taken by <function halves at 0x7f74842355a0>\n",
      "0.08351421356201172 ms time taken by <function halvesAreAlike at 0x7f7484721ab0>\n",
      "0.09257698059082031 ms time taken by <function ifelse at 0x7f7484721a20>\n",
      "0.07919859886169434 ms time taken by <function halves at 0x7f74842355a0>\n",
      "0.08259344100952148 ms time taken by <function halvesAreAlike at 0x7f7484721ab0>\n",
      "0.09241485595703125 ms time taken by <function ifelse at 0x7f7484721a20>\n",
      "0.08210039138793945 ms time taken by <function halves at 0x7f74842355a0>\n",
      "0.08244895935058594 ms time taken by <function halvesAreAlike at 0x7f7484721ab0>\n",
      "0.08569836616516113 ms time taken by <function ifelse at 0x7f7484721a20>\n",
      "0.08273005485534668 ms time taken by <function halves at 0x7f74842355a0>\n",
      "0.08266234397888184 ms time taken by <function halvesAreAlike at 0x7f7484721ab0>\n",
      "0.09238147735595703 ms time taken by <function ifelse at 0x7f7484721a20>\n",
      "0.08147525787353516 ms time taken by <function halves at 0x7f74842355a0>\n",
      "0.08492136001586914 ms time taken by <function halvesAreAlike at 0x7f7484721ab0>\n",
      "0.09287643432617188 ms time taken by <function ifelse at 0x7f7484721a20>\n",
      "0.07919931411743164 ms time taken by <function halves at 0x7f74842355a0>\n",
      "0.08253717422485352 ms time taken by <function halvesAreAlike at 0x7f7484721ab0>\n",
      "0.0926361083984375 ms time taken by <function ifelse at 0x7f7484721a20>\n",
      "0.0791006088256836 ms time taken by <function halves at 0x7f74842355a0>\n",
      "0.08259320259094238 ms time taken by <function halvesAreAlike at 0x7f7484721ab0>\n",
      "0.0926656723022461 ms time taken by <function ifelse at 0x7f7484721a20>\n",
      "0.08245563507080078 ms time taken by <function halves at 0x7f74842355a0>\n",
      "0.08257603645324707 ms time taken by <function halvesAreAlike at 0x7f7484721ab0>\n",
      "0.08571457862854004 ms time taken by <function ifelse at 0x7f7484721a20>\n",
      "0.08277130126953125 ms time taken by <function halves at 0x7f74842355a0>\n",
      "0.0828697681427002 ms time taken by <function halvesAreAlike at 0x7f7484721ab0>\n",
      "0.09241795539855957 ms time taken by <function ifelse at 0x7f7484721a20>\n",
      "0.07912111282348633 ms time taken by <function halves at 0x7f74842355a0>\n",
      "0.08275699615478516 ms time taken by <function halvesAreAlike at 0x7f7484721ab0>\n",
      "0.09269046783447266 ms time taken by <function ifelse at 0x7f7484721a20>\n",
      "0.07925057411193848 ms time taken by <function halves at 0x7f74842355a0>\n",
      "0.08330869674682617 ms time taken by <function halvesAreAlike at 0x7f7484721ab0>\n",
      "0.09238028526306152 ms time taken by <function ifelse at 0x7f7484721a20>\n",
      "0.08186554908752441 ms time taken by <function halves at 0x7f74842355a0>\n",
      "0.08257389068603516 ms time taken by <function halvesAreAlike at 0x7f7484721ab0>\n",
      "0.08570194244384766 ms time taken by <function ifelse at 0x7f7484721a20>\n",
      "0.08346390724182129 ms time taken by <function halves at 0x7f74842355a0>\n",
      "0.08302593231201172 ms time taken by <function halvesAreAlike at 0x7f7484721ab0>\n",
      "0.09436225891113281 ms time taken by <function ifelse at 0x7f7484721a20>\n",
      "0.08073902130126953 ms time taken by <function halves at 0x7f74842355a0>\n",
      "0.08186054229736328 ms time taken by <function halvesAreAlike at 0x7f7484721ab0>\n",
      "0.08558797836303711 ms time taken by <function ifelse at 0x7f7484721a20>\n",
      "0.08067822456359863 ms time taken by <function halves at 0x7f74842355a0>\n",
      "0.0818016529083252 ms time taken by <function halvesAreAlike at 0x7f7484721ab0>\n",
      "0.09285640716552734 ms time taken by <function ifelse at 0x7f7484721a20>\n",
      "0.08047938346862793 ms time taken by <function halves at 0x7f74842355a0>\n",
      "0.08232331275939941 ms time taken by <function halvesAreAlike at 0x7f7484721ab0>\n",
      "0.08560347557067871 ms time taken by <function ifelse at 0x7f7484721a20>\n",
      "0.08104848861694336 ms time taken by <function halves at 0x7f74842355a0>\n",
      "0.08239316940307617 ms time taken by <function halvesAreAlike at 0x7f7484721ab0>\n",
      "0.09225773811340332 ms time taken by <function ifelse at 0x7f7484721a20>\n",
      "0.08067679405212402 ms time taken by <function halves at 0x7f74842355a0>\n",
      "0.08229207992553711 ms time taken by <function halvesAreAlike at 0x7f7484721ab0>\n",
      "0.08564090728759766 ms time taken by <function ifelse at 0x7f7484721a20>\n",
      "0.0823984146118164 ms time taken by <function halves at 0x7f74842355a0>\n",
      "0.08286905288696289 ms time taken by <function halvesAreAlike at 0x7f7484721ab0>\n",
      "0.09242796897888184 ms time taken by <function ifelse at 0x7f7484721a20>\n",
      "0.0788276195526123 ms time taken by <function halves at 0x7f74842355a0>\n",
      "0.08240938186645508 ms time taken by <function halvesAreAlike at 0x7f7484721ab0>\n",
      "0.09262871742248535 ms time taken by <function ifelse at 0x7f7484721a20>\n",
      "0.08081626892089844 ms time taken by <function halves at 0x7f74842355a0>\n",
      "0.082183837890625 ms time taken by <function halvesAreAlike at 0x7f7484721ab0>\n",
      "0.08545351028442383 ms time taken by <function ifelse at 0x7f7484721a20>\n",
      "0.08087921142578125 ms time taken by <function halves at 0x7f74842355a0>\n",
      "0.08199620246887207 ms time taken by <function halvesAreAlike at 0x7f7484721ab0>\n",
      "0.09247899055480957 ms time taken by <function ifelse at 0x7f7484721a20>\n",
      "0.07896542549133301 ms time taken by <function halves at 0x7f74842355a0>\n",
      "0.0837702751159668 ms time taken by <function halvesAreAlike at 0x7f7484721ab0>\n",
      "0.09302806854248047 ms time taken by <function ifelse at 0x7f7484721a20>\n",
      "0.08102893829345703 ms time taken by <function halves at 0x7f74842355a0>\n",
      "0.08340573310852051 ms time taken by <function halvesAreAlike at 0x7f7484721ab0>\n",
      "0.09257245063781738 ms time taken by <function ifelse at 0x7f7484721a20>\n",
      "0.08031868934631348 ms time taken by <function halves at 0x7f74842355a0>\n",
      "0.08244824409484863 ms time taken by <function halvesAreAlike at 0x7f7484721ab0>\n",
      "0.09246444702148438 ms time taken by <function ifelse at 0x7f7484721a20>\n",
      "0.08083677291870117 ms time taken by <function halves at 0x7f74842355a0>\n",
      "0.08341574668884277 ms time taken by <function halvesAreAlike at 0x7f7484721ab0>\n",
      "0.09312009811401367 ms time taken by <function ifelse at 0x7f7484721a20>\n",
      "0.08042621612548828 ms time taken by <function halves at 0x7f74842355a0>\n",
      "0.08238482475280762 ms time taken by <function halvesAreAlike at 0x7f7484721ab0>\n",
      "0.09231400489807129 ms time taken by <function ifelse at 0x7f7484721a20>\n",
      "0.07892537117004395 ms time taken by <function halves at 0x7f74842355a0>\n",
      "0.08229565620422363 ms time taken by <function halvesAreAlike at 0x7f7484721ab0>\n",
      "0.09232831001281738 ms time taken by <function ifelse at 0x7f7484721a20>\n",
      "0.08158564567565918 ms time taken by <function halves at 0x7f74842355a0>\n",
      "0.08270072937011719 ms time taken by <function halvesAreAlike at 0x7f7484721ab0>\n",
      "0.08564400672912598 ms time taken by <function ifelse at 0x7f7484721a20>\n",
      "0.08114075660705566 ms time taken by <function halves at 0x7f74842355a0>\n",
      "0.08307480812072754 ms time taken by <function halvesAreAlike at 0x7f7484721ab0>\n",
      "0.09245753288269043 ms time taken by <function ifelse at 0x7f7484721a20>\n",
      "0.08185124397277832 ms time taken by <function halves at 0x7f74842355a0>\n",
      "0.08251261711120605 ms time taken by <function halvesAreAlike at 0x7f7484721ab0>\n",
      "0.08556127548217773 ms time taken by <function ifelse at 0x7f7484721a20>\n",
      "0.08090019226074219 ms time taken by <function halves at 0x7f74842355a0>\n",
      "0.08243083953857422 ms time taken by <function halvesAreAlike at 0x7f7484721ab0>\n",
      "0.09256982803344727 ms time taken by <function ifelse at 0x7f7484721a20>\n",
      "0.0813913345336914 ms time taken by <function halves at 0x7f74842355a0>\n",
      "0.08367156982421875 ms time taken by <function halvesAreAlike at 0x7f7484721ab0>\n",
      "0.08592772483825684 ms time taken by <function ifelse at 0x7f7484721a20>\n",
      "0.08238911628723145 ms time taken by <function halves at 0x7f74842355a0>\n",
      "0.0826115608215332 ms time taken by <function halvesAreAlike at 0x7f7484721ab0>\n",
      "0.09229111671447754 ms time taken by <function ifelse at 0x7f7484721a20>\n",
      "0.08012628555297852 ms time taken by <function halves at 0x7f74842355a0>\n",
      "0.08482885360717773 ms time taken by <function halvesAreAlike at 0x7f7484721ab0>\n",
      "0.08597779273986816 ms time taken by <function ifelse at 0x7f7484721a20>\n",
      "0.0826106071472168 ms time taken by <function halves at 0x7f74842355a0>\n",
      "0.08307480812072754 ms time taken by <function halvesAreAlike at 0x7f7484721ab0>\n",
      "0.09399819374084473 ms time taken by <function ifelse at 0x7f7484721a20>\n",
      "0.08371782302856445 ms time taken by <function halves at 0x7f74842355a0>\n",
      "0.08370113372802734 ms time taken by <function halvesAreAlike at 0x7f7484721ab0>\n",
      "0.0866544246673584 ms time taken by <function ifelse at 0x7f7484721a20>\n",
      "0.08392214775085449 ms time taken by <function halves at 0x7f74842355a0>\n",
      "0.08531427383422852 ms time taken by <function halvesAreAlike at 0x7f7484721ab0>\n",
      "0.0949244499206543 ms time taken by <function ifelse at 0x7f7484721a20>\n",
      "0.0830237865447998 ms time taken by <function halves at 0x7f74842355a0>\n",
      "0.08601188659667969 ms time taken by <function halvesAreAlike at 0x7f7484721ab0>\n",
      "0.0951833724975586 ms time taken by <function ifelse at 0x7f7484721a20>\n",
      "0.08103394508361816 ms time taken by <function halves at 0x7f74842355a0>\n",
      "0.08384037017822266 ms time taken by <function halvesAreAlike at 0x7f7484721ab0>\n",
      "0.08669424057006836 ms time taken by <function ifelse at 0x7f7484721a20>\n",
      "0.08201479911804199 ms time taken by <function halves at 0x7f74842355a0>\n",
      "0.08243370056152344 ms time taken by <function halvesAreAlike at 0x7f7484721ab0>\n",
      "0.09270286560058594 ms time taken by <function ifelse at 0x7f7484721a20>\n",
      "0.07930231094360352 ms time taken by <function halves at 0x7f74842355a0>\n",
      "0.08210492134094238 ms time taken by <function halvesAreAlike at 0x7f7484721ab0>\n",
      "0.08562159538269043 ms time taken by <function ifelse at 0x7f7484721a20>\n",
      "0.08225464820861816 ms time taken by <function halves at 0x7f74842355a0>\n",
      "0.08299875259399414 ms time taken by <function halvesAreAlike at 0x7f7484721ab0>\n",
      "0.09247922897338867 ms time taken by <function ifelse at 0x7f7484721a20>\n",
      "0.08105993270874023 ms time taken by <function halves at 0x7f74842355a0>\n",
      "0.0823671817779541 ms time taken by <function halvesAreAlike at 0x7f7484721ab0>\n",
      "0.086669921875 ms time taken by <function ifelse at 0x7f7484721a20>\n",
      "Unexpected exception formatting exception. Falling back to standard exception\n"
     ]
    },
    {
     "name": "stderr",
     "output_type": "stream",
     "text": [
      "Traceback (most recent call last):\n",
      "  File \"/home/arvind/prog/source/lib/python3.10/site-packages/IPython/core/interactiveshell.py\", line 3550, in run_code\n",
      "    exec(code_obj, self.user_global_ns, self.user_ns)\n",
      "  File \"/tmp/ipykernel_970/3329656516.py\", line 51, in <module>\n",
      "    benchmark(halves)\n",
      "  File \"/tmp/ipykernel_970/3329656516.py\", line 48, in benchmark\n",
      "    fn(test_str)\n",
      "  File \"/tmp/ipykernel_970/3329656516.py\", line -1, in halves\n",
      "KeyboardInterrupt\n",
      "\n",
      "During handling of the above exception, another exception occurred:\n",
      "\n",
      "Traceback (most recent call last):\n",
      "  File \"/home/arvind/prog/source/lib/python3.10/site-packages/IPython/core/interactiveshell.py\", line 2144, in showtraceback\n",
      "    stb = self.InteractiveTB.structured_traceback(\n",
      "  File \"/home/arvind/prog/source/lib/python3.10/site-packages/IPython/core/ultratb.py\", line 1435, in structured_traceback\n",
      "    return FormattedTB.structured_traceback(\n",
      "  File \"/home/arvind/prog/source/lib/python3.10/site-packages/IPython/core/ultratb.py\", line 1326, in structured_traceback\n",
      "    return VerboseTB.structured_traceback(\n",
      "  File \"/home/arvind/prog/source/lib/python3.10/site-packages/IPython/core/ultratb.py\", line 1173, in structured_traceback\n",
      "    formatted_exception = self.format_exception_as_a_whole(etype, evalue, etb, number_of_lines_of_context,\n",
      "  File \"/home/arvind/prog/source/lib/python3.10/site-packages/IPython/core/ultratb.py\", line 1088, in format_exception_as_a_whole\n",
      "    frames.append(self.format_record(record))\n",
      "  File \"/home/arvind/prog/source/lib/python3.10/site-packages/IPython/core/ultratb.py\", line 970, in format_record\n",
      "    frame_info.lines, Colors, self.has_colors, lvals\n",
      "  File \"/home/arvind/prog/source/lib/python3.10/site-packages/IPython/core/ultratb.py\", line 792, in lines\n",
      "    return self._sd.lines\n",
      "  File \"/home/arvind/prog/source/lib/python3.10/site-packages/stack_data/utils.py\", line 145, in cached_property_wrapper\n",
      "    value = obj.__dict__[self.func.__name__] = self.func(obj)\n",
      "  File \"/home/arvind/prog/source/lib/python3.10/site-packages/stack_data/core.py\", line 734, in lines\n",
      "    pieces = self.included_pieces\n",
      "  File \"/home/arvind/prog/source/lib/python3.10/site-packages/stack_data/utils.py\", line 145, in cached_property_wrapper\n",
      "    value = obj.__dict__[self.func.__name__] = self.func(obj)\n",
      "  File \"/home/arvind/prog/source/lib/python3.10/site-packages/stack_data/core.py\", line 681, in included_pieces\n",
      "    pos = scope_pieces.index(self.executing_piece)\n",
      "  File \"/home/arvind/prog/source/lib/python3.10/site-packages/stack_data/utils.py\", line 145, in cached_property_wrapper\n",
      "    value = obj.__dict__[self.func.__name__] = self.func(obj)\n",
      "  File \"/home/arvind/prog/source/lib/python3.10/site-packages/stack_data/core.py\", line 660, in executing_piece\n",
      "    return only(\n",
      "  File \"/home/arvind/prog/source/lib/python3.10/site-packages/executing/executing.py\", line 116, in only\n",
      "    raise NotOneValueFound('Expected one value, found 0')\n",
      "executing.executing.NotOneValueFound: Expected one value, found 0\n"
     ]
    }
   ],
   "source": [
    "import time\n",
    "def halves(s:str) -> bool:\n",
    "    s = s.lower()\n",
    "    se: set = {'a','e','i','o','u'}\n",
    "    count: int= 0\n",
    "    j: int = len(s)\n",
    "    for i in s[:j//2]:\n",
    "        if i in se:\n",
    "            count += 1\n",
    "    for i in s[j//2:]:\n",
    "        if i in se:\n",
    "            count -= 1\n",
    "    return True if count == 0 else False\n",
    "def ifelse(s):\n",
    "    s = s.lower()\n",
    "    a,b = s[:len(s)//2],s[len(s)//2:]\n",
    "    count = 0\n",
    "    for i in a:\n",
    "        if i == 'a' or i == 'e' or i == 'o' or i == 'u' or i =='i':\n",
    "            count += 1\n",
    "    for i in b:\n",
    "        if i == 'a' or i == 'e' or i == 'o' or i == 'u' or i =='i':\n",
    "            count -= 1\n",
    "    return True if count  == 0 else False\n",
    "\n",
    "def halvesAreAlike(s: str) -> bool:\n",
    "    s=s.lower()\n",
    "    half = len(s) // 2\n",
    "    a = s[0:half]\n",
    "    b = s[half:len(s)]\n",
    "    count = 0\n",
    "    c = 0\n",
    "    for i in a:\n",
    "        if i in 'aeiouAEIOU':\n",
    "            count+=1\n",
    "    for j in b:\n",
    "        if j in 'aeiouAEIOU':\n",
    "            c+=1\n",
    "    # if c == count:\n",
    "    #     return True\n",
    "    # else:\n",
    "    #     return False \n",
    "    return True if count == 0 else False   \n",
    "\n",
    "def benchmark(fn):\n",
    "    test_str = 'a' * 10**6\n",
    "    start = time.time()\n",
    "    fn(test_str)\n",
    "    print(time.time()-start,f\"ms time taken by {fn}\")\n",
    "while True:\n",
    "    benchmark(halves)\n",
    "    benchmark(halvesAreAlike)\n",
    "    benchmark(ifelse)"
   ]
  },
  {
   "cell_type": "code",
   "execution_count": 156,
   "metadata": {},
   "outputs": [
    {
     "name": "stdout",
     "output_type": "stream",
     "text": [
      "3.337860107421875e-06\n",
      "2.86102294921875e-06\n"
     ]
    }
   ],
   "source": [
    "import time\n",
    "def sqrt(s:int):\n",
    "    x: int = 0\n",
    "    while s:\n",
    "        i:int = s%10\n",
    "        s = s//10\n",
    "        x += i**2\n",
    "    return x\n",
    "def sqrt_d(s):\n",
    "    x = 0\n",
    "    while s:\n",
    "        s , i = divmod(s,10)\n",
    "        x += i**2\n",
    "    return x\n",
    "\n",
    "def benchmark(fn):\n",
    "    start = time.time()\n",
    "    fn(99)\n",
    "    print(time.time()-start)\n",
    "\n",
    "benchmark(sqrt)\n",
    "benchmark(sqrt_d)"
   ]
  },
  {
   "cell_type": "code",
   "execution_count": 58,
   "metadata": {},
   "outputs": [
    {
     "name": "stdout",
     "output_type": "stream",
     "text": [
      "2 3 1\n",
      "1 1 -2\n"
     ]
    }
   ],
   "source": [
    "\n",
    "ans = 0b0\n",
    "carry = 0b1\n",
    "a = 0b10\n",
    "b = 0b11\n",
    "\n",
    "while a and b:\n",
    "    print(a,b,carry)\n",
    "    if a&b&carry == 1:\n",
    "        carry = carry\n",
    "    elif a & carry == 1 or a&b==1 or b&carry == 1:\n",
    "        carry = ~carry\n",
    "\n",
    "    \n",
    "    a>>=1\n",
    "    b>>=1\n",
    "\n"
   ]
  },
  {
   "cell_type": "code",
   "execution_count": 8,
   "metadata": {},
   "outputs": [
    {
     "name": "stdout",
     "output_type": "stream",
     "text": [
      "['asd']\n"
     ]
    }
   ],
   "source": [
    "matches =[[1,3],[2,3],[3,6],[5,6],[5,7],[4,5],[4,8],[4,9],[10,4],[10,9]]\n",
    "lose = {}\n",
    "for i in matches:\n",
    "    i = i[1]\n",
    "    if i in lose:\n",
    "        lose[i] += 1\n",
    "    else:\n",
    "        lose[i] = 1\n",
    "lost = {i[1]:lost.get(i[0])}"
   ]
  },
  {
   "cell_type": "code",
   "execution_count": 4,
   "metadata": {},
   "outputs": [
    {
     "name": "stdout",
     "output_type": "stream",
     "text": [
      "45   ajsdc gausdgyauwetdhas hdfvuyawtyerfavsdcfgha\n"
     ]
    }
   ],
   "source": [
    "l = \"ajsdc gausdgyauwetdhas hdfvuyawtyerfavsdcfgha\"\n",
    "\n",
    "print(f\"{len(l):<5}\"+l)"
   ]
  }
 ],
 "metadata": {
  "kernelspec": {
   "display_name": "Python 3",
   "language": "python",
   "name": "python3"
  },
  "language_info": {
   "codemirror_mode": {
    "name": "ipython",
    "version": 3
   },
   "file_extension": ".py",
   "mimetype": "text/x-python",
   "name": "python",
   "nbconvert_exporter": "python",
   "pygments_lexer": "ipython3",
   "version": "3.11.7"
  }
 },
 "nbformat": 4,
 "nbformat_minor": 2
}
