{
 "cells": [
  {
   "cell_type": "code",
   "execution_count": null,
   "metadata": {},
   "outputs": [],
   "source": [
    "def permutation(object: list, ans: list = [], length=None):\n",
    "    if length is None:\n",
    "        length = len(object)\n",
    "\n",
    "    if len(ans) >= length:\n",
    "        return [ans]\n",
    "    first = object[0]\n",
    "    li = []\n",
    "    if first not in ans:\n",
    "        for i in range(len(ans) + 1):\n",
    "            li += permutation(object[1:], ans[:i] + [first] + ans[i:], length)\n",
    "    else:\n",
    "        return permutation(object[1:], ans + [first], length)\n",
    "    return li\n",
    "\n",
    "\n",
    "print(permutation([1, 1, 2]))"
   ]
  },
  {
   "cell_type": "code",
   "execution_count": 40,
   "metadata": {},
   "outputs": [
    {
     "name": "stdout",
     "output_type": "stream",
     "text": [
      "['622', '262', '226', '622', '262', '226']\n"
     ]
    }
   ],
   "source": [
    "def permutation(object: str, ans: str = \"\", length=None):\n",
    "    if length is None:\n",
    "        length = len(object)\n",
    "    if len(ans) >= length:\n",
    "        return [ans]\n",
    "    first = object[0]\n",
    "    object = object[1:]\n",
    "    li = []\n",
    "    for i in range(len(ans) + 1):\n",
    "        li += permutation(object, ans[:i] + first + ans[i:], length)\n",
    "    return li\n",
    "\n",
    "\n",
    "print(permutation(\"226\"))"
   ]
  },
  {
   "cell_type": "code",
   "execution_count": 15,
   "metadata": {},
   "outputs": [
    {
     "name": "stdout",
     "output_type": "stream",
     "text": [
      "[1, 1, 2, 3, 4, 5]\n",
      "[1, 1, 2, 3, 4, 5]\n",
      "[1, 2, 1, 3, 4, 5]\n",
      "[1, 2, 3, 1, 4, 5]\n",
      "[1, 2, 3, 4, 1, 5]\n"
     ]
    }
   ],
   "source": [
    "str = [1, 2, 3, 4, 5]\n",
    "\n",
    "for i, val in enumerate(str):\n",
    "    print(str[:i] + [1] + str[i:])"
   ]
  },
  {
   "cell_type": "code",
   "execution_count": null,
   "metadata": {},
   "outputs": [],
   "source": [
    "def subset(string: str, ans: str = \"\"):\n",
    "    if len(string) <= 0:\n",
    "        return [ans]\n",
    "    c = string[0]\n",
    "    string = string[1:]\n",
    "    return subset(string, ans + c) + subset(string, ans)\n",
    "\n",
    "\n",
    "print(list(set(subset(\"aabcaah\"))))"
   ]
  },
  {
   "cell_type": "code",
   "execution_count": null,
   "metadata": {},
   "outputs": [],
   "source": [
    "for i in 'abc':\n",
    "    for j in 'def':\n",
    "        for k in 'abc':\n",
    "            #...........................n:\n",
    "            print(i+j+k)"
   ]
  },
  {
   "cell_type": "code",
   "execution_count": 23,
   "metadata": {},
   "outputs": [
    {
     "name": "stdout",
     "output_type": "stream",
     "text": [
      "['a', 'b', 'c']\n"
     ]
    }
   ],
   "source": [
    "def letter(obj: str,dictionary: dict,ans: str = \"\") -> list[str]:\n",
    "    if len(obj) <= 0:\n",
    "        return [ans]\n",
    "    first = dictionary[int(obj[0])]\n",
    "    li = []\n",
    "    for i in first:\n",
    "        li += letter(obj[1:],dictionary,ans+i)\n",
    "    return li\n",
    "\n",
    "HM = {\n",
    "    1:'',\n",
    "    2:'abc',\n",
    "    3:'def',\n",
    "    4:'ghi',\n",
    "    5:'jkl',\n",
    "    6:'mno',\n",
    "    7:'pqrs',\n",
    "    8:'tuv',\n",
    "    9:'wxyz',\n",
    "    0:''\n",
    "}\n",
    "\n",
    "print(letter('2',HM))"
   ]
  },
  {
   "cell_type": "code",
   "execution_count": 30,
   "metadata": {},
   "outputs": [
    {
     "name": "stdout",
     "output_type": "stream",
     "text": [
      "<class 'str'>: a\n",
      "<class 'str'>: b\n",
      "<class 'str'>: c\n",
      "<class 'str'>: d\n",
      "<class 'str'>: e\n",
      "<class 'str'>: f\n",
      "<class 'str'>: g\n",
      "<class 'str'>: h\n",
      "<class 'str'>: i\n",
      "<class 'str'>: j\n",
      "<class 'str'>: k\n",
      "<class 'str'>: l\n",
      "<class 'str'>: m\n",
      "<class 'str'>: n\n",
      "<class 'str'>: o\n",
      "<class 'str'>: p\n",
      "<class 'str'>: q\n",
      "<class 'str'>: r\n",
      "<class 'str'>: s\n",
      "<class 'str'>: t\n",
      "<class 'str'>: u\n",
      "<class 'str'>: v\n",
      "<class 'str'>: w\n",
      "<class 'str'>: x\n",
      "<class 'str'>: y\n",
      "<class 'str'>: z\n"
     ]
    }
   ],
   "source": [
    "number_to_letter = {str(i): chr(i + 96) for i in range(1, 27)}\n",
    "\n",
    "# Test the hashmap\n",
    "for number, letter in number_to_letter.items():\n",
    "    print(f\"{number}: {letter}\")\n"
   ]
  },
  {
   "cell_type": "code",
   "execution_count": 38,
   "metadata": {},
   "outputs": [
    {
     "name": "stdout",
     "output_type": "stream",
     "text": [
      "['f', 'b', 'z', 'b', 'z', 'v']\n"
     ]
    }
   ],
   "source": [
    "\n",
    "def decoded(String: str,HM: dict,ans = \"\"):\n",
    "    if len(String) <= 0:\n",
    "        if ans in HM:\n",
    "            return [HM[ans]]\n",
    "        else:\n",
    "            return []\n",
    "    return  decoded(String[1:],HM,ans) + decoded(String[1:],HM,ans+String[0])\n",
    "\n",
    "HM = {str(i): chr(i + 96) for i in range(1, 27)}\n",
    "print(decoded('226',HM))"
   ]
  },
  {
   "cell_type": "code",
   "execution_count": 64,
   "metadata": {},
   "outputs": [
    {
     "data": {
      "text/plain": [
       "'1'"
      ]
     },
     "execution_count": 64,
     "metadata": {},
     "output_type": "execute_result"
    }
   ],
   "source": [
    "str(1)"
   ]
  },
  {
   "cell_type": "code",
   "execution_count": 56,
   "metadata": {},
   "outputs": [
    {
     "name": "stdout",
     "output_type": "stream",
     "text": [
      "0 6\n",
      "0 7\n",
      "0 8\n",
      "1 6\n",
      "1 7\n",
      "1 8\n",
      "2 6\n",
      "2 7\n",
      "2 8\n"
     ]
    }
   ],
   "source": [
    "jo=6\n",
    "io=0\n",
    "# print(i-i%3,j-j%3)\n",
    "for i in range(3):\n",
    "    for j in range(3):\n",
    "        print(io+i,jo+j)"
   ]
  },
  {
   "cell_type": "code",
   "execution_count": 76,
   "metadata": {},
   "outputs": [
    {
     "name": "stdout",
     "output_type": "stream",
     "text": [
      ". 5\n",
      ". 3\n",
      ". .\n",
      ". 6\n",
      ". .\n",
      ". .\n",
      ". .\n",
      "6 9\n",
      ". 8\n"
     ]
    },
    {
     "data": {
      "text/plain": [
       "True"
      ]
     },
     "execution_count": 76,
     "metadata": {},
     "output_type": "execute_result"
    }
   ],
   "source": [
    "board = [['.' for i in range(9)] for i in range(9)]\n",
    "board = [[\"5\",\"3\",\".\",\".\",\"7\",\".\",\".\",\".\",\".\"],\n",
    "         [\"6\",\".\",\".\",\"1\",\"9\",\"5\",\".\",\".\",\".\"],\n",
    "         [\".\",\"9\",\"8\",\".\",\".\",\".\",\".\",\"6\",\".\"],\n",
    "         [\"8\",\".\",\".\",\".\",\"6\",\".\",\".\",\".\",\"3\"],\n",
    "         [\"4\",\".\",\".\",\"8\",\".\",\"3\",\".\",\".\",\"1\"],\n",
    "         [\"7\",\".\",\".\",\".\",\"2\",\".\",\".\",\".\",\"6\"],\n",
    "         [\".\",\"6\",\".\",\".\",\".\",\".\",\"2\",\"8\",\".\"],\n",
    "         [\".\",\".\",\".\",\"4\",\"1\",\"9\",\".\",\".\",\"5\"],\n",
    "         [\".\",\".\",\".\",\".\",\"8\",\".\",\".\",\"7\",\"9\"]]\n",
    "def check(board: list[list[chr]],row:int,col:int,num:chr):\n",
    "    for i in range(9):\n",
    "        if num == board[i][col] or num == board[row][i]:\n",
    "                return False\n",
    "    row = row-row%3\n",
    "    col = col-col%3\n",
    "    for i in range(3):\n",
    "        for j in range(3):\n",
    "            print(board[i+row][j+col],board[i][j])\n",
    "            if num == board[i+row][j+col]:\n",
    "                    return False\n",
    "    return True\n",
    "check(board,0,6,'9')"
   ]
  },
  {
   "cell_type": "code",
   "execution_count": 82,
   "metadata": {},
   "outputs": [
    {
     "name": "stdout",
     "output_type": "stream",
     "text": [
      "[['5', '3', '4', '6', '7', '8', '9', '1', '2'], ['6', '7', '2', '1', '9', '5', '3', '4', '8'], ['1', '9', '8', '3', '4', '2', '5', '6', '7'], ['8', '5', '9', '7', '6', '1', '4', '2', '3'], ['4', '2', '6', '8', '5', '3', '7', '9', '1'], ['7', '1', '3', '9', '2', '4', '8', '5', '6'], ['9', '6', '1', '5', '3', '7', '2', '8', '4'], ['2', '8', '7', '4', '1', '9', '6', '3', '5'], ['3', '4', '5', '2', '8', '6', '1', '7', '9']]\n"
     ]
    }
   ],
   "source": [
    "\n",
    "def check(board: list[list[chr]],row:int,col:int,num:chr):\n",
    "    \n",
    "    for i in range(9):\n",
    "        if num == board[i][col] or num == board[row][i]:\n",
    "            return False\n",
    "    row = row-row%3\n",
    "    col = col-col%3\n",
    "    for i in range(3):\n",
    "        for j in range(3):\n",
    "            if num == board[i+row][j+col]:\n",
    "                return False\n",
    "    return True\n",
    "def backtrack(board):\n",
    "    isBreak = False\n",
    "    for row in range(9):\n",
    "        for col in range(9):\n",
    "            if board[row][col] == \".\":\n",
    "                isBreak = True\n",
    "                break\n",
    "        if isBreak:\n",
    "            break\n",
    "    if not isBreak:\n",
    "        return True\n",
    "    \n",
    "    for num in range(1,10):\n",
    "        num = str(num) \n",
    "        if check(board,row,col,str(num)):\n",
    "            board[row][col] = num\n",
    "            if backtrack(board):\n",
    "                return True\n",
    "            else:\n",
    "                board[row][col] = '.'\n",
    "    return False\n",
    "board = [[\"5\",\"3\",\".\",\".\",\"7\",\".\",\".\",\".\",\".\"],\n",
    "         [\"6\",\".\",\".\",\"1\",\"9\",\"5\",\".\",\".\",\".\"],\n",
    "         [\".\",\"9\",\"8\",\".\",\".\",\".\",\".\",\"6\",\".\"],\n",
    "         [\"8\",\".\",\".\",\".\",\"6\",\".\",\".\",\".\",\"3\"],\n",
    "         [\"4\",\".\",\".\",\"8\",\".\",\"3\",\".\",\".\",\"1\"],\n",
    "         [\"7\",\".\",\".\",\".\",\"2\",\".\",\".\",\".\",\"6\"],\n",
    "         [\".\",\"6\",\".\",\".\",\".\",\".\",\"2\",\"8\",\".\"],\n",
    "         [\".\",\".\",\".\",\"4\",\"1\",\"9\",\".\",\".\",\"5\"],\n",
    "         [\".\",\".\",\".\",\".\",\"8\",\".\",\".\",\"7\",\"9\"]]\n",
    "backtrack(board)\n",
    "print(board)\n"
   ]
  },
  {
   "cell_type": "code",
   "execution_count": 89,
   "metadata": {},
   "outputs": [
    {
     "data": {
      "text/plain": [
       "True"
      ]
     },
     "execution_count": 89,
     "metadata": {},
     "output_type": "execute_result"
    }
   ],
   "source": [
    "\n",
    "\n",
    "\n",
    "def check(board: list[list[chr]],row:int,col:int,num:chr):\n",
    "    count = 0\n",
    "    for i in range(9):\n",
    "        if num == board[i][col]:\n",
    "            count+=1\n",
    "    for i in range(9):\n",
    "        if num == board[row][i]:\n",
    "            \n",
    "            count += 1\n",
    "\n",
    "    r = row-row%3\n",
    "    c = col-col%3\n",
    "    for i in range(3):\n",
    "        for j in range(3):\n",
    "            if num == board[i+r][j+c]:\n",
    "                count += 1\n",
    "    \n",
    "    return True if count <= 3 else False\n",
    "board = [[\"5\",\"3\",\".\",\".\",\"7\",\".\",\".\",\".\",\".\"]\n",
    ",[\"6\",\".\",\".\",\"1\",\"9\",\"5\",\".\",\".\",\".\"]\n",
    ",[\".\",\"9\",\"8\",\".\",\".\",\".\",\".\",\"6\",\".\"]\n",
    ",[\"8\",\".\",\".\",\".\",\"6\",\".\",\".\",\".\",\"3\"]\n",
    ",[\"4\",\".\",\".\",\"8\",\".\",\"3\",\".\",\".\",\"1\"]\n",
    ",[\"7\",\".\",\".\",\".\",\"2\",\".\",\".\",\".\",\"6\"]\n",
    ",[\".\",\"6\",\".\",\".\",\".\",\".\",\"2\",\"8\",\".\"]\n",
    ",[\".\",\".\",\".\",\"4\",\"1\",\"9\",\".\",\".\",\"5\"]\n",
    ",[\".\",\".\",\".\",\".\",\"8\",\".\",\".\",\"7\",\"9\"]]\n",
    "\n",
    "check(board,0,0,\"5\")"
   ]
  },
  {
   "cell_type": "code",
   "execution_count": 12,
   "metadata": {},
   "outputs": [
    {
     "data": {
      "text/plain": [
       "'Student'"
      ]
     },
     "execution_count": 12,
     "metadata": {},
     "output_type": "execute_result"
    }
   ],
   "source": [
    "\n",
    "\n",
    "\n",
    "class Student:\n",
    "    who = \"Student\"\n",
    "    def __init__(self,name,status) -> None:\n",
    "        self._name = name\n",
    "        self._id = hash(name)\n",
    "        self._status = status\n",
    "        self._money = 0\n",
    "    \n",
    "    def work(self):\n",
    "       self._money += 100\n",
    "       print(\"100$ earned by working\")\n",
    "       return \n",
    "    \n",
    "\n",
    "    \n",
    "rahul: Student = Student(\"rahul\",True)\n",
    "\n",
    "rahul.who: str = \"Farmewer\"\n",
    "\n",
    "niti: Student = Student(\"niti\",False)\n",
    "type(niti).who\n",
    "\n",
    "\n",
    "\n",
    "\n"
   ]
  },
  {
   "cell_type": "code",
   "execution_count": 14,
   "metadata": {},
   "outputs": [
    {
     "data": {
      "text/plain": [
       "139423224561697880139724382870407283950070256587697307264108962948325571622863290691557658876222521294125"
      ]
     },
     "execution_count": 14,
     "metadata": {},
     "output_type": "execute_result"
    }
   ],
   "source": [
    "\n",
    "def fib(n:int,hash_map:dict = {}):\n",
    "    if n <= 2:\n",
    "        return 1\n",
    "    if n not in hash_map:\n",
    "        ans = fib(n-1,hash_map) + fib(n-2,hash_map) \n",
    "    else:\n",
    "        ans = hash_map[n]\n",
    "    hash_map[n] = ans\n",
    "    return ans\n",
    "fib(500)\n"
   ]
  },
  {
   "cell_type": "code",
   "execution_count": 2,
   "metadata": {},
   "outputs": [
    {
     "name": "stdout",
     "output_type": "stream",
     "text": [
      "4\n"
     ]
    }
   ],
   "source": [
    "\n",
    "\n",
    "from functools import cache\n",
    "\n",
    "\n",
    "nums = [1,2,3,4]\n",
    "\n",
    "def check(s: list):\n",
    "    counter:int = 1\n",
    "    l:int = len(s)\n",
    "    if l <= 1:\n",
    "        return counter\n",
    "    for i in range(1,l):\n",
    "        if s[i] > s[i-1]:\n",
    "            counter += 1\n",
    "        else:\n",
    "            return counter\n",
    "    return counter\n",
    "\n",
    "def subset(string: list, ans: list = []):\n",
    "    if len(string) <= 0:\n",
    "        return [ans]\n",
    "    c = string[0]\n",
    "    string = string[1:]\n",
    "    return subset(string, ans + [c]) + subset(string, ans)\n",
    "\n",
    "lis = max(list(map(check,subset(nums))))\n",
    "print(lis)\n",
    "\n",
    "\n"
   ]
  },
  {
   "cell_type": "code",
   "execution_count": 52,
   "metadata": {},
   "outputs": [
    {
     "name": "stdout",
     "output_type": "stream",
     "text": [
      "0.00936579704284668\n"
     ]
    }
   ],
   "source": [
    "import time \n",
    "@cache\n",
    "def move(row: int,col: int):\n",
    "    if (row,col) == (0,0):\n",
    "        return 1\n",
    "    if row < 0 or col < 0:\n",
    "        return 0\n",
    "    return move(row-1,col) + move(row,col-1)\n",
    "start = time.time()\n",
    "move(100,100)\n",
    "print(time.time()-start)"
   ]
  },
  {
   "cell_type": "code",
   "execution_count": 64,
   "metadata": {},
   "outputs": [
    {
     "name": "stdout",
     "output_type": "stream",
     "text": [
      "0.008314371109008789\n"
     ]
    }
   ],
   "source": [
    "import time\n",
    "@cache\n",
    "def move(ans: (int,int) ,row: int = 0,col: int = 0):\n",
    "    if row > ans[0] or col > ans[1]:\n",
    "        return 0\n",
    "    if row == ans[0] and col == ans[1]:\n",
    "        return 1\n",
    "    if row == ans[0]:\n",
    "        return move(ans,row,col+1)\n",
    "    if col == ans[1]:\n",
    "        return move(ans,row+1,col)\n",
    "    return move(ans,row+1,col) + move(ans,row,col+1)\n",
    "start = time.time()\n",
    "move((100,100))\n",
    "print(time.time()-start)"
   ]
  },
  {
   "cell_type": "code",
   "execution_count": 18,
   "metadata": {},
   "outputs": [
    {
     "data": {
      "text/plain": [
       "[[2, 1, 1], [1, 2, 1], [1, 1, 2]]"
      ]
     },
     "execution_count": 18,
     "metadata": {},
     "output_type": "execute_result"
    }
   ],
   "source": [
    "def permutation(object: list,k: int = 0,ans: list = [],set_ = set()):\n",
    "            if len(ans) == len(object):\n",
    "                if tuple(ans) not in set_:\n",
    "                    set_.add(tuple(ans))\n",
    "                    return [ans]\n",
    "                else:\n",
    "                    return []\n",
    "            first = object[k]\n",
    "            li = []\n",
    "            \n",
    "            for i in range(len(ans) + 1):\n",
    "                li += permutation(object,k+1,ans[:i] + [first] + ans[i:],set_)\n",
    "            \n",
    "            return li\n",
    "\n",
    "nums = [1,1,2]\n",
    "permutation(nums)"
   ]
  },
  {
   "cell_type": "code",
   "execution_count": 25,
   "metadata": {},
   "outputs": [
    {
     "data": {
      "text/plain": [
       "[[1, 2, 5], [1, 7], [1, 6, 1], [2, 6]]"
      ]
     },
     "execution_count": 25,
     "metadata": {},
     "output_type": "execute_result"
    }
   ],
   "source": [
    "def subset(string: list, target: int,ans: list = [],_s = set()):\n",
    "    if len(string) <= 0:\n",
    "        if sum(ans) == target and tuple(sorted(ans)) not in _s:\n",
    "            _s.add(tuple(sorted(ans)))\n",
    "            return [ans]\n",
    "        else:\n",
    "            return []\n",
    "    c = string[0]\n",
    "    string = string[1:]\n",
    "    return subset(string,target ,ans + [c],_s) + subset(string, target,ans,_s)\n",
    "        \n",
    "subset([10,1,2,7,6,1,5],8) "
   ]
  },
  {
   "cell_type": "code",
   "execution_count": null,
   "metadata": {},
   "outputs": [],
   "source": [
    "def check(arr:list[int]):\n",
    "    if len(arr) < 3:\n",
    "        return False\n",
    "    diff = arr[1] - arr[0]\n",
    "    for i in range(1,len(arr)):\n",
    "        if arr[i] - arr[i-1] != diff:\n",
    "            return False\n",
    "    return True\n",
    "\n",
    "def comb(i: int , arr: list,ans:list[int] = [],_set=list):\n",
    "    if len(arr) == i:\n",
    "        if check(ans):\n",
    "            _set.append(tuple(ans))\n",
    "        return\n",
    "    ans.append(arr[i])\n",
    "    comb(i+1,arr,ans,_set)\n",
    "    ans.pop()\n",
    "    comb(i+1,arr,ans,_set)\n",
    "nums = [1,1,1,1,1,1,1,1,1,1,1,1,1,1,1,1,1,1,1,1,1,1,1]\n",
    "s = list()\n",
    "comb(0,nums,[],s)\n",
    "print(len(s))\n",
    "print([list(i) for i in s])\n",
    "\n"
   ]
  },
  {
   "cell_type": "code",
   "execution_count": 70,
   "metadata": {},
   "outputs": [
    {
     "name": "stdout",
     "output_type": "stream",
     "text": [
      "25\n",
      "[[1, 1, 1, 1, 1, 1, 1, 1, 1, 1, 1, 1, 1, 1, 1, 1, 1, 1, 1, 1, 1, 1, 1]]\n"
     ]
    }
   ],
   "source": [
    "\n",
    "def track(i,nums:list[int],target,ans: list[int] = []):\n",
    "            if len(nums) == i:\n",
    "                if target == 0:\n",
    "                    result.append(list(ans))\n",
    "                return\n",
    "            ans.append(nums[i])\n",
    "            track(i+1,nums,target-nums[i],ans)\n",
    "            ans.pop()\n",
    "            while i + 1 < len(nums) and nums[i] == nums[i+1]:\n",
    "                i+=1\n",
    "            track(i+1,nums,target,ans)\n",
    "result = []\n",
    "nums = [1,1,1,1,1,1,1,1,1,1,1,1,1,1,1,1,1,1,1,1,1,1,1,1,1]\n",
    "print(len(nums))\n",
    "nums.sort()\n",
    "track(0,nums,23)\n",
    "print(result)\n",
    "        "
   ]
  },
  {
   "cell_type": "code",
   "execution_count": 53,
   "metadata": {},
   "outputs": [
    {
     "data": {
      "text/plain": [
       "26"
      ]
     },
     "execution_count": 53,
     "metadata": {},
     "output_type": "execute_result"
    }
   ],
   "source": [
    "\n",
    "def check(arr:list[int]):\n",
    "    if len(arr) < 3:\n",
    "        return False\n",
    "    diff = arr[1] - arr[0]\n",
    "    for i in range(1,len(arr)):\n",
    "        if arr[i] - arr[i-1] != diff:\n",
    "            return False\n",
    "    return True\n",
    "\n",
    "def comb(i: int , arr: list,ans:list[int] = [],s:set = set()):\n",
    "    count = 0\n",
    "    if len(arr) == i or check(ans):\n",
    "        item = tuple(ans)\n",
    "        if item not in s:\n",
    "            s.add(item)\n",
    "            return 1\n",
    "        return 1\n",
    "    \n",
    "    ans.append(arr[i])\n",
    "    count += comb(i+1,arr,ans,s)\n",
    "    ans.pop()\n",
    "    count += comb(i+1,arr,ans,s)\n",
    "    return count\n",
    "nums = [7,7,7,7,7]\n",
    "comb(0,nums)\n",
    "\n"
   ]
  },
  {
   "cell_type": "code",
   "execution_count": 77,
   "metadata": {},
   "outputs": [
    {
     "data": {
      "text/plain": [
       "True"
      ]
     },
     "execution_count": 77,
     "metadata": {},
     "output_type": "execute_result"
    }
   ],
   "source": [
    "\n",
    "board = [[\"A\",\"B\",\"C\",\"E\"],\n",
    "         [\"S\",\"F\",\"C\",\"S\"],\n",
    "         [\"A\",\"D\",\"E\",\"E\"]]\n",
    "word = \"SEE\"\n",
    "word = list(word)\n",
    "def backpack(board:list[list[str]],path:list[str],ans:list[str],i:int,j:int):\n",
    "    isSolved = False\n",
    "    if path == ans or path == ans[::-1]:\n",
    "        return True\n",
    "    if i < 0 or i >= len(board) or j < 0 or j >= len(board[0]):\n",
    "        return False\n",
    "    if board[i][j] != '.':\n",
    "        change = board[i][j]\n",
    "        path.append(change)\n",
    "        board[i][j] = '.'\n",
    "        isSolved  = backpack(board,path,ans,i+1,j) or \\\n",
    "                    backpack(board,path,ans,i-1,j) or \\\n",
    "                    backpack(board,path,ans,i,j+1) or \\\n",
    "                    backpack(board,path,ans,i,j-1) \n",
    "        if not isSolved:\n",
    "            path.pop()\n",
    "            isSolved  = backpack(board,path,ans,i+1,j) or \\\n",
    "                        backpack(board,path,ans,i-1,j) or \\\n",
    "                        backpack(board,path,ans,i,j+1) or \\\n",
    "                        backpack(board,path,ans,i,j-1) \n",
    "        board[i][j] = change \n",
    "    return isSolved\n",
    "\n",
    "backpack(board,[],word,0,0)\n",
    "\n"
   ]
  },
  {
   "cell_type": "code",
   "execution_count": 88,
   "metadata": {},
   "outputs": [
    {
     "name": "stdout",
     "output_type": "stream",
     "text": [
      "True\n"
     ]
    }
   ],
   "source": [
    "\n",
    "board = [[\"a\",\"b\"],[\"c\",\"d\"]]\n",
    "word =\"dbac\"\n",
    "word = list(word)\n",
    "def backpack(board:list[list[str]],path:list[str],ans:list[str],i:int,j:int,index:int=0):\n",
    "    isSolved = False\n",
    "    if index == len(ans):\n",
    "        return True\n",
    "    if i < 0 or i >= len(board) or j < 0 or j >= len(board[0]):\n",
    "        return False\n",
    "    if board[i][j] != ans[index]:\n",
    "        return False\n",
    "    if board[i][j] != '.':\n",
    "        path.append(board[i][j])\n",
    "        board[i][j] = '.'\n",
    "        isSolved  = backpack(board,path,ans,i+1,j,index+1) or \\\n",
    "                    backpack(board,path,ans,i-1,j,index+1) or \\\n",
    "                    backpack(board,path,ans,i,j+1,index+1) or \\\n",
    "                    backpack(board,path,ans,i,j-1,index+1) \n",
    "        board[i][j] = path.pop() \n",
    "    return isSolved\n",
    "isTrue = False\n",
    "for i in range(len(board)):\n",
    "    for j in range(len(board[0])):\n",
    "        isTrue |= backpack(board,[],word,i,j)\n",
    "print(isTrue)"
   ]
  },
  {
   "cell_type": "code",
   "execution_count": 126,
   "metadata": {},
   "outputs": [
    {
     "name": "stdout",
     "output_type": "stream",
     "text": [
      "6364\n",
      "0.007731437683105469\n"
     ]
    }
   ],
   "source": [
    "nums = [17,13,31,50,8,40,5,13,20,45,18,45,0,28,31,39,23,13,24,2]\n",
    "target = 35\n",
    "\n",
    "def bt(nums:list[int],i:int,num:int,target:int,hm:dict = {}):\n",
    "\n",
    "    count = 0\n",
    "    if i >= len(nums):\n",
    "        if num==target:\n",
    "            return count + 1\n",
    "        return count\n",
    "    \n",
    "    if (i,num) in hm:\n",
    "        return hm[(i,num)]\n",
    "    count += bt(nums,i+1,num+nums[i],target,hm)\n",
    "    count += bt(nums,i+1,num-nums[i],target,hm)\n",
    "    hm[(i,num)] = count\n",
    "    return count\n",
    "start = time.time()\n",
    "print(bt(nums,0,0,target))\n",
    "print(time.time()-start)"
   ]
  },
  {
   "cell_type": "markdown",
   "metadata": {},
   "source": [
    "```py\n",
    "def backTrack(**kwargs):\n",
    "    if base_condition:\n",
    "        return\n",
    "    \n",
    "    make_some_changes\n",
    "    backTrack(**kwargs)\n",
    "    undo_some_changes\n",
    "    backTrack(**kwargs)\n",
    "\n",
    "    return predefines_result or NoneType\n",
    "```\n",
    "\n",
    "- Base_Condition should based on last call  "
   ]
  },
  {
   "cell_type": "code",
   "execution_count": 128,
   "metadata": {},
   "outputs": [
    {
     "data": {
      "text/plain": [
       "93326215443944152681699238856266700490715968264381621468592963895217599993229915608941463976156518286253697920827223758251185210916864000000000000000000000000"
      ]
     },
     "execution_count": 128,
     "metadata": {},
     "output_type": "execute_result"
    }
   ],
   "source": [
    "def factorial(n:int):\n",
    "    if n <= 1:\n",
    "        return 1\n",
    "    return n * factorial(n-1)\n",
    "factorial(100)"
   ]
  },
  {
   "cell_type": "code",
   "execution_count": 192,
   "metadata": {},
   "outputs": [
    {
     "name": "stdout",
     "output_type": "stream",
     "text": [
      "0.0001251697540283203\n"
     ]
    }
   ],
   "source": [
    "def fib(n:int,hash_map:dict = {}):\n",
    "    if n <= 2:\n",
    "        return 1\n",
    "    if n not in hash_map:\n",
    "        ans = fib(n-1,hash_map) + fib(n-2,hash_map) \n",
    "    else:\n",
    "        ans = hash_map[n]\n",
    "    hash_map[n] = ans\n",
    "    return ans\n",
    "s = time.time()\n",
    "fib(30)\n",
    "print(time.time()-s)"
   ]
  },
  {
   "cell_type": "code",
   "execution_count": 162,
   "metadata": {},
   "outputs": [
    {
     "name": "stdout",
     "output_type": "stream",
     "text": [
      "0.27161478996276855\n"
     ]
    }
   ],
   "source": [
    "def fib(n:int):\n",
    "    if n <= 2:\n",
    "        return 1\n",
    "    return fib(n-1) + fib(n-2)\n",
    "\n",
    "s = time.time()\n",
    "fib(30)\n",
    "print(time.time()-s)"
   ]
  },
  {
   "cell_type": "code",
   "execution_count": 187,
   "metadata": {},
   "outputs": [
    {
     "name": "stdout",
     "output_type": "stream",
     "text": [
      "0.0001087188720703125\n"
     ]
    }
   ],
   "source": [
    "def fib(n,a=1,b=1):\n",
    "    if n<= 2:\n",
    "        return b\n",
    "    return fib(n-1,b,b+a)\n",
    "s = time.time()\n",
    "fib(30)\n",
    "print(time.time()-s)"
   ]
  },
  {
   "cell_type": "code",
   "execution_count": 194,
   "metadata": {},
   "outputs": [
    {
     "name": "stdout",
     "output_type": "stream",
     "text": [
      "2324.969387755102\n",
      "2498.3223684210525\n"
     ]
    }
   ],
   "source": [
    "ist = 0.00011682510375976562\n",
    "snd = 0.27161478996276855\n",
    "erd = 0.0001087188720703125\n",
    "\n",
    "print((snd/ist))\n",
    "print((snd/erd))"
   ]
  },
  {
   "cell_type": "code",
   "execution_count": 9,
   "metadata": {},
   "outputs": [
    {
     "name": "stdout",
     "output_type": "stream",
     "text": [
      "length = 10 \n",
      "width = 10 \n",
      "height = 10\n"
     ]
    },
    {
     "data": {
      "text/plain": [
       "(10, 10, 10)"
      ]
     },
     "execution_count": 9,
     "metadata": {},
     "output_type": "execute_result"
    }
   ],
   "source": [
    "\n",
    "class Volumetric_object:\n",
    "    length = 0\n",
    "    width = 0\n",
    "    height = 0\n",
    "\n",
    "    def Dimension(self):\n",
    "        print(f\"length = {self.length} \\nwidth = {self.width} \\nheight = {self.height}\")\n",
    "        return (self.length,self.width,self.height)\n",
    "\n",
    "class Cube(Volumetric_object):\n",
    "    def __init__(self,s) -> None:\n",
    "        self.height = s\n",
    "        self.width = s\n",
    "        self.length = s\n",
    "    def volume(self):\n",
    "        return self.length**3\n",
    "    \n",
    "Box = Cube(10)\n",
    "Box.volume()\n",
    "Box.Dimension()"
   ]
  },
  {
   "cell_type": "code",
   "execution_count": 6,
   "metadata": {},
   "outputs": [
    {
     "name": "stdout",
     "output_type": "stream",
     "text": [
      "/home/arvind/prog/images\n",
      "/home/arvind/prog/images\n"
     ]
    }
   ],
   "source": [
    "\n",
    "import requests\n",
    "import os\n",
    "# get = requests.get(\"https://www.hentai.name/g/109969/\")\n",
    "pic = \"https://www.hentai.name/g/109969/2\"\n",
    "\n",
    "get_img = requests\n",
    "os.chdir(os.path.join(os.getcwd()))\n",
    "print(os.getcwd())\n",
    "\n",
    "\n",
    "def download(x,n):\n",
    "    os.chdir(os.path.join(os.getcwd()))\n",
    "    print(os.getcwd())\n",
    "    for i in range(x,n):\n",
    "        with open(f\"{i}.jpg\", \"wb\") as f:\n",
    "            f.write(get_img.get(f\"https://pics.hentai.name/000/109/109969/{i}.webp\").content)\n",
    "download(1,26)\n"
   ]
  },
  {
   "cell_type": "code",
   "execution_count": 8,
   "metadata": {},
   "outputs": [
    {
     "name": "stdout",
     "output_type": "stream",
     "text": [
      "{'href': '/g/234453/2/', 'class': ['next']}\n",
      "{'href': '/g/234453/184/', 'class': ['last']}\n",
      "/home/arvind/Documents/Mangas\n",
      "Folder '/home/arvind/Documents/Mangas/234453' created successfully.\n"
     ]
    },
    {
     "ename": "KeyboardInterrupt",
     "evalue": "",
     "output_type": "error",
     "traceback": [
      "\u001b[0;31m---------------------------------------------------------------------------\u001b[0m",
      "\u001b[0;31mKeyboardInterrupt\u001b[0m                         Traceback (most recent call last)",
      "\u001b[1;32m/home/arvind/prog/leetcode.ipynb Cell 35\u001b[0m line \u001b[0;36m4\n\u001b[1;32m     <a href='vscode-notebook-cell:/home/arvind/prog/leetcode.ipynb#X46sZmlsZQ%3D%3D?line=39'>40</a>\u001b[0m p \u001b[39m=\u001b[39m create_folder(os\u001b[39m.\u001b[39mgetcwd()\u001b[39m+\u001b[39m\u001b[39mf\u001b[39m\u001b[39m\"\u001b[39m\u001b[39m/\u001b[39m\u001b[39m{\u001b[39;00mip\u001b[39m}\u001b[39;00m\u001b[39m\"\u001b[39m)\n\u001b[1;32m     <a href='vscode-notebook-cell:/home/arvind/prog/leetcode.ipynb#X46sZmlsZQ%3D%3D?line=40'>41</a>\u001b[0m os\u001b[39m.\u001b[39mchdir(os\u001b[39m.\u001b[39mpath\u001b[39m.\u001b[39mjoin(p))\n\u001b[0;32m---> <a href='vscode-notebook-cell:/home/arvind/prog/leetcode.ipynb#X46sZmlsZQ%3D%3D?line=41'>42</a>\u001b[0m download(re_obj\u001b[39m.\u001b[39;49mfindall(\u001b[39mstr\u001b[39;49m(soup))[\u001b[39m0\u001b[39;49m],ref[\u001b[39m10\u001b[39;49m:ref\u001b[39m.\u001b[39;49mrfind(\u001b[39m'\u001b[39;49m\u001b[39m/\u001b[39;49m\u001b[39m'\u001b[39;49m)])\n",
      "\u001b[1;32m/home/arvind/prog/leetcode.ipynb Cell 35\u001b[0m line \u001b[0;36m2\n\u001b[1;32m     <a href='vscode-notebook-cell:/home/arvind/prog/leetcode.ipynb#X46sZmlsZQ%3D%3D?line=18'>19</a>\u001b[0m \u001b[39mwith\u001b[39;00m \u001b[39mopen\u001b[39m(\u001b[39mf\u001b[39m\u001b[39m\"\u001b[39m\u001b[39m{\u001b[39;00mi\u001b[39m}\u001b[39;00m\u001b[39m.jpg\u001b[39m\u001b[39m\"\u001b[39m, \u001b[39m\"\u001b[39m\u001b[39mwb\u001b[39m\u001b[39m\"\u001b[39m) \u001b[39mas\u001b[39;00m f:\n\u001b[1;32m     <a href='vscode-notebook-cell:/home/arvind/prog/leetcode.ipynb#X46sZmlsZQ%3D%3D?line=19'>20</a>\u001b[0m     \u001b[39mtry\u001b[39;00m:\n\u001b[0;32m---> <a href='vscode-notebook-cell:/home/arvind/prog/leetcode.ipynb#X46sZmlsZQ%3D%3D?line=20'>21</a>\u001b[0m         f\u001b[39m.\u001b[39mwrite(requests\u001b[39m.\u001b[39;49mget(j[:j\u001b[39m.\u001b[39;49mrfind(\u001b[39m'\u001b[39;49m\u001b[39m.\u001b[39;49m\u001b[39m'\u001b[39;49m)\u001b[39m-\u001b[39;49m\u001b[39m1\u001b[39;49m] \u001b[39m+\u001b[39;49m \u001b[39mf\u001b[39;49m\u001b[39m\"\u001b[39;49m\u001b[39m{\u001b[39;49;00mi\u001b[39m}\u001b[39;49;00m\u001b[39m\"\u001b[39;49m \u001b[39m+\u001b[39;49m j[j\u001b[39m.\u001b[39;49mrfind(\u001b[39m'\u001b[39;49m\u001b[39m.\u001b[39;49m\u001b[39m'\u001b[39;49m):])\u001b[39m.\u001b[39mcontent)\n\u001b[1;32m     <a href='vscode-notebook-cell:/home/arvind/prog/leetcode.ipynb#X46sZmlsZQ%3D%3D?line=21'>22</a>\u001b[0m         i\u001b[39m+\u001b[39m\u001b[39m=\u001b[39m\u001b[39m1\u001b[39m\n\u001b[1;32m     <a href='vscode-notebook-cell:/home/arvind/prog/leetcode.ipynb#X46sZmlsZQ%3D%3D?line=22'>23</a>\u001b[0m     \u001b[39mexcept\u001b[39;00m \u001b[39mException\u001b[39;00m \u001b[39mas\u001b[39;00m e:\n",
      "File \u001b[0;32m~/prog/source/lib/python3.10/site-packages/requests/api.py:73\u001b[0m, in \u001b[0;36mget\u001b[0;34m(url, params, **kwargs)\u001b[0m\n\u001b[1;32m     62\u001b[0m \u001b[39mdef\u001b[39;00m \u001b[39mget\u001b[39m(url, params\u001b[39m=\u001b[39m\u001b[39mNone\u001b[39;00m, \u001b[39m*\u001b[39m\u001b[39m*\u001b[39mkwargs):\n\u001b[1;32m     63\u001b[0m \u001b[39m    \u001b[39m\u001b[39mr\u001b[39m\u001b[39m\"\"\"Sends a GET request.\u001b[39;00m\n\u001b[1;32m     64\u001b[0m \n\u001b[1;32m     65\u001b[0m \u001b[39m    :param url: URL for the new :class:`Request` object.\u001b[39;00m\n\u001b[0;32m   (...)\u001b[0m\n\u001b[1;32m     70\u001b[0m \u001b[39m    :rtype: requests.Response\u001b[39;00m\n\u001b[1;32m     71\u001b[0m \u001b[39m    \"\"\"\u001b[39;00m\n\u001b[0;32m---> 73\u001b[0m     \u001b[39mreturn\u001b[39;00m request(\u001b[39m\"\u001b[39;49m\u001b[39mget\u001b[39;49m\u001b[39m\"\u001b[39;49m, url, params\u001b[39m=\u001b[39;49mparams, \u001b[39m*\u001b[39;49m\u001b[39m*\u001b[39;49mkwargs)\n",
      "File \u001b[0;32m~/prog/source/lib/python3.10/site-packages/requests/api.py:59\u001b[0m, in \u001b[0;36mrequest\u001b[0;34m(method, url, **kwargs)\u001b[0m\n\u001b[1;32m     55\u001b[0m \u001b[39m# By using the 'with' statement we are sure the session is closed, thus we\u001b[39;00m\n\u001b[1;32m     56\u001b[0m \u001b[39m# avoid leaving sockets open which can trigger a ResourceWarning in some\u001b[39;00m\n\u001b[1;32m     57\u001b[0m \u001b[39m# cases, and look like a memory leak in others.\u001b[39;00m\n\u001b[1;32m     58\u001b[0m \u001b[39mwith\u001b[39;00m sessions\u001b[39m.\u001b[39mSession() \u001b[39mas\u001b[39;00m session:\n\u001b[0;32m---> 59\u001b[0m     \u001b[39mreturn\u001b[39;00m session\u001b[39m.\u001b[39;49mrequest(method\u001b[39m=\u001b[39;49mmethod, url\u001b[39m=\u001b[39;49murl, \u001b[39m*\u001b[39;49m\u001b[39m*\u001b[39;49mkwargs)\n",
      "File \u001b[0;32m~/prog/source/lib/python3.10/site-packages/requests/sessions.py:589\u001b[0m, in \u001b[0;36mSession.request\u001b[0;34m(self, method, url, params, data, headers, cookies, files, auth, timeout, allow_redirects, proxies, hooks, stream, verify, cert, json)\u001b[0m\n\u001b[1;32m    584\u001b[0m send_kwargs \u001b[39m=\u001b[39m {\n\u001b[1;32m    585\u001b[0m     \u001b[39m\"\u001b[39m\u001b[39mtimeout\u001b[39m\u001b[39m\"\u001b[39m: timeout,\n\u001b[1;32m    586\u001b[0m     \u001b[39m\"\u001b[39m\u001b[39mallow_redirects\u001b[39m\u001b[39m\"\u001b[39m: allow_redirects,\n\u001b[1;32m    587\u001b[0m }\n\u001b[1;32m    588\u001b[0m send_kwargs\u001b[39m.\u001b[39mupdate(settings)\n\u001b[0;32m--> 589\u001b[0m resp \u001b[39m=\u001b[39m \u001b[39mself\u001b[39;49m\u001b[39m.\u001b[39;49msend(prep, \u001b[39m*\u001b[39;49m\u001b[39m*\u001b[39;49msend_kwargs)\n\u001b[1;32m    591\u001b[0m \u001b[39mreturn\u001b[39;00m resp\n",
      "File \u001b[0;32m~/prog/source/lib/python3.10/site-packages/requests/sessions.py:703\u001b[0m, in \u001b[0;36mSession.send\u001b[0;34m(self, request, **kwargs)\u001b[0m\n\u001b[1;32m    700\u001b[0m start \u001b[39m=\u001b[39m preferred_clock()\n\u001b[1;32m    702\u001b[0m \u001b[39m# Send the request\u001b[39;00m\n\u001b[0;32m--> 703\u001b[0m r \u001b[39m=\u001b[39m adapter\u001b[39m.\u001b[39;49msend(request, \u001b[39m*\u001b[39;49m\u001b[39m*\u001b[39;49mkwargs)\n\u001b[1;32m    705\u001b[0m \u001b[39m# Total elapsed time of the request (approximately)\u001b[39;00m\n\u001b[1;32m    706\u001b[0m elapsed \u001b[39m=\u001b[39m preferred_clock() \u001b[39m-\u001b[39m start\n",
      "File \u001b[0;32m~/prog/source/lib/python3.10/site-packages/requests/adapters.py:486\u001b[0m, in \u001b[0;36mHTTPAdapter.send\u001b[0;34m(self, request, stream, timeout, verify, cert, proxies)\u001b[0m\n\u001b[1;32m    483\u001b[0m     timeout \u001b[39m=\u001b[39m TimeoutSauce(connect\u001b[39m=\u001b[39mtimeout, read\u001b[39m=\u001b[39mtimeout)\n\u001b[1;32m    485\u001b[0m \u001b[39mtry\u001b[39;00m:\n\u001b[0;32m--> 486\u001b[0m     resp \u001b[39m=\u001b[39m conn\u001b[39m.\u001b[39;49murlopen(\n\u001b[1;32m    487\u001b[0m         method\u001b[39m=\u001b[39;49mrequest\u001b[39m.\u001b[39;49mmethod,\n\u001b[1;32m    488\u001b[0m         url\u001b[39m=\u001b[39;49murl,\n\u001b[1;32m    489\u001b[0m         body\u001b[39m=\u001b[39;49mrequest\u001b[39m.\u001b[39;49mbody,\n\u001b[1;32m    490\u001b[0m         headers\u001b[39m=\u001b[39;49mrequest\u001b[39m.\u001b[39;49mheaders,\n\u001b[1;32m    491\u001b[0m         redirect\u001b[39m=\u001b[39;49m\u001b[39mFalse\u001b[39;49;00m,\n\u001b[1;32m    492\u001b[0m         assert_same_host\u001b[39m=\u001b[39;49m\u001b[39mFalse\u001b[39;49;00m,\n\u001b[1;32m    493\u001b[0m         preload_content\u001b[39m=\u001b[39;49m\u001b[39mFalse\u001b[39;49;00m,\n\u001b[1;32m    494\u001b[0m         decode_content\u001b[39m=\u001b[39;49m\u001b[39mFalse\u001b[39;49;00m,\n\u001b[1;32m    495\u001b[0m         retries\u001b[39m=\u001b[39;49m\u001b[39mself\u001b[39;49m\u001b[39m.\u001b[39;49mmax_retries,\n\u001b[1;32m    496\u001b[0m         timeout\u001b[39m=\u001b[39;49mtimeout,\n\u001b[1;32m    497\u001b[0m         chunked\u001b[39m=\u001b[39;49mchunked,\n\u001b[1;32m    498\u001b[0m     )\n\u001b[1;32m    500\u001b[0m \u001b[39mexcept\u001b[39;00m (ProtocolError, \u001b[39mOSError\u001b[39;00m) \u001b[39mas\u001b[39;00m err:\n\u001b[1;32m    501\u001b[0m     \u001b[39mraise\u001b[39;00m \u001b[39mConnectionError\u001b[39;00m(err, request\u001b[39m=\u001b[39mrequest)\n",
      "File \u001b[0;32m~/prog/source/lib/python3.10/site-packages/urllib3/connectionpool.py:790\u001b[0m, in \u001b[0;36mHTTPConnectionPool.urlopen\u001b[0;34m(self, method, url, body, headers, retries, redirect, assert_same_host, timeout, pool_timeout, release_conn, chunked, body_pos, preload_content, decode_content, **response_kw)\u001b[0m\n\u001b[1;32m    787\u001b[0m response_conn \u001b[39m=\u001b[39m conn \u001b[39mif\u001b[39;00m \u001b[39mnot\u001b[39;00m release_conn \u001b[39melse\u001b[39;00m \u001b[39mNone\u001b[39;00m\n\u001b[1;32m    789\u001b[0m \u001b[39m# Make the request on the HTTPConnection object\u001b[39;00m\n\u001b[0;32m--> 790\u001b[0m response \u001b[39m=\u001b[39m \u001b[39mself\u001b[39;49m\u001b[39m.\u001b[39;49m_make_request(\n\u001b[1;32m    791\u001b[0m     conn,\n\u001b[1;32m    792\u001b[0m     method,\n\u001b[1;32m    793\u001b[0m     url,\n\u001b[1;32m    794\u001b[0m     timeout\u001b[39m=\u001b[39;49mtimeout_obj,\n\u001b[1;32m    795\u001b[0m     body\u001b[39m=\u001b[39;49mbody,\n\u001b[1;32m    796\u001b[0m     headers\u001b[39m=\u001b[39;49mheaders,\n\u001b[1;32m    797\u001b[0m     chunked\u001b[39m=\u001b[39;49mchunked,\n\u001b[1;32m    798\u001b[0m     retries\u001b[39m=\u001b[39;49mretries,\n\u001b[1;32m    799\u001b[0m     response_conn\u001b[39m=\u001b[39;49mresponse_conn,\n\u001b[1;32m    800\u001b[0m     preload_content\u001b[39m=\u001b[39;49mpreload_content,\n\u001b[1;32m    801\u001b[0m     decode_content\u001b[39m=\u001b[39;49mdecode_content,\n\u001b[1;32m    802\u001b[0m     \u001b[39m*\u001b[39;49m\u001b[39m*\u001b[39;49mresponse_kw,\n\u001b[1;32m    803\u001b[0m )\n\u001b[1;32m    805\u001b[0m \u001b[39m# Everything went great!\u001b[39;00m\n\u001b[1;32m    806\u001b[0m clean_exit \u001b[39m=\u001b[39m \u001b[39mTrue\u001b[39;00m\n",
      "File \u001b[0;32m~/prog/source/lib/python3.10/site-packages/urllib3/connectionpool.py:536\u001b[0m, in \u001b[0;36mHTTPConnectionPool._make_request\u001b[0;34m(self, conn, method, url, body, headers, retries, timeout, chunked, response_conn, preload_content, decode_content, enforce_content_length)\u001b[0m\n\u001b[1;32m    534\u001b[0m \u001b[39m# Receive the response from the server\u001b[39;00m\n\u001b[1;32m    535\u001b[0m \u001b[39mtry\u001b[39;00m:\n\u001b[0;32m--> 536\u001b[0m     response \u001b[39m=\u001b[39m conn\u001b[39m.\u001b[39;49mgetresponse()\n\u001b[1;32m    537\u001b[0m \u001b[39mexcept\u001b[39;00m (BaseSSLError, \u001b[39mOSError\u001b[39;00m) \u001b[39mas\u001b[39;00m e:\n\u001b[1;32m    538\u001b[0m     \u001b[39mself\u001b[39m\u001b[39m.\u001b[39m_raise_timeout(err\u001b[39m=\u001b[39me, url\u001b[39m=\u001b[39murl, timeout_value\u001b[39m=\u001b[39mread_timeout)\n",
      "File \u001b[0;32m~/prog/source/lib/python3.10/site-packages/urllib3/connection.py:461\u001b[0m, in \u001b[0;36mHTTPConnection.getresponse\u001b[0;34m(self)\u001b[0m\n\u001b[1;32m    458\u001b[0m \u001b[39mfrom\u001b[39;00m \u001b[39m.\u001b[39;00m\u001b[39mresponse\u001b[39;00m \u001b[39mimport\u001b[39;00m HTTPResponse\n\u001b[1;32m    460\u001b[0m \u001b[39m# Get the response from http.client.HTTPConnection\u001b[39;00m\n\u001b[0;32m--> 461\u001b[0m httplib_response \u001b[39m=\u001b[39m \u001b[39msuper\u001b[39;49m()\u001b[39m.\u001b[39;49mgetresponse()\n\u001b[1;32m    463\u001b[0m \u001b[39mtry\u001b[39;00m:\n\u001b[1;32m    464\u001b[0m     assert_header_parsing(httplib_response\u001b[39m.\u001b[39mmsg)\n",
      "File \u001b[0;32m/usr/lib/python3.10/http/client.py:1375\u001b[0m, in \u001b[0;36mHTTPConnection.getresponse\u001b[0;34m(self)\u001b[0m\n\u001b[1;32m   1373\u001b[0m \u001b[39mtry\u001b[39;00m:\n\u001b[1;32m   1374\u001b[0m     \u001b[39mtry\u001b[39;00m:\n\u001b[0;32m-> 1375\u001b[0m         response\u001b[39m.\u001b[39;49mbegin()\n\u001b[1;32m   1376\u001b[0m     \u001b[39mexcept\u001b[39;00m \u001b[39mConnectionError\u001b[39;00m:\n\u001b[1;32m   1377\u001b[0m         \u001b[39mself\u001b[39m\u001b[39m.\u001b[39mclose()\n",
      "File \u001b[0;32m/usr/lib/python3.10/http/client.py:318\u001b[0m, in \u001b[0;36mHTTPResponse.begin\u001b[0;34m(self)\u001b[0m\n\u001b[1;32m    316\u001b[0m \u001b[39m# read until we get a non-100 response\u001b[39;00m\n\u001b[1;32m    317\u001b[0m \u001b[39mwhile\u001b[39;00m \u001b[39mTrue\u001b[39;00m:\n\u001b[0;32m--> 318\u001b[0m     version, status, reason \u001b[39m=\u001b[39m \u001b[39mself\u001b[39;49m\u001b[39m.\u001b[39;49m_read_status()\n\u001b[1;32m    319\u001b[0m     \u001b[39mif\u001b[39;00m status \u001b[39m!=\u001b[39m CONTINUE:\n\u001b[1;32m    320\u001b[0m         \u001b[39mbreak\u001b[39;00m\n",
      "File \u001b[0;32m/usr/lib/python3.10/http/client.py:279\u001b[0m, in \u001b[0;36mHTTPResponse._read_status\u001b[0;34m(self)\u001b[0m\n\u001b[1;32m    278\u001b[0m \u001b[39mdef\u001b[39;00m \u001b[39m_read_status\u001b[39m(\u001b[39mself\u001b[39m):\n\u001b[0;32m--> 279\u001b[0m     line \u001b[39m=\u001b[39m \u001b[39mstr\u001b[39m(\u001b[39mself\u001b[39;49m\u001b[39m.\u001b[39;49mfp\u001b[39m.\u001b[39;49mreadline(_MAXLINE \u001b[39m+\u001b[39;49m \u001b[39m1\u001b[39;49m), \u001b[39m\"\u001b[39m\u001b[39miso-8859-1\u001b[39m\u001b[39m\"\u001b[39m)\n\u001b[1;32m    280\u001b[0m     \u001b[39mif\u001b[39;00m \u001b[39mlen\u001b[39m(line) \u001b[39m>\u001b[39m _MAXLINE:\n\u001b[1;32m    281\u001b[0m         \u001b[39mraise\u001b[39;00m LineTooLong(\u001b[39m\"\u001b[39m\u001b[39mstatus line\u001b[39m\u001b[39m\"\u001b[39m)\n",
      "File \u001b[0;32m/usr/lib/python3.10/socket.py:705\u001b[0m, in \u001b[0;36mSocketIO.readinto\u001b[0;34m(self, b)\u001b[0m\n\u001b[1;32m    703\u001b[0m \u001b[39mwhile\u001b[39;00m \u001b[39mTrue\u001b[39;00m:\n\u001b[1;32m    704\u001b[0m     \u001b[39mtry\u001b[39;00m:\n\u001b[0;32m--> 705\u001b[0m         \u001b[39mreturn\u001b[39;00m \u001b[39mself\u001b[39;49m\u001b[39m.\u001b[39;49m_sock\u001b[39m.\u001b[39;49mrecv_into(b)\n\u001b[1;32m    706\u001b[0m     \u001b[39mexcept\u001b[39;00m timeout:\n\u001b[1;32m    707\u001b[0m         \u001b[39mself\u001b[39m\u001b[39m.\u001b[39m_timeout_occurred \u001b[39m=\u001b[39m \u001b[39mTrue\u001b[39;00m\n",
      "File \u001b[0;32m/usr/lib/python3.10/ssl.py:1307\u001b[0m, in \u001b[0;36mSSLSocket.recv_into\u001b[0;34m(self, buffer, nbytes, flags)\u001b[0m\n\u001b[1;32m   1303\u001b[0m     \u001b[39mif\u001b[39;00m flags \u001b[39m!=\u001b[39m \u001b[39m0\u001b[39m:\n\u001b[1;32m   1304\u001b[0m         \u001b[39mraise\u001b[39;00m \u001b[39mValueError\u001b[39;00m(\n\u001b[1;32m   1305\u001b[0m           \u001b[39m\"\u001b[39m\u001b[39mnon-zero flags not allowed in calls to recv_into() on \u001b[39m\u001b[39m%s\u001b[39;00m\u001b[39m\"\u001b[39m \u001b[39m%\u001b[39m\n\u001b[1;32m   1306\u001b[0m           \u001b[39mself\u001b[39m\u001b[39m.\u001b[39m\u001b[39m__class__\u001b[39m)\n\u001b[0;32m-> 1307\u001b[0m     \u001b[39mreturn\u001b[39;00m \u001b[39mself\u001b[39;49m\u001b[39m.\u001b[39;49mread(nbytes, buffer)\n\u001b[1;32m   1308\u001b[0m \u001b[39melse\u001b[39;00m:\n\u001b[1;32m   1309\u001b[0m     \u001b[39mreturn\u001b[39;00m \u001b[39msuper\u001b[39m()\u001b[39m.\u001b[39mrecv_into(buffer, nbytes, flags)\n",
      "File \u001b[0;32m/usr/lib/python3.10/ssl.py:1163\u001b[0m, in \u001b[0;36mSSLSocket.read\u001b[0;34m(self, len, buffer)\u001b[0m\n\u001b[1;32m   1161\u001b[0m \u001b[39mtry\u001b[39;00m:\n\u001b[1;32m   1162\u001b[0m     \u001b[39mif\u001b[39;00m buffer \u001b[39mis\u001b[39;00m \u001b[39mnot\u001b[39;00m \u001b[39mNone\u001b[39;00m:\n\u001b[0;32m-> 1163\u001b[0m         \u001b[39mreturn\u001b[39;00m \u001b[39mself\u001b[39;49m\u001b[39m.\u001b[39;49m_sslobj\u001b[39m.\u001b[39;49mread(\u001b[39mlen\u001b[39;49m, buffer)\n\u001b[1;32m   1164\u001b[0m     \u001b[39melse\u001b[39;00m:\n\u001b[1;32m   1165\u001b[0m         \u001b[39mreturn\u001b[39;00m \u001b[39mself\u001b[39m\u001b[39m.\u001b[39m_sslobj\u001b[39m.\u001b[39mread(\u001b[39mlen\u001b[39m)\n",
      "\u001b[0;31mKeyboardInterrupt\u001b[0m: "
     ]
    }
   ],
   "source": [
    "import os\n",
    "import bs4\n",
    "import requests\n",
    "import re\n",
    "def create_folder(folder_path):\n",
    "    if not os.path.exists(folder_path):\n",
    "        try:\n",
    "            os.makedirs(folder_path)\n",
    "            print(f\"Folder '{folder_path}' created successfully.\")\n",
    "            return folder_path\n",
    "        except OSError as e:\n",
    "            print(f\"Error creating folder '{folder_path}': {e}\")\n",
    "    else:\n",
    "        print(f\"Folder '{folder_path}' already exists.\")\n",
    "\n",
    "def download(j,k):\n",
    "    i = 1\n",
    "    while i<int(k):\n",
    "        with open(f\"{i}.jpg\", \"wb\") as f:\n",
    "            try:\n",
    "                f.write(requests.get(j[:j.rfind('.')-1] + f\"{i}\" + j[j.rfind('.'):]).content)\n",
    "                i+=1\n",
    "            except Exception as e:\n",
    "                print(e)\n",
    "                break\n",
    "ip = input(\"Enter 6-digitnumber\")  \n",
    "get_html = requests.get(f\"https://www.hentai.name/g/{ip}/1/\")\n",
    "soup = bs4.BeautifulSoup(get_html.text,'html.parser')\n",
    "\n",
    "re_obj = re.compile(r\"https?://\\S+\\.webp\\b\")\n",
    "\n",
    "for i  in soup.section.find_all('a'):\n",
    "    obj = i.attrs\n",
    "    print(obj)\n",
    "    if obj['class'] == ['last']:\n",
    "        ref = obj['href']\n",
    "        print(os.getcwd())\n",
    "        os.chdir(os.path.join('/home/arvind/Documents/Mangas'))\n",
    "        p = create_folder(os.getcwd()+f\"/{ip}\")\n",
    "        os.chdir(os.path.join(p))\n",
    "        download(re_obj.findall(str(soup))[0],ref[10:ref.rfind('/')])\n",
    "\n",
    "\n",
    "\n",
    "\n",
    "\n"
   ]
  },
  {
   "cell_type": "code",
   "execution_count": 12,
   "metadata": {},
   "outputs": [
    {
     "ename": "AttributeError",
     "evalue": "'NoneType' object has no attribute 'find_all'",
     "output_type": "error",
     "traceback": [
      "\u001b[0;31m---------------------------------------------------------------------------\u001b[0m",
      "\u001b[0;31mAttributeError\u001b[0m                            Traceback (most recent call last)",
      "\u001b[1;32m/home/arvind/prog/leetcode.ipynb Cell 36\u001b[0m line \u001b[0;36m3\n\u001b[1;32m     <a href='vscode-notebook-cell:/home/arvind/prog/leetcode.ipynb#X50sZmlsZQ%3D%3D?line=29'>30</a>\u001b[0m soup \u001b[39m=\u001b[39m bs4\u001b[39m.\u001b[39mBeautifulSoup(get_html\u001b[39m.\u001b[39mtext,\u001b[39m'\u001b[39m\u001b[39mhtml.parser\u001b[39m\u001b[39m'\u001b[39m)\n\u001b[1;32m     <a href='vscode-notebook-cell:/home/arvind/prog/leetcode.ipynb#X50sZmlsZQ%3D%3D?line=31'>32</a>\u001b[0m re_obj \u001b[39m=\u001b[39m re\u001b[39m.\u001b[39mcompile(\u001b[39mr\u001b[39m\u001b[39m\"\u001b[39m\u001b[39mhttps?://\u001b[39m\u001b[39m\\\u001b[39m\u001b[39mS+\u001b[39m\u001b[39m\\\u001b[39m\u001b[39m.webp\u001b[39m\u001b[39m\\\u001b[39m\u001b[39mb\u001b[39m\u001b[39m\"\u001b[39m)\n\u001b[0;32m---> <a href='vscode-notebook-cell:/home/arvind/prog/leetcode.ipynb#X50sZmlsZQ%3D%3D?line=33'>34</a>\u001b[0m \u001b[39mfor\u001b[39;00m i  \u001b[39min\u001b[39;00m soup\u001b[39m.\u001b[39;49msection\u001b[39m.\u001b[39;49mfind_all(\u001b[39m'\u001b[39m\u001b[39ma\u001b[39m\u001b[39m'\u001b[39m):\n\u001b[1;32m     <a href='vscode-notebook-cell:/home/arvind/prog/leetcode.ipynb#X50sZmlsZQ%3D%3D?line=34'>35</a>\u001b[0m     obj \u001b[39m=\u001b[39m i\u001b[39m.\u001b[39mattrs\n\u001b[1;32m     <a href='vscode-notebook-cell:/home/arvind/prog/leetcode.ipynb#X50sZmlsZQ%3D%3D?line=35'>36</a>\u001b[0m     \u001b[39mprint\u001b[39m(obj)\n",
      "\u001b[0;31mAttributeError\u001b[0m: 'NoneType' object has no attribute 'find_all'"
     ]
    }
   ],
   "source": [
    "\n",
    "import os\n",
    "import bs4\n",
    "import requests\n",
    "import re\n",
    "def create_folder(folder_path):\n",
    "    if not os.path.exists(folder_path):\n",
    "        try:\n",
    "            os.makedirs(folder_path)\n",
    "            print(f\"Folder '{folder_path}' created successfully.\")\n",
    "            return folder_path\n",
    "        except OSError as e:\n",
    "            print(f\"Error creating folder '{folder_path}': {e}\")\n",
    "    else:\n",
    "        print(f\"Folder '{folder_path}' already exists.\")\n",
    "\n",
    "def download(j,k):\n",
    "    i = 1\n",
    "    while i<int(k):\n",
    "        with open(f\"{i}.jpg\", \"wb\") as f:\n",
    "            try:\n",
    "                f.write(requests.get(j[:j.rfind('.')-1] + f\"{i}\" + j[j.rfind('.'):]).content)\n",
    "                i+=1\n",
    "            except Exception as e:\n",
    "                print(e)\n",
    "                break\n",
    "\"109969\"\n",
    "ip = input(\"Enter 6-digitnumber\")  \n",
    "\n",
    "get_html = requests.get(f\"https://www.nhentai.net/g/{ip}/1/\")\n",
    "soup = bs4.BeautifulSoup(get_html.text,'html.parser')\n",
    "\n",
    "re_obj = re.compile(r\"https?://\\S+\\.webp\\b\")\n",
    "\n",
    "for i  in soup.section.find_all('a'):\n",
    "    obj = i.attrs\n",
    "    print(obj)\n",
    "    if obj['class'] == ['last']:\n",
    "        ref = obj['href']\n",
    "        print(os.getcwd())\n",
    "        os.chdir(os.path.join('/home/arvind/Documents/Mangas'))\n",
    "        p = create_folder(os.getcwd()+f\"/{ip}\")\n",
    "        os.chdir(os.path.join(p))\n",
    "        download(re_obj.findall(str(soup))[0],ref[10:ref.rfind('/')])\n",
    "\n"
   ]
  },
  {
   "cell_type": "code",
   "execution_count": 10,
   "metadata": {},
   "outputs": [
    {
     "data": {
      "text/plain": [
       "1028607875229383316204082359314080074564970097425580397632335608512948528956497953592624899223485287020380545811704019658771068802209216604648752821297453044959737048622271506561986582090258556475151918684095642376789851558982876234712660019824135053902678179118041111717176380484784098808838486898913089355568138021484958870045364824409837441905584170886285706407404166326772252889786339914170641826301380880933958670101497425653990729520220493084967190664871916885184827044680382586102457195532475128978974958278326224208814907261453067577884150351206512420753603973022796303058119573457236496463594342590936978610044550503304584049501153042389270911174311019690768340976502967579655003928465429028143104"
      ]
     },
     "execution_count": 10,
     "metadata": {},
     "output_type": "execute_result"
    }
   ],
   "source": [
    "def power(x,n):\n",
    "            if n == 2:\n",
    "                return x*x\n",
    "            \n",
    "            if n&1==0:\n",
    "                i = power(x,n//2)\n",
    "                ans = i*i\n",
    "                return ans\n",
    "            else:\n",
    "                i = power(x,n//2)\n",
    "                ans = i*i*x\n",
    "                return ans\n",
    "power(-2,2342)"
   ]
  },
  {
   "cell_type": "code",
   "execution_count": 2,
   "metadata": {},
   "outputs": [],
   "source": [
    "\n",
    "def permute(stack:list,i:int = 0 , ans:list = []):\n",
    "    if i >= len(stack):\n",
    "        result.append(tuple(ans))\n",
    "        return\n",
    "    for k in range(len(ans)+1):\n",
    "        permute(stack,i+1,ans[:k]+[stack[i]]+ans[k:])\n",
    "    return\n",
    "result = []\n",
    "permute([1,2,3,4,5,6,7,8,9])\n",
    "\n"
   ]
  },
  {
   "cell_type": "code",
   "execution_count": 1,
   "metadata": {},
   "outputs": [
    {
     "data": {
      "text/plain": [
       "[[4, 3, 2, 1],\n",
       " [3, 4, 2, 1],\n",
       " [3, 2, 4, 1],\n",
       " [3, 2, 1, 4],\n",
       " [4, 2, 3, 1],\n",
       " [2, 4, 3, 1],\n",
       " [2, 3, 4, 1],\n",
       " [2, 3, 1, 4],\n",
       " [4, 2, 1, 3],\n",
       " [2, 4, 1, 3],\n",
       " [2, 1, 4, 3],\n",
       " [2, 1, 3, 4],\n",
       " [4, 3, 1, 2],\n",
       " [3, 4, 1, 2],\n",
       " [3, 1, 4, 2],\n",
       " [3, 1, 2, 4],\n",
       " [4, 1, 3, 2],\n",
       " [1, 4, 3, 2],\n",
       " [1, 3, 4, 2],\n",
       " [1, 3, 2, 4],\n",
       " [4, 1, 2, 3],\n",
       " [1, 4, 2, 3],\n",
       " [1, 2, 4, 3],\n",
       " [1, 2, 3, 4]]"
      ]
     },
     "execution_count": 1,
     "metadata": {},
     "output_type": "execute_result"
    }
   ],
   "source": [
    "def permutation(object: list,ans: list = [],length = None):\n",
    "    if length is None:\n",
    "        length = len(object)\n",
    "\n",
    "    if len(ans) >= length:\n",
    "        return [ans]\n",
    "\n",
    "\n",
    "    first = object[0]\n",
    "    object = object[1:]\n",
    "    li = []\n",
    "\n",
    "    for i in range(len(ans)+1):\n",
    "        li += permutation(object,ans[:i]+[first]+ans[i:],length)\n",
    "    return li\n",
    "permutation([1,2,3,4])"
   ]
  },
  {
   "cell_type": "code",
   "execution_count": 48,
   "metadata": {},
   "outputs": [
    {
     "name": "stdout",
     "output_type": "stream",
     "text": [
      "[2, 0, -1, 234, 0, 54, 34, 22]\n"
     ]
    }
   ],
   "source": [
    "\n",
    "def merge(array:list[int],start:int,end:int):\n",
    "    if start - end == 1:\n",
    "        return\n",
    "    mid = (start + end)//2\n",
    "    if end - start > 1:\n",
    "        merge(array,start,mid)\n",
    "        merge(array,mid,end)\n",
    "    i= start\n",
    "    j= mid+1\n",
    "    while i < mid and j < end:\n",
    "        if array[i] >= array[j]:\n",
    "            array[i] , array[j] = array[j] ,array[i]\n",
    "            i += 1\n",
    "            j += 1\n",
    "        else:\n",
    "            j += 1\n",
    "    \n",
    "\n",
    "array = [234,0,-1,34,22,54,2,0]\n",
    "merge(array=array,start=0,end=len(array))\n",
    "print(array)"
   ]
  },
  {
   "cell_type": "code",
   "execution_count": 45,
   "metadata": {},
   "outputs": [
    {
     "data": {
      "text/plain": [
       "[-1, 0, 0, 2, 22, 34, 54, 234]"
      ]
     },
     "execution_count": 45,
     "metadata": {},
     "output_type": "execute_result"
    }
   ],
   "source": [
    "def merge(arr):\n",
    "    if len(arr) == 1:\n",
    "        return arr\n",
    "    \n",
    "    mid = len(arr)//2\n",
    "\n",
    "    first_half = merge(arr[:mid])\n",
    "    last_half = merge(arr[mid:])\n",
    "\n",
    "    f = 0\n",
    "    l = 0\n",
    "    temp = []\n",
    "\n",
    "    while True:\n",
    "        if f >= len(first_half):\n",
    "            temp.extend(last_half[l:])\n",
    "            break\n",
    "        if l >= len(last_half):\n",
    "            temp.extend(first_half[f:])\n",
    "            break\n",
    "        if first_half[f] > last_half[l]:\n",
    "            temp.append(last_half[l])\n",
    "            l+=1\n",
    "        else:\n",
    "            temp.append(first_half[f])\n",
    "            f+=1\n",
    "    return temp\n",
    "merge([234,0,-1,34,22,54,2,0])\n",
    "        "
   ]
  },
  {
   "cell_type": "code",
   "execution_count": 109,
   "metadata": {},
   "outputs": [
    {
     "name": "stdout",
     "output_type": "stream",
     "text": [
      "[-11, -1, 0, 0, 2, 2, 4, 5, 8, 23, 43]\n"
     ]
    }
   ],
   "source": [
    "def Quicksort(array,s,e):\n",
    "    if s >= e:\n",
    "        return\n",
    "    p = s + (e-s)//2\n",
    "    p_num = array[p]\n",
    "    l,r = s,e\n",
    "    while l <= r:\n",
    "        while array[l] < p_num:\n",
    "            l+=1\n",
    "        while array[r] > p_num:\n",
    "            r-=1\n",
    "        if l<=r:\n",
    "            array[l] ,array[r] = array[r] , array[l]\n",
    "            l+=1\n",
    "            r-=1\n",
    "    Quicksort(array,s,r)\n",
    "    Quicksort(array,l,e)\n",
    "array = [0,4,23,-1,2,5,-11,0,8,2,43]\n",
    "\n",
    "Quicksort(array,0,len(array)-1)\n",
    "print(array)\n",
    "        "
   ]
  },
  {
   "cell_type": "code",
   "execution_count": 110,
   "metadata": {},
   "outputs": [
    {
     "name": "stdout",
     "output_type": "stream",
     "text": [
      "[-11, -1, 0, 0, 2, 2, 4, 5, 8, 23, 43]\n"
     ]
    }
   ],
   "source": [
    "a = [0,4,23,-1,2,5,-11,0,8,2,43]\n",
    "\n",
    "for i in range(len(a)):\n",
    "    for j in range(i,len(a)):\n",
    "        if a[i] > a[j]:\n",
    "            a[j] , a[i] = a[i] , a[j]\n",
    "print(a)"
   ]
  },
  {
   "cell_type": "code",
   "execution_count": 17,
   "metadata": {},
   "outputs": [
    {
     "name": "stdout",
     "output_type": "stream",
     "text": [
      "[7, [2, 5]]\n"
     ]
    }
   ],
   "source": [
    "arr = [2,3,3,5]\n",
    "li = []\n",
    "l = 0\n",
    "r = len(arr)-1\n",
    "while l < r:\n",
    "    li.append([arr[l],arr[r]])\n",
    "    l+=1\n",
    "    r-=1\n",
    "max_sum = [0,[]] \n",
    "for i in li:\n",
    "    s =i[0] + i[1] \n",
    "    if s > max_sum[0]:\n",
    "        max_sum[0] = s\n",
    "        max_sum[1] = [i[0],i[1]]\n",
    "\n",
    "\n",
    "print(max_sum)"
   ]
  },
  {
   "cell_type": "code",
   "execution_count": 4,
   "metadata": {},
   "outputs": [
    {
     "name": "stdout",
     "output_type": "stream",
     "text": [
      "[]\n"
     ]
    }
   ],
   "source": [
    "hm = [0]*34\n",
    "\n",
    "print(list(filter(lambda x: x!= 0,hm)))"
   ]
  },
  {
   "cell_type": "code",
   "execution_count": 26,
   "metadata": {},
   "outputs": [
    {
     "name": "stdout",
     "output_type": "stream",
     "text": [
      "0\n"
     ]
    }
   ],
   "source": [
    "class SnapshotArray:\n",
    "\n",
    "    def __init__(self, length: int):\n",
    "        self.array = [{0:0}for _ in range(length)]\n",
    "        self.id = 0\n",
    "\n",
    "    def set(self, index: int, val: int) -> None:\n",
    "        self.array[index][self.id] = val\n",
    "\n",
    "    def snap(self) -> int:\n",
    "        self.id += 1\n",
    "        return self.id-1\n",
    "\n",
    "    def get(self, index: int, snap_id: int) -> int:\n",
    "        while snap_id not in self.array[index]:\n",
    "            snap_id -= 1\n",
    "        return self.array[index][snap_id]\n",
    "       \n",
    "\n",
    "\n"
   ]
  },
  {
   "cell_type": "code",
   "execution_count": 17,
   "metadata": {},
   "outputs": [
    {
     "name": "stdout",
     "output_type": "stream",
     "text": [
      "13\n"
     ]
    }
   ],
   "source": [
    "result = []\n",
    "def track(mat:list[list[int]],sum:int,row:int,col:int):\n",
    "    if col < 0 or col >= len(mat[0]):\n",
    "        return\n",
    "    if  row < 0:\n",
    "        result.append(sum)\n",
    "        return\n",
    "    sum += mat[row][col]\n",
    "    track(mat,sum,row-1,col)\n",
    "    track(mat,sum,row-1,col-1)\n",
    "    track(mat,sum,row-1,col+1)\n",
    "    return\n",
    "mat = [[2,1,3],\n",
    "       [6,5,4],\n",
    "       [7,8,9]]\n",
    "track(mat,0,2,1)\n",
    "for i in range(len(mat[0])):\n",
    "    track(mat,0,len(mat)-1,i)\n",
    "print(min(result))"
   ]
  },
  {
   "cell_type": "code",
   "execution_count": 33,
   "metadata": {},
   "outputs": [
    {
     "name": "stdout",
     "output_type": "stream",
     "text": [
      "13\n"
     ]
    }
   ],
   "source": [
    "def track(mat:list[list[int]],sum:int,row:int,col:int):\n",
    "    if col < 0 or col >= len(mat[0]):\n",
    "        return float('inf')\n",
    "    if  row < 0:\n",
    "        hm[(row,col)] = sum\n",
    "        return sum\n",
    "    sum += mat[row][col] + min(\n",
    "    track(mat,sum,row-1,col),\n",
    "    track(mat,sum,row-1,col-1),\n",
    "    track(mat,sum,row-1,col+1)\n",
    "    )\n",
    "    hm[(row,col)] = sum\n",
    "    return sum\n",
    "hm = {}\n",
    "ans = float('inf')\n",
    "for i in range(len(mat[0])):\n",
    "    ans = min(ans,track(mat,0,len(mat)-1,i))\n",
    "print(ans)"
   ]
  },
  {
   "cell_type": "code",
   "execution_count": 2,
   "metadata": {},
   "outputs": [
    {
     "name": "stdout",
     "output_type": "stream",
     "text": [
      "((1, 0), (0, 1), (-1, 2))\n",
      "((0, 1), (1, 0), (-1, 2))\n",
      "((-1, 2), (1, 0), (0, 1))\n",
      "((-1, 2), (1, 0), (0, 4))\n",
      "((-1, 2), (1, 0), (0, 1))\n",
      "((-1, 2), (2, 3), (-1, 2))\n",
      "((-1, 2), (1, 0), (0, 4))\n",
      "((-1, 2), (1, 0), (0, 1))\n",
      "((0, 4), (1, 0), (-1, 2))\n",
      "((2, 3), (-4, 5), (2, 3))\n",
      "((-1, 2), (1, 0), (0, 1))\n",
      "((0, 4), (1, 0), (-1, 2))\n",
      "((2, 3), (-4, 5), (2, 3))\n",
      "((-1, 2), (1, 0), (0, 4))\n"
     ]
    },
    {
     "data": {
      "text/plain": [
       "set()"
      ]
     },
     "execution_count": 2,
     "metadata": {},
     "output_type": "execute_result"
    }
   ],
   "source": [
    "def threeSum(nums):\n",
    "        collect = {}\n",
    "        triplet = set()\n",
    "        for i in range(len(nums)):\n",
    "            for j in range(len(nums)):\n",
    "                if i!=j:\n",
    "                    if nums[j] in collect:\n",
    "                        val = (*collect[nums[j]] , (nums[j],j))\n",
    "                        print(val)\n",
    "                        \n",
    "                    else:\n",
    "                        collect[-(nums[i]+nums[j])] = ( (nums[i],i),(nums[j],j)  )\n",
    "        return triplet\n",
    "\n",
    "threeSum([1,0,-1,2,0,-4])"
   ]
  },
  {
   "cell_type": "code",
   "execution_count": 5,
   "metadata": {},
   "outputs": [
    {
     "name": "stdout",
     "output_type": "stream",
     "text": [
      "[[-82, -11, 93], [-82, 13, 69], [-82, 21, 61], [-82, 26, 56], [-82, 33, 49], [-82, 34, 48], [-82, 36, 46], [-70, -14, 84], [-70, -6, 76], [-70, 13, 57], [-70, 15, 55], [-70, 21, 49], [-70, 34, 36], [-66, -11, 77], [-66, -3, 69], [-66, 1, 65], [-66, 10, 56], [-49, -6, 55], [-49, -3, 52], [-49, 1, 48], [-49, 2, 47], [-49, 13, 36], [-49, 15, 34], [-49, 21, 28], [-43, -14, 57], [-43, -6, 49], [-43, -3, 46], [-43, 10, 33], [-43, 12, 31], [-43, 15, 28], [-43, 17, 26], [-29, -14, 43], [-29, 1, 28], [-14, -3, 17], [-14, 1, 13], [-14, 2, 12], [-11, -6, 17], [-3, 1, 2]]\n",
      "[[-82, -11, 93], [-82, 13, 69], [-82, 17, 65], [-82, 21, 61], [-82, 26, 56], [-82, 33, 49], [-82, 34, 48], [-82, 36, 46], [-70, -14, 84], [-70, -6, 76], [-70, 1, 69], [-70, 13, 57], [-70, 15, 55], [-70, 21, 49], [-70, 34, 36], [-66, -11, 77], [-66, -3, 69], [-66, 1, 65], [-66, 10, 56], [-66, 17, 49], [-49, -6, 55], [-49, -3, 52], [-49, 1, 48], [-49, 2, 47], [-49, 13, 36], [-49, 15, 34], [-49, 21, 28], [-43, -14, 57], [-43, -6, 49], [-43, -3, 46], [-43, 10, 33], [-43, 12, 31], [-43, 15, 28], [-43, 17, 26], [-29, -14, 43], [-29, 1, 28], [-29, 12, 17], [-14, -3, 17], [-14, 1, 13], [-14, 2, 12], [-11, -6, 17], [-11, 1, 10], [-3, 1, 2]]\n"
     ]
    }
   ],
   "source": [
    "result = [[-14,2,12],[-49,21,28],[-70,34,36],[-49,-3,52],[-82,34,48],[-70,-6,76],[-29,1,28],[-82,26,56],[-43,15,28],[-82,33,49],[-29,-14,43],[-70,-14,84],[-66,10,56],[-66,1,65],[-49,-6,55],[-43,-3,46],[-49,1,48],[-49,2,47],[-70,15,55],[-43,12,31],[-14,-3,17],[-11,-6,17],[-70,13,57],[-82,13,69],[-49,15,34],[-82,21,61],[-82,36,46],[-82,-11,93],[-43,10,33],[-70,21,49],[-43,-6,49],[-66,-3,69],[-66,-11,77],[-49,13,36],[-43,17,26],[-43,-14,57],[-3,1,2],[-14,1,13]]\n",
    "li = [[-82,-11,93],[-82,13,69],[-82,17,65],[-82,21,61],[-82,26,56],[-82,33,49],[-82,34,48],[-82,36,46],[-70,-14,84],[-70,-6,76],[-70,1,69],[-70,13,57],[-70,15,55],[-70,21,49],[-70,34,36],[-66,-11,77],[-66,-3,69],[-66,1,65],[-66,10,56],[-66,17,49],[-49,-6,55],[-49,-3,52],[-49,1,48],[-49,2,47],[-49,13,36],[-49,15,34],[-49,21,28],[-43,-14,57],[-43,-6,49],[-43,-3,46],[-43,10,33],[-43,12,31],[-43,15,28],[-43,17,26],[-29,-14,43],[-29,1,28],[-29,12,17],[-14,-3,17],[-14,1,13],[-14,2,12],[-11,-6,17],[-11,1,10],[-3,1,2]]\n",
    "\n",
    "print(sorted(result))\n",
    "print(sorted(li))"
   ]
  },
  {
   "cell_type": "code",
   "execution_count": 5,
   "metadata": {},
   "outputs": [
    {
     "name": "stdout",
     "output_type": "stream",
     "text": [
      "[[], [1], [1, 3], [2], [2, 1], [2, 1, 3], [2, 3], [3], [4], [4, 1], [4, 1, 3], [4, 2], [4, 2, 1], [4, 2, 1, 3], [4, 2, 3], [4, 3]]\n"
     ]
    }
   ],
   "source": [
    "li = [3,1,2,4]\n",
    "\n",
    "result = [[]]\n",
    "while li:\n",
    "    x = li.pop()\n",
    "    result += [i+[x] for i in result]\n",
    "\n",
    "print(sorted(result))\n"
   ]
  },
  {
   "cell_type": "code",
   "execution_count": 11,
   "metadata": {},
   "outputs": [
    {
     "data": {
      "text/plain": [
       "0"
      ]
     },
     "execution_count": 11,
     "metadata": {},
     "output_type": "execute_result"
    }
   ],
   "source": [
    "from collections import deque\n",
    "\n",
    "new = deque()\n",
    "for i in range(10):\n",
    "    new.append(i)\n",
    "new.popleft()\n"
   ]
  },
  {
   "cell_type": "code",
   "execution_count": 29,
   "metadata": {},
   "outputs": [
    {
     "name": "stdout",
     "output_type": "stream",
     "text": [
      "1\n"
     ]
    }
   ],
   "source": [
    "\n",
    "list = [1,2]\n",
    "left = 0\n",
    "right = len(list)-1\n",
    "n = 9\n",
    "while left <= right:\n",
    "    mid = left + (right-left)//2\n",
    "    if mid <= n:\n",
    "        left = mid+1\n",
    "    else:\n",
    "        right = mid\n",
    "print(right)\n",
    "\n"
   ]
  },
  {
   "cell_type": "code",
   "execution_count": 44,
   "metadata": {},
   "outputs": [
    {
     "name": "stdout",
     "output_type": "stream",
     "text": [
      "0 0\n"
     ]
    }
   ],
   "source": [
    "class Solution:\n",
    "    def search(self, nums: List[int], target: int) -> int:\n",
    "        def binary(left,right):\n",
    "            while left <= right:\n",
    "                m = left + (right-left)//2\n",
    "\n",
    "                if nums[m] == target:\n",
    "                    return m\n",
    "                elif nums[m] < target:\n",
    "                    left = m+1\n",
    "                else:\n",
    "                    right = m-1\n",
    "            return -1\n",
    "        left = 0\n",
    "        right = len(nums)-1\n",
    "        ma = None\n",
    "        while left != right:\n",
    "            mid = left+(right-left)//2\n",
    "            if nums[mid-1] <nums[mid] > nums[mid+1]:\n",
    "                ma = mid\n",
    "                break\n",
    "            elif nums[mid] > nums[left]:\n",
    "                left = mid+1\n",
    "            else:\n",
    "                right = mid-1\n",
    "        if ma is None:\n",
    "            ma = left\n",
    "        print(ma)\n",
    "        r1 = binary(0,ma)\n",
    "        r2 = binary(ma+1,len(nums)-1)\n",
    "        return r1 if r2 == -1 else r2\n",
    "\n"
   ]
  },
  {
   "cell_type": "code",
   "execution_count": 43,
   "metadata": {},
   "outputs": [
    {
     "name": "stdout",
     "output_type": "stream",
     "text": [
      "[1, 2, 3, 4, 5]\n"
     ]
    }
   ],
   "source": [
    "nums = [5,3,4,1,2]\n",
    "i = 0\n",
    "while i < len(nums):\n",
    "    if nums[i]-1 < len(nums) and nums[i] != nums[nums[i]-1]:\n",
    "        nums[i] , nums[nums[i]-1] = nums[nums[i]-1] , nums[i]\n",
    "        #n[0] , nums[4] = nums[4] , nums[0]\n",
    "    else:\n",
    "        i+=1\n",
    "print(nums)"
   ]
  },
  {
   "cell_type": "code",
   "execution_count": 3,
   "metadata": {},
   "outputs": [
    {
     "name": "stdout",
     "output_type": "stream",
     "text": [
      "3\n",
      "3\n",
      "1\n"
     ]
    }
   ],
   "source": [
    "\n",
    "nums = [3,3,3,1,1]\n",
    "i = 0\n",
    "while i < len(nums):\n",
    "    x = nums[i]-1\n",
    "    if x < len(nums) and nums[i] != nums[x]:\n",
    "        nums[i] , nums[x] = nums[x] , nums[i]\n",
    "    else:\n",
    "        i+=1\n",
    "Counter = 1\n",
    "for i in nums:\n",
    "    if i != Counter:\n",
    "        print(i)\n",
    "    Counter +=1\n"
   ]
  },
  {
   "cell_type": "code",
   "execution_count": 61,
   "metadata": {},
   "outputs": [
    {
     "name": "stdout",
     "output_type": "stream",
     "text": [
      "2\n",
      "6\n",
      "10\n",
      "6\n",
      "8\n",
      "3\n",
      "10\n"
     ]
    }
   ],
   "source": [
    "def max_rect(nums: list[int], height: int, index: int):\n",
    "    i = j = index\n",
    "    i -= 1\n",
    "    j += 1\n",
    "    while 0 <= i and nums[i] >= height:\n",
    "        i -= 1\n",
    "    while j < len(nums) and nums[j] >= height:\n",
    "        j += 1\n",
    "    return (j-i-1)*height\n",
    "\n",
    "\n",
    "nums: list[int] = [2, 1, 5, 6, 2, 3]\n",
    "max_ = -float('inf')\n",
    "for i , v in enumerate(nums):\n",
    "    max_ = max(max_rect(nums, v , i),max_)\n",
    "print(max_)"
   ]
  },
  {
   "cell_type": "code",
   "execution_count": 72,
   "metadata": {},
   "outputs": [
    {
     "name": "stdout",
     "output_type": "stream",
     "text": [
      "[1, 4, 5]\n",
      "[[2, 0], [1, 1], [5, 1], [6, 2], [2, 1], [3, 4]]\n"
     ]
    }
   ],
   "source": [
    "nums = [2, 1, 5, 6, 2, 3]\n",
    "\n",
    "minStack = []\n",
    "last = []\n",
    "for i , val in enumerate(nums):\n",
    "    while minStack and nums[minStack[-1]] > val:\n",
    "        minStack.pop()\n",
    "    if minStack:\n",
    "        last.append([val,minStack[-1]])\n",
    "    else:\n",
    "        last.append([val,i])\n",
    "    minStack.append(i)\n",
    "print(minStack)\n",
    "print(last)"
   ]
  },
  {
   "cell_type": "code",
   "execution_count": 2,
   "metadata": {},
   "outputs": [
    {
     "name": "stdout",
     "output_type": "stream",
     "text": [
      "[[2, 0], [1, 1], [5, 1], [6, 2], [2, 1], [3, 4]]\n"
     ]
    }
   ],
   "source": [
    "\n",
    "def min_index(nums):\n",
    "    stack = []\n",
    "    ans = []\n",
    "    for index , value in enumerate(nums):\n",
    "        while stack and nums[stack[-1]] > value:\n",
    "            stack.pop()\n",
    "        if stack:\n",
    "            ans.append([value,stack[-1]])\n",
    "        else:\n",
    "            ans.append([value,index])\n",
    "        stack.append(index)\n",
    "    del stack\n",
    "    return ans\n",
    "\n",
    "nums = [2, 1, 5, 6, 2, 3]\n",
    "# [ 3, 2, 6, 5, 1, 2]\n",
    "x = min_index(nums)\n",
    "print(x)\n"
   ]
  },
  {
   "cell_type": "code",
   "execution_count": 1,
   "metadata": {},
   "outputs": [
    {
     "name": "stdout",
     "output_type": "stream",
     "text": [
      "[2, 1, 2]\n",
      "2\n"
     ]
    }
   ],
   "source": [
    "\n",
    "def max_right(nums,height,index,last):\n",
    "    j = index\n",
    "    j += 1\n",
    "    while j < len(nums) and nums[j] >= height:\n",
    "        j += 1\n",
    "    return (j-last-1)*height\n",
    "\n",
    "nums = [2,1,2]\n",
    "print(nums)\n",
    "m = -float('inf')\n",
    "stack = []\n",
    "for i ,value in enumerate(nums):\n",
    "    while stack and nums[stack[-1]] > value:\n",
    "        stack.pop()\n",
    "    if stack:\n",
    "        min_smallest = stack[-1]\n",
    "    else:\n",
    "        min_smallest = i-1\n",
    "    stack.append(i)\n",
    "    m = max(m,max_right(nums,value,i,min_smallest))\n",
    "\n",
    "print(m)\n",
    "\n"
   ]
  },
  {
   "cell_type": "code",
   "execution_count": null,
   "metadata": {},
   "outputs": [],
   "source": [
    "max_area = 0\n",
    "for index , value in enumerate(nums):\n",
    "    while stack and stack[-1][1] > value:\n",
    "        last_index,height = stack.pop()\n",
    "        max_area = max(max_area,(index-last_index)*height)\n",
    "\n",
    "    stack.append((last_index,value))"
   ]
  },
  {
   "cell_type": "code",
   "execution_count": 12,
   "metadata": {},
   "outputs": [
    {
     "name": "stdout",
     "output_type": "stream",
     "text": [
      "True\n"
     ]
    }
   ],
   "source": [
    "s = [\"asd\",\"asd\"]\n",
    "def duplicate(s):\n",
    "    s = \"\".join(s)\n",
    "    ht = [0]*26\n",
    "    for i in s:\n",
    "        ht[ord(i)-97] += 1\n",
    "    return (any(filter(lambda x: x>1,ht)))\n",
    "print(duplicate(s))"
   ]
  },
  {
   "cell_type": "code",
   "execution_count": 39,
   "metadata": {},
   "outputs": [
    {
     "name": "stdout",
     "output_type": "stream",
     "text": [
      "hello\n"
     ]
    }
   ],
   "source": [
    "\n",
    "def myfunc1():\n",
    "  x = \"John\"\n",
    "  def myfunc2():\n",
    "    nonlocal x\n",
    "    x = \"hello\"\n",
    "  myfunc2()\n",
    "  return x\n",
    "\n",
    "print(myfunc1()) "
   ]
  },
  {
   "cell_type": "code",
   "execution_count": 35,
   "metadata": {},
   "outputs": [
    {
     "name": "stdout",
     "output_type": "stream",
     "text": [
      "John\n"
     ]
    }
   ],
   "source": [
    "\n",
    "def myfunc1():\n",
    "  x = \"John\"\n",
    "  def myfunc2():\n",
    "    x = \"hello\"\n",
    "  myfunc2()\n",
    "  return x\n",
    "\n",
    "print(myfunc1()) "
   ]
  },
  {
   "cell_type": "code",
   "execution_count": 21,
   "metadata": {},
   "outputs": [
    {
     "name": "stdout",
     "output_type": "stream",
     "text": [
      "[[], ['a'], ['b'], ['a', 'b'], ['c'], ['a', 'c'], ['b', 'c'], ['a', 'b', 'c'], ['d'], ['a', 'd'], ['b', 'd'], ['a', 'b', 'd'], ['c', 'd'], ['a', 'c', 'd'], ['b', 'c', 'd'], ['a', 'b', 'c', 'd'], ['e'], ['a', 'e'], ['b', 'e'], ['a', 'b', 'e'], ['c', 'e'], ['a', 'c', 'e'], ['b', 'c', 'e'], ['a', 'b', 'c', 'e'], ['d', 'e'], ['a', 'd', 'e'], ['b', 'd', 'e'], ['a', 'b', 'd', 'e'], ['c', 'd', 'e'], ['a', 'c', 'd', 'e'], ['b', 'c', 'd', 'e'], ['a', 'b', 'c', 'd', 'e']]\n"
     ]
    }
   ],
   "source": [
    "sub = [[]]\n",
    "x = \"abcde\"\n",
    "i = 0\n",
    "while i < len(x):\n",
    "    m = x[i]\n",
    "    sub += [j+[m] for j in sub]\n",
    "    i+=1\n",
    "print(sub)\n"
   ]
  },
  {
   "cell_type": "code",
   "execution_count": 42,
   "metadata": {},
   "outputs": [
    {
     "name": "stdout",
     "output_type": "stream",
     "text": [
      "0.0001227855682373047\n"
     ]
    }
   ],
   "source": [
    "import time\n",
    "def lcs(s1,s2):\n",
    "    if not s1 or not s2:\n",
    "        return 0\n",
    "    if s1[0] == s2[0]:\n",
    "        return 1 + lcs(s1[1:],s2[1:])\n",
    "    \n",
    "    return max(lcs(s1[1:],s2),lcs(s1,s2[1:]))\n",
    "s = time.time()\n",
    "lcs(\"bottle\",\"boe\")\n",
    "print(time.time()-s)"
   ]
  },
  {
   "cell_type": "code",
   "execution_count": 8,
   "metadata": {},
   "outputs": [
    {
     "name": "stdout",
     "output_type": "stream",
     "text": [
      "8.869171142578125e-05\n"
     ]
    }
   ],
   "source": [
    "import time\n",
    "\n",
    "def lcs(index_s1,index_s2):\n",
    "    if index_s1 >= len(s1) or index_s2 >= len(s2):\n",
    "        return 0\n",
    "    if s1[index_s1] == s2[index_s2]:\n",
    "        return 1 + lcs(index_s1+1,index_s2+1)\n",
    "    return max(lcs(index_s1+1,index_s2),lcs(index_s1,index_s2+1))\n",
    "s1 = \"abcde\"\n",
    "s2 = \"ace\"\n",
    "s = time.time()\n",
    "lcs(0,0)\n",
    "print(time.time()-s)"
   ]
  },
  {
   "cell_type": "code",
   "execution_count": 11,
   "metadata": {},
   "outputs": [
    {
     "data": {
      "text/plain": [
       "914783380"
      ]
     },
     "execution_count": 11,
     "metadata": {},
     "output_type": "execute_result"
    }
   ],
   "source": [
    "1590914794510 %  (10**9+7) # 914783380"
   ]
  },
  {
   "cell_type": "code",
   "execution_count": 4,
   "metadata": {},
   "outputs": [],
   "source": [
    "def lcs(i,path):\n",
    "    if i >= len(arr):\n",
    "        result.append(path)\n",
    "        return\n",
    "    \n",
    "    for k in range(i,len(arr)):\n",
    "        if arr[k] > arr[i]:\n",
    "            lcs(k,path+1)\n",
    "            lcs(k,path)\n",
    "    "
   ]
  },
  {
   "cell_type": "code",
   "execution_count": 36,
   "metadata": {},
   "outputs": [],
   "source": [
    "karp = \"basbdiubb dsofb arvind asbnd amit asbdubnubnsa for i in range\"\n",
    "\n",
    "rabin = \"bajvs\"\n",
    "\n",
    "for i in range(len(karp)):\n",
    "    if hash(rabin) == hash(karp[i:i+len(rabin)]):\n",
    "        print(karp[i:i+len(rabin)])\n"
   ]
  },
  {
   "cell_type": "code",
   "execution_count": 43,
   "metadata": {},
   "outputs": [
    {
     "name": "stderr",
     "output_type": "stream",
     "text": [
      "sh: line 1: /home/arvind/Pictures/2.py: Permission denied\n"
     ]
    },
    {
     "data": {
      "text/plain": [
       "32256"
      ]
     },
     "execution_count": 43,
     "metadata": {},
     "output_type": "execute_result"
    }
   ],
   "source": [
    "import os\n",
    "import random\n",
    "p = '/home/arvind/Pictures'\n",
    "os.chdir(p)\n",
    "\n",
    "c = 0\n",
    "for i in os.listdir():\n",
    "    os.rename(i , str(c)+i[i.rfind('.'):])\n",
    "    c += 1\n",
    "file = random.choice(os.listdir())\n",
    "os.system(os.path.realpath(file))\n"
   ]
  },
  {
   "cell_type": "code",
   "execution_count": 8,
   "metadata": {},
   "outputs": [
    {
     "name": "stdout",
     "output_type": "stream",
     "text": [
      "88226\n"
     ]
    }
   ],
   "source": [
    "import requests\n",
    "import tqdm\n",
    "url = 'https://www.adobe.com/support/products/enterprise/knowledgecenter/media/c4611_sample_explain.pdf'\n",
    "chunk_size = 128\n",
    "data = requests.get(url=url,stream=True)\n",
    "size = data.headers['Content-Length']\n",
    "print(size)\n",
    "\n",
    "with open(\"test.pdf\",\"wb\") as file:\n",
    "    for i in data.iter_content(chunk_size):\n",
    "        file.write(i)"
   ]
  },
  {
   "cell_type": "code",
   "execution_count": 11,
   "metadata": {},
   "outputs": [
    {
     "name": "stderr",
     "output_type": "stream",
     "text": [
      "100%|██████████| 10/10 [00:10<00:00,  1.00s/it]\n"
     ]
    }
   ],
   "source": [
    "import tqdm\n",
    "import time\n",
    "\n",
    "\n",
    "for i in tqdm.tqdm([i for i in range(10)]):\n",
    "    time.sleep(1)\n",
    "    "
   ]
  },
  {
   "cell_type": "code",
   "execution_count": 10,
   "metadata": {},
   "outputs": [
    {
     "name": "stdout",
     "output_type": "stream",
     "text": [
      "deque(['1', '2', '3', 'None', 'None', '4', '5'])\n"
     ]
    }
   ],
   "source": [
    "import collections\n",
    "\n",
    "\n",
    "li = ['1', '2', '3', 'None', 'None', '4', '5']\n",
    "dq = collections.deque(li)\n",
    "print(dq)"
   ]
  },
  {
   "cell_type": "code",
   "execution_count": 43,
   "metadata": {},
   "outputs": [
    {
     "name": "stdout",
     "output_type": "stream",
     "text": [
      "[-7, -6, -5, -4, -3, -2, -1]\n",
      "[]\n"
     ]
    }
   ],
   "source": [
    "class Heap:\n",
    "\n",
    "\n",
    "    def __init__(self) -> None:\n",
    "        self.heap = []\n",
    "\n",
    "\n",
    "    def swap(self,parent,index) -> None:\n",
    "        self.heap[parent] , self.heap[index] = self.heap[index] , self.heap[parent]\n",
    "\n",
    "\n",
    "    def parent(self,index) -> int:\n",
    "        return index//2\n",
    "\n",
    "\n",
    "    def right(self,index) -> int:\n",
    "        return ( index + 1 ) * 2\n",
    "    \n",
    "\n",
    "    def left(self , index) -> int:\n",
    "        return self.right(index) - 1\n",
    "    \n",
    "\n",
    "\n",
    "    def upheap(self) -> None:\n",
    "        index = len(self.heap)-1\n",
    "        parent = self.parent(index)\n",
    "        while self.heap[parent] > self.heap[index]:\n",
    "            self.swap(parent,index)\n",
    "            index = parent \n",
    "            parent = self.parent(index)\n",
    "\n",
    "    def downheap(self,index) -> None:\n",
    "        if not self.heap:\n",
    "            return\n",
    "        min = index\n",
    "        left = self.left(min)\n",
    "        right = self.right(min)\n",
    "        \n",
    "        if left < len(self.heap) and self.heap[min] > self.heap[left] :\n",
    "            min = left\n",
    "        if right < len(self.heap) and self.heap[min] > self.heap[right] :\n",
    "            min = right\n",
    "\n",
    "        if min != index:\n",
    "            self.swap(min,index)\n",
    "            self.downheap(min)\n",
    "        \n",
    "\n",
    "    def insert(self,n) -> None:\n",
    "        if not self.heap:\n",
    "            self.heap.append(n)\n",
    "            return\n",
    "        self.heap.append(n)\n",
    "        self.upheap()\n",
    "\n",
    "\n",
    "    def delete(self) -> int:\n",
    "        if not self.heap:\n",
    "            return \n",
    "        \n",
    "        temp = self.heap[0]\n",
    "        last = self.heap.pop()\n",
    "        if self.heap:\n",
    "            self.heap[0] = last\n",
    "            self.downheap(0)\n",
    "        return temp\n",
    " \n",
    "       \n",
    "new = Heap()\n",
    "\n",
    "dat = [-1,-2,-3,-4,-5,-6,-7]\n",
    "for i in dat:\n",
    "    new.insert(i)\n",
    "current = []\n",
    "while new.heap:\n",
    "    current.append(new.delete())\n",
    "print(current)\n"
   ]
  },
  {
   "cell_type": "code",
   "execution_count": 41,
   "metadata": {},
   "outputs": [
    {
     "name": "stdout",
     "output_type": "stream",
     "text": [
      "[-7, -5, -6, -4, -2, -1, -3]\n",
      "[-1, -2]\n"
     ]
    }
   ],
   "source": [
    "import heapq\n",
    "\n",
    "dat = [-1,-2,-3,-4,-5,-6,-7]\n",
    "heapq.heapify(dat)\n",
    "print(dat)\n",
    "print(heapq.nlargest(2,dat))"
   ]
  },
  {
   "cell_type": "code",
   "execution_count": 4,
   "metadata": {},
   "outputs": [
    {
     "ename": "AttributeError",
     "evalue": "'int' object has no attribute 'astype'",
     "output_type": "error",
     "traceback": [
      "\u001b[0;31m---------------------------------------------------------------------------\u001b[0m",
      "\u001b[0;31mAttributeError\u001b[0m                            Traceback (most recent call last)",
      "Cell \u001b[0;32mIn[4], line 3\u001b[0m\n\u001b[1;32m      1\u001b[0m li \u001b[38;5;241m=\u001b[39m [i \u001b[38;5;28;01mfor\u001b[39;00m i \u001b[38;5;129;01min\u001b[39;00m \u001b[38;5;28mrange\u001b[39m(\u001b[38;5;241m10\u001b[39m)]\n\u001b[0;32m----> 3\u001b[0m li \u001b[38;5;241m=\u001b[39m \u001b[43m(\u001b[49m\u001b[43mli\u001b[49m\u001b[43m[\u001b[49m\u001b[38;5;241;43m2\u001b[39;49m\u001b[43m]\u001b[49m\u001b[43m)\u001b[49m\u001b[38;5;241;43m.\u001b[39;49m\u001b[43mastype\u001b[49m(\u001b[38;5;28mbool\u001b[39m)\n",
      "\u001b[0;31mAttributeError\u001b[0m: 'int' object has no attribute 'astype'"
     ]
    }
   ],
   "source": [
    "li = [i for i in range(10)]\n",
    "\n",
    "li = (li[2]).astype(bool)"
   ]
  },
  {
   "cell_type": "code",
   "execution_count": 13,
   "metadata": {},
   "outputs": [
    {
     "name": "stdout",
     "output_type": "stream",
     "text": [
      "((1, 0), (0, 1), (1, 1), (0, 0))\n"
     ]
    }
   ],
   "source": [
    "import collections\n",
    "def bfs(row: int , col: int , grid: list[list[int]] , visited: list[list[int]]):\n",
    "            q = collections.deque()\n",
    "            q.append((row,col))\n",
    "            start = (row,col)\n",
    "            ans = set()\n",
    "            while q:\n",
    "                for _ in range(len(q)):\n",
    "                    row , col = q.popleft()\n",
    "                    ans.add((row-start[0],col-start[1]))\n",
    "                    visited[row][col] = True\n",
    "                    for r,c in ((1,0),(-1,0),(0,1),(0,-1)):\n",
    "                        r = r+row\n",
    "                        c = c+col\n",
    "                        if 0 <= r < len(grid) and 0 <= c < len(grid[0]) and visited[r][c] is False and grid[r][c] != 0:\n",
    "                            q.append((r,c))\n",
    "            return tuple(ans)\n",
    "        \n",
    "grid = [[1, 1, 0, 0, 0],\n",
    "        [1, 1, 0, 0, 0],\n",
    "        [0, 0, 0, 1, 1],\n",
    "        [0, 0, 0, 1, 1]]\n",
    "visited = [[ False for _ in range(len(grid[0]))] for _ in range(len(grid))]\n",
    "print(bfs(2,3,grid,visited))"
   ]
  }
 ],
 "metadata": {
  "kernelspec": {
   "display_name": "source",
   "language": "python",
   "name": "python3"
  },
  "language_info": {
   "codemirror_mode": {
    "name": "ipython",
    "version": 3
   },
   "file_extension": ".py",
   "mimetype": "text/x-python",
   "name": "python",
   "nbconvert_exporter": "python",
   "pygments_lexer": "ipython3",
   "version": "3.11.7"
  }
 },
 "nbformat": 4,
 "nbformat_minor": 2
}
