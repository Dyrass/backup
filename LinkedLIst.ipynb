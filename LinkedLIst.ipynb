{
 "cells": [
  {
   "cell_type": "code",
   "execution_count": 31,
   "metadata": {},
   "outputs": [
    {
     "name": "stdout",
     "output_type": "stream",
     "text": [
      "0 -> 1 -> 2 -> 3 -> 4 -> 5 -> 6 -> 345 -> 7 -> 8 -> 9\n"
     ]
    }
   ],
   "source": [
    "\n",
    "class Node:\n",
    "    def __init__(self,value = None,next = None) -> None:\n",
    "        self.value = value\n",
    "        self.next = next\n",
    "class LinkedLIst:\n",
    "    def __init__(self) -> None:\n",
    "        self.head = None\n",
    "        self.l = 0\n",
    "    \n",
    "    def __len__(self):\n",
    "        return self.l\n",
    "    \n",
    "    def __str__(self) -> str:\n",
    "        if self.head is not None:\n",
    "            curr = self.head\n",
    "        else:\n",
    "            return \"None Found\"\n",
    "        stk = []\n",
    "        while curr is not None:\n",
    "            stk.append(str(curr.value))\n",
    "            curr = curr.next\n",
    "        return \" -> \".join(stk)\n",
    "    \n",
    "    def push(self,value):\n",
    "        new_node = Node(value)\n",
    "        if self.head is None:\n",
    "            self.head = new_node\n",
    "            self.l += 1\n",
    "            return\n",
    "        curr = self.head\n",
    "        while curr.next is not None:\n",
    "            curr = curr.next\n",
    "        curr.next = new_node\n",
    "        self.l += 1\n",
    "\n",
    "    def insert(self,value,index):\n",
    "        if index >= len(self):\n",
    "            raise Exception(\"Index out of Range\")\n",
    "        curr = self.head\n",
    "        i = 0\n",
    "        while i < index - 1:\n",
    "            i += 1\n",
    "            curr = curr.next\n",
    "        new_node = Node(value)\n",
    "\n",
    "        curr.next , new_node.next = new_node , curr.next\n",
    "        self.l += 1\n",
    "    def r_insert(self,value,index,head = None):\n",
    "        if index >= len(self):\n",
    "            raise Exception(\"Index out of Range\")\n",
    "        if head is None:\n",
    "            curr = self.head\n",
    "        else:\n",
    "            curr = head\n",
    "        if index-1 == 0:\n",
    "            new = Node(value)\n",
    "            curr.next , new.next = new , curr.next\n",
    "            self.l += 1\n",
    "            return\n",
    "        self.r_insert(value,index-1,curr.next)\n",
    "\n",
    "ll =LinkedLIst()\n",
    "for i in range(10):\n",
    "    ll.push(i)\n",
    "ll.r_insert(345,7)\n",
    "print(ll)\n"
   ]
  },
  {
   "cell_type": "markdown",
   "metadata": {},
   "source": [
    "$$Delete Duplicates in Sorted LIst$$"
   ]
  },
  {
   "cell_type": "code",
   "execution_count": null,
   "metadata": {},
   "outputs": [],
   "source": [
    "\n",
    "def r_del(current:Node):\n",
    "    if current is None:\n",
    "        return\n",
    "    if current.next is None:\n",
    "        return\n",
    "    saved = current\n",
    "    while current.next is not None and current.val == current.next.val:\n",
    "        current = current.next\n",
    "    saved.next = current.next\n",
    "    r_del(current.next)\n"
   ]
  },
  {
   "cell_type": "markdown",
   "metadata": {},
   "source": [
    "$$Merge Two Sorted List$$"
   ]
  },
  {
   "cell_type": "code",
   "execution_count": null,
   "metadata": {},
   "outputs": [],
   "source": [
    "class ListNode:\n",
    "    def __init__(self, val=0, next=None):\n",
    "        self.val = val\n",
    "        self.next = next\n",
    "\n",
    "def merge(current,l1,l2):\n",
    "    if not l1:\n",
    "        current.next = l2\n",
    "        return\n",
    "    if not l2:\n",
    "        current.next = l1\n",
    "        return\n",
    "    new = ListNode() \n",
    "    if l1.val <= l2.val:\n",
    "        new.val = l1.val\n",
    "        l1 = l1.next  \n",
    "    else:\n",
    "        new.val = l2.val\n",
    "        l2=l2.next\n",
    "    current.next = new\n",
    "    merge(current,l1,l2)\n",
    "head = current = ListNode()"
   ]
  },
  {
   "cell_type": "code",
   "execution_count": null,
   "metadata": {},
   "outputs": [],
   "source": [
    "def getmid(head):\n",
    "    current = head\n",
    "    i = 0\n",
    "    while current:\n",
    "        i+=1\n",
    "        current = current.next\n",
    "    i = i//2\n",
    "    current = head\n",
    "    while i != 0:\n",
    "        current = current.next\n",
    "    return current"
   ]
  },
  {
   "cell_type": "code",
   "execution_count": null,
   "metadata": {},
   "outputs": [],
   "source": [
    "#get mid by tortoise and hare\n",
    "\n",
    "def getmid(head):\n",
    "    fast = head\n",
    "    slow = head\n",
    "    while fast is not None and fast.next is not None:\n",
    "        fast = fast.next.next\n",
    "        slow = slow.next\n",
    "    return slow"
   ]
  },
  {
   "cell_type": "code",
   "execution_count": null,
   "metadata": {},
   "outputs": [],
   "source": [
    "\n",
    "def merge_sort(head):\n",
    "    if not head or not head.next :\n",
    "        return head\n",
    "    mid = getmid(head)\n",
    "    left = head\n",
    "    right , mid.next = mid.next , None\n",
    "    left = merge_sort(left)\n",
    "    right = merge_sort(right)\n",
    "    current = ListNode()\n",
    "    merge(current,left,right)\n",
    "    return current.next"
   ]
  },
  {
   "cell_type": "code",
   "execution_count": 2,
   "metadata": {},
   "outputs": [],
   "source": [
    "# Objectively slower than iteration by a magnitude of factors\n",
    "def merge(current,list1,list2):\n",
    "    if not list1:\n",
    "        current.next = list2\n",
    "        return\n",
    "    if not list2:\n",
    "        current.next = list1\n",
    "        return\n",
    "    new = ListNode()\n",
    "    if list1.val < list2.val:\n",
    "        new.val , list1 = list1.val , list1.next\n",
    "    else:\n",
    "        new.val , list2 = list2.val , list2.next\n",
    "    current.next = new\n",
    "    merge(current.next,list1,list2)"
   ]
  },
  {
   "cell_type": "code",
   "execution_count": 1,
   "metadata": {},
   "outputs": [],
   "source": [
    "def merge(left,right):\n",
    "    temp = head = ListNode()\n",
    "    while left and right:\n",
    "        if left.val <= right.val:\n",
    "            temp.next = left\n",
    "            left = left.next\n",
    "        else:\n",
    "            temp.next = right\n",
    "            right = right.next\n",
    "        temp = temp.next\n",
    "    if left:\n",
    "        temp.next = left\n",
    "    if right:\n",
    "        temp.next = right\n",
    "    return head.next"
   ]
  },
  {
   "cell_type": "code",
   "execution_count": 1,
   "metadata": {},
   "outputs": [
    {
     "data": {
      "text/plain": [
       "1"
      ]
     },
     "execution_count": 1,
     "metadata": {},
     "output_type": "execute_result"
    }
   ],
   "source": [
    "def merge(node1,node2):\n",
    "    _node = head = ListNode()\n",
    "    while node1 and node2:\n",
    "        if node1.val < node2.val:\n",
    "            _node.next, node1 = node1 , node1.next\n",
    "        else:\n",
    "            _node.next , node2 = node2 , node2.next\n",
    "        _node = _node.next\n",
    "    if not node1:\n",
    "        _node.next = node2\n",
    "    if not node2:\n",
    "        _node.next = node1\n",
    "    return head.next\n",
    "            "
   ]
  },
  {
   "cell_type": "code",
   "execution_count": 18,
   "metadata": {},
   "outputs": [
    {
     "name": "stdout",
     "output_type": "stream",
     "text": [
      "2147483646\n",
      "2147483646\n"
     ]
    }
   ],
   "source": [
    "class Node:\n",
    "    def __init__(self,val = 0,min = None,next = None,):\n",
    "        self.val = val\n",
    "        self.next = next\n",
    "        self.min = min\n",
    "\n",
    "class MinStack:\n",
    "\n",
    "    def __init__(self):\n",
    "        self.head = None\n",
    "        self.min = None\n",
    "\n",
    "    def push(self, val: int) -> None:\n",
    "        new = Node(val)\n",
    "        if self.min is None or self.min > val:\n",
    "            self.min = val\n",
    "            new.min = val\n",
    "        elif self.min <= val:\n",
    "            new.min = self.min\n",
    "        \n",
    "        if self.head is None:\n",
    "            self.head = new\n",
    "        else:\n",
    "            new.next = self.head\n",
    "            self.head = new\n",
    "        return\n",
    "\n",
    "    def pop(self) -> None:\n",
    "        self.head = self.head.next\n",
    "\n",
    "    def top(self) -> int:\n",
    "        return self.head.val\n",
    "\n",
    "    def getMin(self) -> int:\n",
    "        return self.head.min\n",
    "    \n",
    "    def __str__(self) -> str:\n",
    "        if self.head is not None:\n",
    "            curr = self.head\n",
    "        else:\n",
    "            return \"None Found\"\n",
    "        stk = []\n",
    "        while curr is not None:\n",
    "            stk.append(str(curr.val))\n",
    "            curr = curr.next\n",
    "        return \" -> \".join(stk)\n",
    "stk = MinStack()\n",
    "\n",
    "stk.push(2147483646)\n",
    "stk.push(2147483646)\n",
    "stk.push(2147483647)\n",
    "stk.top()\n",
    "stk.pop()\n",
    "print(stk.getMin())\n",
    "stk.pop()\n",
    "print(stk)\n"
   ]
  }
 ],
 "metadata": {
  "kernelspec": {
   "display_name": "source",
   "language": "python",
   "name": "python3"
  },
  "language_info": {
   "codemirror_mode": {
    "name": "ipython",
    "version": 3
   },
   "file_extension": ".py",
   "mimetype": "text/x-python",
   "name": "python",
   "nbconvert_exporter": "python",
   "pygments_lexer": "ipython3",
   "version": "3.11.7"
  }
 },
 "nbformat": 4,
 "nbformat_minor": 2
}
